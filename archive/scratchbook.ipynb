{
 "cells": [
  {
   "cell_type": "markdown",
   "metadata": {},
   "source": [
    "# Julia&ndash;C++ Verification"
   ]
  },
  {
   "cell_type": "code",
   "execution_count": 33,
   "metadata": {},
   "outputs": [
    {
     "name": "stdout",
     "output_type": "stream",
     "text": [
      "\n",
      "--------------- PARTICLE POSITION -------------------------------\n",
      "#\tX1\tX2\tX3\tsigma\n",
      "1\t0.00000\t0.00000\t0.00000\t0.75000\t\n",
      "2\t0.50000\t0.00000\t0.00000\t0.75000\t\n",
      "3\t1.00000\t0.00000\t0.00000\t0.75000\t\n",
      "4\t0.00000\t0.50000\t0.00000\t0.75000\t\n",
      "5\t0.50000\t0.50000\t0.00000\t0.75000\t\n",
      "6\t1.00000\t0.50000\t0.00000\t0.75000\t\n",
      "7\t0.00000\t1.00000\t0.00000\t0.75000\t\n",
      "8\t0.50000\t1.00000\t0.00000\t0.75000\t\n",
      "9\t1.00000\t1.00000\t0.00000\t0.75000\t\n",
      "10\t0.00000\t0.00000\t0.50000\t0.75000\t\n",
      "11\t0.50000\t0.00000\t0.50000\t0.75000\t\n",
      "12\t1.00000\t0.00000\t0.50000\t0.75000\t\n",
      "13\t0.00000\t0.50000\t0.50000\t0.75000\t\n",
      "14\t0.50000\t0.50000\t0.50000\t0.75000\t\n",
      "15\t1.00000\t0.50000\t0.50000\t0.75000\t\n",
      "16\t0.00000\t1.00000\t0.50000\t0.75000\t\n",
      "17\t0.50000\t1.00000\t0.50000\t0.75000\t\n",
      "18\t1.00000\t1.00000\t0.50000\t0.75000\t\n",
      "19\t0.00000\t0.00000\t1.00000\t0.75000\t\n",
      "20\t0.50000\t0.00000\t1.00000\t0.75000\t\n",
      "21\t1.00000\t0.00000\t1.00000\t0.75000\t\n",
      "22\t0.00000\t0.50000\t1.00000\t0.75000\t\n",
      "23\t0.50000\t0.50000\t1.00000\t0.75000\t\n",
      "24\t1.00000\t0.50000\t1.00000\t0.75000\t\n",
      "25\t0.00000\t1.00000\t1.00000\t0.75000\t\n",
      "26\t0.50000\t1.00000\t1.00000\t0.75000\t\n",
      "27\t1.00000\t1.00000\t1.00000\t0.75000\t\n",
      "\n",
      "--------------- U and J ----------------------------------------\n",
      "#\tU1\tU2\tU3\tJ1\tJ2\tJ3\tJ4\tJ5\tJ6\tJ7\tJ8\tJ9\n",
      "1\t0.00\t-0.00\t0.00\t-0.00\t1.15\t-1.15\t-1.15\t0.00\t1.15\t1.15\t-1.15\t0.00\t\n",
      "2\t0.00\t0.81\t-0.81\t0.00\t1.02\t-1.02\t-1.44\t0.56\t0.87\t1.44\t-0.87\t-0.56\t\n",
      "3\t0.00\t1.37\t-1.37\t-0.00\t0.22\t-0.22\t-1.15\t0.93\t0.22\t1.15\t-0.22\t-0.93\t\n",
      "4\t-0.81\t-0.00\t0.81\t-0.56\t1.44\t-0.87\t-1.02\t0.00\t1.02\t0.87\t-1.44\t0.56\t\n",
      "5\t-0.95\t0.95\t0.00\t0.00\t1.28\t-1.28\t-1.28\t-0.00\t1.28\t1.11\t-1.11\t0.00\t\n",
      "6\t-0.81\t1.61\t-0.81\t0.56\t0.31\t-0.87\t-1.02\t0.00\t1.02\t0.87\t-0.31\t-0.56\t\n",
      "7\t-1.37\t0.00\t1.37\t-0.93\t1.15\t-0.22\t-0.22\t-0.00\t0.22\t0.22\t-1.15\t0.93\t\n",
      "8\t-1.61\t0.81\t0.81\t0.00\t1.02\t-1.02\t-0.31\t-0.56\t0.87\t0.31\t-0.87\t0.56\t\n",
      "9\t-1.37\t1.37\t-0.00\t0.93\t0.22\t-1.15\t-0.22\t-0.93\t1.15\t0.22\t-0.22\t0.00\t\n",
      "10\t0.81\t-0.81\t0.00\t0.56\t0.87\t-1.44\t-0.87\t-0.56\t1.44\t1.02\t-1.02\t-0.00\t\n",
      "11\t0.95\t0.00\t-0.95\t0.00\t1.28\t-1.28\t-1.11\t0.00\t1.11\t1.28\t-1.28\t0.00\t\n",
      "12\t0.81\t0.81\t-1.61\t-0.56\t0.87\t-0.31\t-0.87\t0.56\t0.31\t1.02\t-1.02\t0.00\t\n",
      "13\t-0.00\t-0.95\t0.95\t0.00\t1.11\t-1.11\t-1.28\t0.00\t1.28\t1.28\t-1.28\t-0.00\t\n",
      "14\t0.00\t-0.00\t0.00\t0.00\t1.59\t-1.59\t-1.59\t0.00\t1.59\t1.59\t-1.59\t0.00\t\n",
      "15\t-0.00\t0.95\t-0.95\t-0.00\t1.11\t-1.11\t-1.28\t0.00\t1.28\t1.28\t-1.28\t0.00\t\n",
      "16\t-0.81\t-0.81\t1.61\t-0.56\t0.87\t-0.31\t-0.87\t0.56\t0.31\t1.02\t-1.02\t0.00\t\n",
      "17\t-0.95\t0.00\t0.95\t0.00\t1.28\t-1.28\t-1.11\t0.00\t1.11\t1.28\t-1.28\t0.00\t\n",
      "18\t-0.81\t0.81\t0.00\t0.56\t0.87\t-1.44\t-0.87\t-0.56\t1.44\t1.02\t-1.02\t-0.00\t\n",
      "19\t1.37\t-1.37\t0.00\t0.93\t0.22\t-1.15\t-0.22\t-0.93\t1.15\t0.22\t-0.22\t-0.00\t\n",
      "20\t1.61\t-0.81\t-0.81\t0.00\t1.02\t-1.02\t-0.31\t-0.56\t0.87\t0.31\t-0.87\t0.56\t\n",
      "21\t1.37\t-0.00\t-1.37\t-0.93\t1.15\t-0.22\t-0.22\t0.00\t0.22\t0.22\t-1.15\t0.93\t\n",
      "22\t0.81\t-1.61\t0.81\t0.56\t0.31\t-0.87\t-1.02\t0.00\t1.02\t0.87\t-0.31\t-0.56\t\n",
      "23\t0.95\t-0.95\t0.00\t0.00\t1.28\t-1.28\t-1.28\t0.00\t1.28\t1.11\t-1.11\t0.00\t\n",
      "24\t0.81\t0.00\t-0.81\t-0.56\t1.44\t-0.87\t-1.02\t-0.00\t1.02\t0.87\t-1.44\t0.56\t\n",
      "25\t0.00\t-1.37\t1.37\t-0.00\t0.22\t-0.22\t-1.15\t0.93\t0.22\t1.15\t-0.22\t-0.93\t\n",
      "26\t-0.00\t-0.81\t0.81\t0.00\t1.02\t-1.02\t-1.44\t0.56\t0.87\t1.44\t-0.87\t-0.56\t\n",
      "27\t0.00\t0.00\t0.00\t0.00\t1.15\t-1.15\t-1.15\t-0.00\t1.15\t1.15\t-1.15\t-0.00\t\n",
      "\n",
      "Samples:\t100\n",
      "min time:\t0.19 ms\n",
      "ave time:\t0.22 ms\n",
      "max time:\t0.42 ms\n",
      "hello, world\n"
     ]
    }
   ],
   "source": [
    "# Compile and run a 3x3x3 lattice\n",
    "macro bash_str(s) open(`bash`,\"w\",stdout) do io; print(io, s); end; end\n",
    "\n",
    "\n",
    "bash\"\"\"\n",
    "\n",
    "SRC=code\n",
    "BLD=$SRC/build\n",
    "\n",
    "g++ -std=c++14 -o $BLD/vortextest $SRC/vortextest.cpp\n",
    "$BLD/vortextest\n",
    "\"\"\""
   ]
  },
  {
   "cell_type": "code",
   "execution_count": 1,
   "metadata": {},
   "outputs": [
    {
     "data": {
      "text/plain": [
       "Main.CxxVortexTest"
      ]
     },
     "execution_count": 1,
     "metadata": {},
     "output_type": "execute_result"
    }
   ],
   "source": [
    "# Compile and load Cxx wrapper\n",
    "macro bash_str(s) open(`bash`,\"w\",stdout) do io; print(io, s); end; end\n",
    "\n",
    "bash\"\"\"\n",
    "\n",
    "SRC=/home/edoalvar/Dropbox/FLOWResearch/LabNotebook/Posts/juliacpp/code\n",
    "BLD=$SRC/build\n",
    "\n",
    "# Generates the compiled object libhello.cpp.o:\n",
    "c++ -DJULIA_ENABLE_THREADING -Dhello_EXPORTS \\\n",
    "-I/home/edoalvar/.julia/packages/CxxWrap/KcmSi/deps/usr/include \\\n",
    "-I/home/edoalvar/Programs/julia-1.0.3/include/julia/ \\\n",
    "-std=c++14 -fPIC -o $BLD/vortextest_jlcxx.cpp.o -c $SRC/vortextest_jlcxx.cpp\n",
    "\n",
    "# Generate the shared library libhello.so:\n",
    "c++  -fPIC  -std=c++14  \\\n",
    "-shared -Wl,-soname,vortextest_jlcxx.so \\\n",
    "-o $BLD/vortextest_jlcxx.so \\\n",
    "$BLD/vortextest_jlcxx.cpp.o \\\n",
    "-Wl,-rpath,: \\\n",
    "/home/edoalvar/.julia/packages/CxxWrap/KcmSi/deps/usr/lib/libcxxwrap_julia.so.0.5.1 \\\n",
    "/home/edoalvar/Programs/julia-1.0.3/lib/libjulia.so\n",
    "\n",
    "\"\"\"\n",
    "\n",
    "# Load the module and generate the functions\n",
    "module CxxVortexTest\n",
    "  using CxxWrap\n",
    "  @wrapmodule(\"code/build/vortextest_jlcxx\")\n",
    "\n",
    "  function __init__()\n",
    "    @initcxx\n",
    "  end\n",
    "end"
   ]
  },
  {
   "cell_type": "code",
   "execution_count": 2,
   "metadata": {},
   "outputs": [
    {
     "name": "stdout",
     "output_type": "stream",
     "text": [
      "Samples:\t100\n",
      "min time:\t0.201006 ms\n",
      "ave time:\t0.23217 ms\n",
      "max time:\t0.398896 ms\n"
     ]
    },
    {
     "data": {
      "text/plain": [
       "0.2010059952735901"
      ]
     },
     "execution_count": 2,
     "metadata": {},
     "output_type": "execute_result"
    }
   ],
   "source": [
    "ntests = 100                # Tests to run\n",
    "n = 3                       # Particles per edge\n",
    "lambda = 1.5                # Core overlap\n",
    "verbose = true\n",
    "\n",
    "CxxVortexTest.benchmarkP2P_wrap(ntests, n, Float32(lambda), verbose)"
   ]
  },
  {
   "cell_type": "code",
   "execution_count": 9,
   "metadata": {},
   "outputs": [
    {
     "name": "stdout",
     "output_type": "stream",
     "text": [
      "Samples:\t1000\n",
      "min time:\t4.43922 ms\n",
      "ave time:\t4.6219 ms\n",
      "max time:\t9.00731 ms\n"
     ]
    },
    {
     "data": {
      "text/plain": [
       "4.439218044281006"
      ]
     },
     "execution_count": 9,
     "metadata": {},
     "output_type": "execute_result"
    }
   ],
   "source": [
    "ntests = 1000                # Tests to run\n",
    "n = 5                       # Particles per edge\n",
    "lambda = 1.5                # Core overlap\n",
    "verbose = true\n",
    "\n",
    "CxxVortexTest.benchmarkP2P_wrap(ntests, n, Float32(lambda), verbose)"
   ]
  },
  {
   "cell_type": "code",
   "execution_count": 32,
   "metadata": {},
   "outputs": [
    {
     "data": {
      "text/plain": [
       "P2P_FINAL (generic function with 1 method)"
      ]
     },
     "execution_count": 32,
     "metadata": {},
     "output_type": "execute_result"
    }
   ],
   "source": [
    "using LinearAlgebra\n",
    "\n",
    "const const4 = 1/(4*pi)\n",
    "\n",
    "\"\"\"\n",
    "This is a particle type with properties that are specified\n",
    "as concrete types\n",
    "\"\"\"\n",
    "struct Particle{T}\n",
    "\n",
    "  # User inputs\n",
    "  X::Array{T, 1}                      # Position\n",
    "  Gamma::Array{T, 1}                  # Vectorial circulation\n",
    "  sigma::T                            # Smoothing radius\n",
    "\n",
    "  # Properties\n",
    "  U::Array{T, 1}                      # Velocity at particle\n",
    "  J::Array{T, 2}                      # Jacobian at particle J[i,j]=dUi/dxj\n",
    "\n",
    "end\n",
    "\n",
    "Particle{T}(X, Gamma, sigma) where {T} = Particle(X, Gamma, sigma, zeros(T,3), zeros(T, 3, 3))\n",
    "\n",
    "Base.zero(::Type{<:Particle{T}}) where {T} = Particle(zeros(T, 3), zeros(T, 3),\n",
    "                                                      zero(T),\n",
    "                                                      zeros(T, 3), zeros(T, 3, 3))\n",
    "\n",
    "\"Adds particles in a regular box lattice\"\n",
    "function generate_particles(PType, n, lambda; l=1, Gamma=ones(3))\n",
    "    \n",
    "    sigma = l/(n-1)*lambda\n",
    "    particles = fill(zero(PType), n^3)\n",
    "    \n",
    "    xs = range(0, stop=l, length=n)\n",
    "\n",
    "    # Adds particles in a regular lattice\n",
    "    ind = 1\n",
    "    for k in 1:n\n",
    "        for j in 1:n\n",
    "            for i in 1:n\n",
    "                X = [xs[i], xs[j], xs[k]]\n",
    "                particles[ind] = PType(X, Gamma, sigma)\n",
    "                ind += 1\n",
    "            end\n",
    "        end\n",
    "    end\n",
    "    \n",
    "    return particles\n",
    "end\n",
    "\n",
    "g_wnklmns(r) = r^3 * (r^2 + 2.5) / (r^2 + 1)^2.5\n",
    "dgdr_wnklmns(r) = 7.5 * r^2 / (r^2 + 1)^3.5\n",
    "\n",
    "function P2P_general(particles::Array{Particle{T}}, \n",
    "                     g::Function, dgdr::Function) where T\n",
    "\n",
    "    for Pi in particles \n",
    "        for Pj in particles    \n",
    "\n",
    "            dX = Pi.X - Pj.X\n",
    "            r = norm(dX)\n",
    "\n",
    "            if r != 0\n",
    "\n",
    "                # Regularizing function and deriv\n",
    "                gsgm = g(r/Pj.sigma)\n",
    "                dgsgmdr = dgdr(r/Pj.sigma)  \n",
    "\n",
    "                # K × Γp\n",
    "                crss = cross(-const4 * dX / r^3, Pj.Gamma) \n",
    "\n",
    "                # U = ∑g_σ(x-xp) * K(x-xp) × Γp\n",
    "                Pi.U[:] += gsgm * crss\n",
    "\n",
    "                # ∂u∂xj(x) = ∑[ ∂gσ∂xj(x−xp) * K(x−xp)×Γp + gσ(x−xp) * ∂K∂xj(x−xp)×Γp ]\n",
    "                for j in 1:3\n",
    "                Pi.J[:, j] += ( dX[j]/(Pj.sigma*r)*dgsgmdr * crss -\n",
    "                                  gsgm * 3*dX[j]/r^2*crss -\n",
    "                                  gsgm * const4/r^3 * \n",
    "                                  cross([i==j for i in 1:3], Pj.Gamma) )\n",
    "                end\n",
    "            end\n",
    "\n",
    "        end\n",
    "    end\n",
    "end\n",
    "\n",
    "function g_dgdr_wnklmns(r)\n",
    "  aux0 = (r^2 + 1)^2.5\n",
    "  \n",
    "  # Returns g, dgdr\n",
    "  return r^3 * (r^2 + 2.5) / aux0, 7.5 * r^2 / (aux0*(r^2 + 1))\n",
    "end\n",
    "\n",
    "function P2P_FINAL(particles::Array{Particle{T}}, g_dgdr::Function) where T\n",
    "\n",
    "  for Pi in particles\n",
    "    for Pj in particles\n",
    "      \n",
    "      dX1 = Pi.X[1] - Pj.X[1]\n",
    "      dX2 = Pi.X[2] - Pj.X[2]\n",
    "      dX3 = Pi.X[3] - Pj.X[3]\n",
    "      r = sqrt(dX1*dX1 + dX2*dX2 + dX3*dX3)\n",
    "            \n",
    "      if r != 0 \n",
    "\n",
    "          # Regularizing function and deriv\n",
    "          gsgm, dgsgmdr = g_dgdr(r/Pj.sigma)\n",
    "\n",
    "          # K × Γp\n",
    "          crss1 = -const4 / r^3 * ( dX2*Pj.Gamma[3] - dX3*Pj.Gamma[2] )\n",
    "          crss2 = -const4 / r^3 * ( dX3*Pj.Gamma[1] - dX1*Pj.Gamma[3] )\n",
    "          crss3 = -const4 / r^3 * ( dX1*Pj.Gamma[2] - dX2*Pj.Gamma[1] )\n",
    "\n",
    "          # U = ∑g_σ(x-xp) * K(x-xp) × Γp\n",
    "          Pi.U[1] += gsgm * crss1\n",
    "          Pi.U[2] += gsgm * crss2\n",
    "          Pi.U[3] += gsgm * crss3\n",
    "\n",
    "          # ∂u∂xj(x) = ∑[ ∂gσ∂xj(x−xp) * K(x−xp)×Γp + gσ(x−xp) * ∂K∂xj(x−xp)×Γp ]\n",
    "          aux = dgsgmdr/(Pj.sigma*r)* - 3*gsgm /r^2\n",
    "          # j=1\n",
    "          Pi.J[1, 1] += aux * crss1 * dX1\n",
    "          Pi.J[2, 1] += aux * crss2 * dX1\n",
    "          Pi.J[3, 1] += aux * crss3 * dX1\n",
    "          # j=2\n",
    "          Pi.J[1, 2] += aux * crss1 * dX2\n",
    "          Pi.J[2, 2] += aux * crss2 * dX2\n",
    "          Pi.J[3, 2] += aux * crss3 * dX2\n",
    "          # j=3\n",
    "          Pi.J[1, 3] += aux * crss1 * dX3\n",
    "          Pi.J[2, 3] += aux * crss2 * dX3\n",
    "          Pi.J[3, 3] += aux * crss3 * dX3\n",
    "\n",
    "          # Adds the Kronecker delta term\n",
    "          aux = - const4 * gsgm / r^3\n",
    "          # j=1\n",
    "          Pi.J[2, 1] -= aux * Pj.Gamma[3]\n",
    "          Pi.J[3, 1] += aux * Pj.Gamma[2]\n",
    "          # j=2\n",
    "          Pi.J[1, 2] += aux * Pj.Gamma[3]\n",
    "          Pi.J[3, 2] -= aux * Pj.Gamma[1]\n",
    "          # j=3\n",
    "          Pi.J[1, 3] -= aux * Pj.Gamma[2]\n",
    "          Pi.J[2, 3] += aux * Pj.Gamma[1]\n",
    "      end\n",
    "\n",
    "    end\n",
    "  end\n",
    "end"
   ]
  },
  {
   "cell_type": "code",
   "execution_count": 27,
   "metadata": {
    "scrolled": false
   },
   "outputs": [
    {
     "name": "stdout",
     "output_type": "stream",
     "text": [
      "--------------- PARTICLE POSITION -------------------------------\n",
      "#\tX1\tX2\tX3\tsigma\n",
      "1\t0.0\t0.0\t0.0\t0.75\n",
      "2\t0.5\t0.0\t0.0\t0.75\n",
      "3\t1.0\t0.0\t0.0\t0.75\n",
      "4\t0.0\t0.5\t0.0\t0.75\n",
      "5\t0.5\t0.5\t0.0\t0.75\n",
      "6\t1.0\t0.5\t0.0\t0.75\n",
      "7\t0.0\t1.0\t0.0\t0.75\n",
      "8\t0.5\t1.0\t0.0\t0.75\n",
      "9\t1.0\t1.0\t0.0\t0.75\n",
      "10\t0.0\t0.0\t0.5\t0.75\n",
      "11\t0.5\t0.0\t0.5\t0.75\n",
      "12\t1.0\t0.0\t0.5\t0.75\n",
      "13\t0.0\t0.5\t0.5\t0.75\n",
      "14\t0.5\t0.5\t0.5\t0.75\n",
      "15\t1.0\t0.5\t0.5\t0.75\n",
      "16\t0.0\t1.0\t0.5\t0.75\n",
      "17\t0.5\t1.0\t0.5\t0.75\n",
      "18\t1.0\t1.0\t0.5\t0.75\n",
      "19\t0.0\t0.0\t1.0\t0.75\n",
      "20\t0.5\t0.0\t1.0\t0.75\n",
      "21\t1.0\t0.0\t1.0\t0.75\n",
      "22\t0.0\t0.5\t1.0\t0.75\n",
      "23\t0.5\t0.5\t1.0\t0.75\n",
      "24\t1.0\t0.5\t1.0\t0.75\n",
      "25\t0.0\t1.0\t1.0\t0.75\n",
      "26\t0.5\t1.0\t1.0\t0.75\n",
      "27\t1.0\t1.0\t1.0\t0.75\n",
      "\n",
      "--------------- U and J -----------------------------------------\n",
      "#\tU1\tU2\tU3\tJ1\tJ2\tJ3\tJ4\tJ5\tJ6\tJ7\tJ8\tJ9\n",
      "1\t0.0\t-0.0\t0.0\t-0.0\t1.15\t-1.15\t-1.15\t0.0\t1.15\t1.15\t-1.15\t-0.0\n",
      "2\t0.0\t0.81\t-0.81\t0.0\t1.02\t-1.02\t-1.44\t0.56\t0.87\t1.44\t-0.87\t-0.56\n",
      "3\t0.0\t1.37\t-1.37\t-0.0\t0.22\t-0.22\t-1.15\t0.93\t0.22\t1.15\t-0.22\t-0.93\n",
      "4\t-0.81\t-0.0\t0.81\t-0.56\t1.44\t-0.87\t-1.02\t-0.0\t1.02\t0.87\t-1.44\t0.56\n",
      "5\t-0.95\t0.95\t0.0\t0.0\t1.28\t-1.28\t-1.28\t-0.0\t1.28\t1.11\t-1.11\t0.0\n",
      "6\t-0.81\t1.61\t-0.81\t0.56\t0.31\t-0.87\t-1.02\t0.0\t1.02\t0.87\t-0.31\t-0.56\n",
      "7\t-1.37\t0.0\t1.37\t-0.93\t1.15\t-0.22\t-0.22\t0.0\t0.22\t0.22\t-1.15\t0.93\n",
      "8\t-1.61\t0.81\t0.81\t0.0\t1.02\t-1.02\t-0.31\t-0.56\t0.87\t0.31\t-0.87\t0.56\n",
      "9\t-1.37\t1.37\t-0.0\t0.93\t0.22\t-1.15\t-0.22\t-0.93\t1.15\t0.22\t-0.22\t-0.0\n",
      "10\t0.81\t-0.81\t0.0\t0.56\t0.87\t-1.44\t-0.87\t-0.56\t1.44\t1.02\t-1.02\t0.0\n",
      "11\t0.95\t0.0\t-0.95\t0.0\t1.28\t-1.28\t-1.11\t0.0\t1.11\t1.28\t-1.28\t0.0\n",
      "12\t0.81\t0.81\t-1.61\t-0.56\t0.87\t-0.31\t-0.87\t0.56\t0.31\t1.02\t-1.02\t-0.0\n",
      "13\t-0.0\t-0.95\t0.95\t-0.0\t1.11\t-1.11\t-1.28\t0.0\t1.28\t1.28\t-1.28\t-0.0\n",
      "14\t0.0\t-0.0\t0.0\t0.0\t1.59\t-1.59\t-1.59\t0.0\t1.59\t1.59\t-1.59\t0.0\n",
      "15\t-0.0\t0.95\t-0.95\t0.0\t1.11\t-1.11\t-1.28\t0.0\t1.28\t1.28\t-1.28\t0.0\n",
      "16\t-0.81\t-0.81\t1.61\t-0.56\t0.87\t-0.31\t-0.87\t0.56\t0.31\t1.02\t-1.02\t0.0\n",
      "17\t-0.95\t0.0\t0.95\t0.0\t1.28\t-1.28\t-1.11\t0.0\t1.11\t1.28\t-1.28\t0.0\n",
      "18\t-0.81\t0.81\t0.0\t0.56\t0.87\t-1.44\t-0.87\t-0.56\t1.44\t1.02\t-1.02\t0.0\n",
      "19\t1.37\t-1.37\t0.0\t0.93\t0.22\t-1.15\t-0.22\t-0.93\t1.15\t0.22\t-0.22\t0.0\n",
      "20\t1.61\t-0.81\t-0.81\t0.0\t1.02\t-1.02\t-0.31\t-0.56\t0.87\t0.31\t-0.87\t0.56\n",
      "21\t1.37\t-0.0\t-1.37\t-0.93\t1.15\t-0.22\t-0.22\t-0.0\t0.22\t0.22\t-1.15\t0.93\n",
      "22\t0.81\t-1.61\t0.81\t0.56\t0.31\t-0.87\t-1.02\t0.0\t1.02\t0.87\t-0.31\t-0.56\n",
      "23\t0.95\t-0.95\t0.0\t0.0\t1.28\t-1.28\t-1.28\t0.0\t1.28\t1.11\t-1.11\t0.0\n",
      "24\t0.81\t0.0\t-0.81\t-0.56\t1.44\t-0.87\t-1.02\t0.0\t1.02\t0.87\t-1.44\t0.56\n",
      "25\t0.0\t-1.37\t1.37\t0.0\t0.22\t-0.22\t-1.15\t0.93\t0.22\t1.15\t-0.22\t-0.93\n",
      "26\t-0.0\t-0.81\t0.81\t0.0\t1.02\t-1.02\t-1.44\t0.56\t0.87\t1.44\t-0.87\t-0.56\n",
      "27\t0.0\t0.0\t0.0\t0.0\t1.15\t-1.15\t-1.15\t-0.0\t1.15\t1.15\t-1.15\t0.0\n"
     ]
    }
   ],
   "source": [
    "ntests = 100                # Tests to run\n",
    "n = 3                       # Particles per edge\n",
    "lambda = 1.5                # Core overlap\n",
    "verbose = true\n",
    "\n",
    "particles = generate_particles(Particle{Float64}, n, lambda)\n",
    "P2P_general(particles, g_wnklmns, dgdr_wnklmns)\n",
    "\n",
    "println(\"--------------- PARTICLE POSITION -------------------------------\")\n",
    "println(\"#\\tX1\\tX2\\tX3\\tsigma\")\n",
    "for (i, P) in enumerate(particles)\n",
    "    println(\"$i\\t$(P.X[1])\\t$(P.X[2])\\t$(P.X[3])\\t$(P.sigma)\")\n",
    "end\n",
    "\n",
    "\n",
    "println(\"\\n--------------- U and J -----------------------------------------\")\n",
    "println(\"#\\tU1\\tU2\\tU3\\tJ1\\tJ2\\tJ3\\tJ4\\tJ5\\tJ6\\tJ7\\tJ8\\tJ9\")\n",
    "for (i, P) in enumerate(particles)\n",
    "    print(\"$i\")\n",
    "    for u in P.U; print(\"\\t$(round(u, digits=2))\"); end;\n",
    "    for j in P.J; print(\"\\t$(round(j, digits=2))\"); end;\n",
    "    println(\"\")\n",
    "end"
   ]
  },
  {
   "cell_type": "code",
   "execution_count": 36,
   "metadata": {},
   "outputs": [
    {
     "data": {
      "text/plain": [
       "false"
      ]
     },
     "execution_count": 36,
     "metadata": {},
     "output_type": "execute_result"
    }
   ],
   "source": [
    "isbits(particles)"
   ]
  },
  {
   "cell_type": "code",
   "execution_count": 30,
   "metadata": {},
   "outputs": [
    {
     "data": {
      "text/plain": [
       "BenchmarkTools.Trial: \n",
       "  memory estimate:  2.65 MiB\n",
       "  allocs estimate:  32319\n",
       "  --------------\n",
       "  minimum time:     743.877 μs (0.00% GC)\n",
       "  median time:      847.390 μs (0.00% GC)\n",
       "  mean time:        1.093 ms (15.60% GC)\n",
       "  maximum time:     34.148 ms (96.83% GC)\n",
       "  --------------\n",
       "  samples:          4560\n",
       "  evals/sample:     1"
      ]
     },
     "execution_count": 30,
     "metadata": {},
     "output_type": "execute_result"
    }
   ],
   "source": [
    "using BenchmarkTools\n",
    "\n",
    "@benchmark P2P_general(particles, g_wnklmns, dgdr_wnklmns)"
   ]
  },
  {
   "cell_type": "code",
   "execution_count": 35,
   "metadata": {},
   "outputs": [
    {
     "data": {
      "text/plain": [
       "BenchmarkTools.Trial: \n",
       "  memory estimate:  0 bytes\n",
       "  allocs estimate:  0\n",
       "  --------------\n",
       "  minimum time:     57.611 μs (0.00% GC)\n",
       "  median time:      58.672 μs (0.00% GC)\n",
       "  mean time:        61.466 μs (0.00% GC)\n",
       "  maximum time:     171.751 μs (0.00% GC)\n",
       "  --------------\n",
       "  samples:          10000\n",
       "  evals/sample:     1"
      ]
     },
     "execution_count": 35,
     "metadata": {},
     "output_type": "execute_result"
    }
   ],
   "source": [
    "using BenchmarkTools\n",
    "\n",
    "@benchmark P2P_FINAL(particles, g_dgdr_wnklmns)"
   ]
  },
  {
   "cell_type": "markdown",
   "metadata": {},
   "source": [
    "# Speeding up"
   ]
  },
  {
   "cell_type": "code",
   "execution_count": 123,
   "metadata": {},
   "outputs": [
    {
     "data": {
      "text/plain": [
       "P2P_preout (generic function with 3 methods)"
      ]
     },
     "execution_count": 123,
     "metadata": {},
     "output_type": "execute_result"
    }
   ],
   "source": [
    "\n",
    "struct ParticleNoArr{T}\n",
    "\n",
    "  # User inputs\n",
    "  X1::T\n",
    "  X2::T\n",
    "  X3::T\n",
    "  Gamma1::T\n",
    "  Gamma2::T\n",
    "  Gamma3::T\n",
    "  sigma::T\n",
    "\n",
    "end\n",
    "\n",
    "Base.zero(::Type{<:ParticleNoArr{T}}) where {T} = ParticleNoArr(zeros(T, 7)...)\n",
    "ParticleNoArr{T}(X, Gamma, sigma) where T = ParticleNoArr(X..., Gamma..., sigma)\n",
    "\n",
    "\n",
    "function P2P_preout(particles::Array{ParticleNoArr{T}}, g_dgdr::Function, \n",
    "                                    U::Array{T, 2}, J::Array{T, 3}) where T\n",
    "\n",
    "  for (i, Pi) in enumerate(particles)\n",
    "    @simd for Pj in particles\n",
    "            \n",
    "      @fastmath @inbounds begin\n",
    "      \n",
    "          dX1 = Pi.X1 - Pj.X1\n",
    "          dX2 = Pi.X2 - Pj.X2\n",
    "          dX3 = Pi.X3 - Pj.X3\n",
    "          r = sqrt(dX1*dX1 + dX2*dX2 + dX3*dX3)\n",
    "\n",
    "          if r != 0 \n",
    "\n",
    "              # Regularizing function and deriv\n",
    "              gsgm, dgsgmdr = g_dgdr(r/Pj.sigma)\n",
    "\n",
    "              # K × Γp\n",
    "              crss1 = -const4 / r^3 * ( dX2*Pj.Gamma3 - dX3*Pj.Gamma2 )\n",
    "              crss2 = -const4 / r^3 * ( dX3*Pj.Gamma1 - dX1*Pj.Gamma3 )\n",
    "              crss3 = -const4 / r^3 * ( dX1*Pj.Gamma2 - dX2*Pj.Gamma1 )\n",
    "\n",
    "              # U = ∑g_σ(x-xp) * K(x-xp) × Γp\n",
    "              U[1, i] += gsgm * crss1\n",
    "              U[2, i] += gsgm * crss2\n",
    "              U[3, i] += gsgm * crss3\n",
    "\n",
    "              # ∂u∂xj(x) = ∑[ ∂gσ∂xj(x−xp) * K(x−xp)×Γp + gσ(x−xp) * ∂K∂xj(x−xp)×Γp ]\n",
    "              aux = dgsgmdr/(Pj.sigma*r)* - 3*gsgm /r^2\n",
    "              # j=1\n",
    "              J[1, 1, i] += aux * crss1 * dX1\n",
    "              J[2, 1, i] += aux * crss2 * dX1\n",
    "              J[3, 1, i] += aux * crss3 * dX1\n",
    "              # j=2\n",
    "              J[1, 2, i] += aux * crss1 * dX2\n",
    "              J[2, 2, i] += aux * crss2 * dX2\n",
    "              J[3, 2, i] += aux * crss3 * dX2\n",
    "              # j=3\n",
    "              J[1, 3, i] += aux * crss1 * dX3\n",
    "              J[2, 3, i] += aux * crss2 * dX3\n",
    "              J[3, 3, i] += aux * crss3 * dX3\n",
    "\n",
    "              # Adds the Kronecker delta term\n",
    "              aux = - const4 * gsgm / r^3\n",
    "              # j=1\n",
    "              J[2, 1, i] -= aux * Pj.Gamma3\n",
    "              J[3, 1, i] += aux * Pj.Gamma2\n",
    "              # j=2\n",
    "              J[1, 2, i] += aux * Pj.Gamma3\n",
    "              J[3, 2, i] -= aux * Pj.Gamma1\n",
    "              # j=3\n",
    "              J[1, 3, i] -= aux * Pj.Gamma2\n",
    "              J[2, 3, i] += aux * Pj.Gamma1\n",
    "          end\n",
    "      end\n",
    "    end\n",
    "  end\n",
    "end\n"
   ]
  },
  {
   "cell_type": "code",
   "execution_count": 52,
   "metadata": {},
   "outputs": [
    {
     "data": {
      "text/plain": [
       "false"
      ]
     },
     "execution_count": 52,
     "metadata": {},
     "output_type": "execute_result"
    }
   ],
   "source": [
    "particles = generate_particles(ParticleNoArr{Float64}, n, lambda)\n",
    "\n",
    "isbits(particles)"
   ]
  },
  {
   "cell_type": "code",
   "execution_count": 53,
   "metadata": {},
   "outputs": [
    {
     "data": {
      "text/plain": [
       "true"
      ]
     },
     "execution_count": 53,
     "metadata": {},
     "output_type": "execute_result"
    }
   ],
   "source": [
    "isbits(particles[1])"
   ]
  },
  {
   "cell_type": "code",
   "execution_count": 124,
   "metadata": {},
   "outputs": [
    {
     "data": {
      "text/plain": [
       "BenchmarkTools.Trial: \n",
       "  memory estimate:  0 bytes\n",
       "  allocs estimate:  0\n",
       "  --------------\n",
       "  minimum time:     52.186 μs (0.00% GC)\n",
       "  median time:      56.988 μs (0.00% GC)\n",
       "  mean time:        63.448 μs (0.00% GC)\n",
       "  maximum time:     186.268 μs (0.00% GC)\n",
       "  --------------\n",
       "  samples:          10000\n",
       "  evals/sample:     1"
      ]
     },
     "execution_count": 124,
     "metadata": {},
     "output_type": "execute_result"
    }
   ],
   "source": [
    "U = zeros(Float64, 3, length(particles))\n",
    "J = zeros(Float64, 3, 3, length(particles))\n",
    "@benchmark P2P_preout(particles, g_dgdr_wnklmns, U, J)"
   ]
  }
 ],
 "metadata": {
  "@webio": {
   "lastCommId": null,
   "lastKernelId": null
  },
  "hide_input": false,
  "kernelspec": {
   "display_name": "Julia 1.0.3",
   "language": "julia",
   "name": "julia-1.0"
  },
  "language_info": {
   "file_extension": ".jl",
   "mimetype": "application/julia",
   "name": "julia",
   "version": "1.0.3"
  }
 },
 "nbformat": 4,
 "nbformat_minor": 2
}
