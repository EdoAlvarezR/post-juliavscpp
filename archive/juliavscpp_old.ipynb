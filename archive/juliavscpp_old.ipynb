{
 "cells": [
  {
   "cell_type": "markdown",
   "metadata": {},
   "source": [
    "# Making Julia as Fast as C++"
   ]
  },
  {
   "cell_type": "code",
   "execution_count": 1,
   "metadata": {
    "hideCode": false,
    "hidePrompt": false
   },
   "outputs": [
    {
     "data": {
      "text/plain": [
       "@bash_str (macro with 1 method)"
      ]
     },
     "execution_count": 1,
     "metadata": {},
     "output_type": "execute_result"
    }
   ],
   "source": [
    "using CPUTime\n",
    "using TimerOutputs\n",
    "using LinearAlgebra\n",
    "using BenchmarkTools\n",
    "using Printf\n",
    "\n",
    "macro bash_str(s) open(`bash`,\"w\",stdout) do io; print(io, s); end; end"
   ]
  },
  {
   "cell_type": "markdown",
   "metadata": {},
   "source": [
    "The myth says that Julia can achieve the same computing performance than a compiled language like C++ and FORTRAN. I've spent the last few days trying to optimize a piece of my code that was a hardcore bottle neck, and here I'm summarizing my conclusions and tips for speeding Julia up."
   ]
  },
  {
   "cell_type": "markdown",
   "metadata": {
    "hideCode": false,
    "hidePrompt": false
   },
   "source": [
    "# Achieving C++ Performance in Julia"
   ]
  },
  {
   "cell_type": "markdown",
   "metadata": {
    "heading_collapsed": true,
    "hideCode": false,
    "hidePrompt": false
   },
   "source": [
    "## Problem Definition"
   ]
  },
  {
   "cell_type": "markdown",
   "metadata": {
    "hidden": true,
    "hideCode": false,
    "hidePrompt": false
   },
   "source": [
    "In the vortex particle method we are interested in calculating the velocity and Jacobian of the velocity that a field of N particles induces at an arbitrary position $\\mathbf{x}$, calculated as\n",
    "\n",
    "\\begin{align}\n",
    "    \\bullet \\quad &\n",
    "\t\t{\\bf u}\\left( {\\bf x} \\right) = \\sum\\limits_p^N g_\\sigma\\left( {\\bf x}-{\\bf x}_p \\right)\n",
    "\t\t\t\t\t\t{\\bf K}\\left( {\\bf x}-{\\bf x}_p \\right)   \\times\n",
    "\t\t\t            \\boldsymbol\\Gamma_p \n",
    "    \\\\\n",
    "    \\bullet \\quad &\n",
    "        \\frac{\\partial {\\bf u}}{\\partial x_j}\\left( {\\bf x} \\right) \n",
    "        = \\sum\\limits_p^N \\left[\n",
    "            \\left(\n",
    "                \\frac{1}{\\sigma }\n",
    "                 \\frac{\\Delta x_j}{\\Vert \\Delta \\mathbf{x} \\Vert}\n",
    "                 \\frac{\\partial g}{\\partial r}\n",
    "                 \\left( \n",
    "                             \\frac{\\Vert \\Delta\\mathbf{x} \\Vert}{\\sigma} \n",
    "                 \\right) -\n",
    "                 3 g_\\sigma\\left( \\Delta{\\bf x} \\right) \n",
    "                 \\frac{\\Delta x_j}{\\Vert \\Delta\\mathbf{x} \\Vert^2} \n",
    "            \\right)\n",
    "            {\\bf K}\\left( \\Delta\\mathbf{x} \\right)  \\times \\boldsymbol\\Gamma_p -\n",
    "            \\frac{g_\\sigma\\left( \\Delta{\\bf x} \\right) }{4\\pi \\Vert \\Delta{\\bf x} \\Vert^3}\n",
    "            \\delta_{ij} \\times \\boldsymbol\\Gamma_p\n",
    "        \\right]\n",
    ",\\end{align}\n",
    "\n",
    "with ${\\bf K}$ the singular Newtonian kernel ${\\bf K}\\left( {\\bf x}\\right)=-\\frac{{\\bf x}}{4\\pi \\Vert{\\bf x}\\Vert^3}$, $g_\\sigma$ a regularizing function of smoothing radius $\\sigma$ as $g_\\sigma(\\mathbf{x}) = g\\left( \\frac{\\Vert \\mathbf{x} \\Vert}{\\sigma} \\right)$, and $\\mathbf{x}_p$ and $\\boldsymbol{\\Gamma}_p$ the position and vectorial strength of the $p$-th particle, respectively. Furthermore, the governing equations of the method require evaluating the velocity $\\mathbf{u}$ and its Jacobian $\\mathbf{J}$ that the collection of particles induces at the position of every individual particle, leading to a computational complexity $\\mathcal{O}(N^2)$."
   ]
  },
  {
   "cell_type": "markdown",
   "metadata": {
    "hidden": true,
    "hideCode": false,
    "hidePrompt": false
   },
   "source": [
    "Choosing Winckelmans' regularizing kernel \n",
    "\\begin{align}\n",
    "    \\bullet \\quad &\n",
    "        g(r) = r^3 \\frac{r^2 + 5/2}{\\left( r^2 + 1 \\right)^{5/2}}\n",
    "    \\\\\n",
    "    \\bullet \\quad &\n",
    "        \\frac{\\partial g}{\\partial r} (r) = \\frac{15}{2} \n",
    "            \\frac{r^2}{\\left( r^2 + 1 \\right)^{7/2}}\n",
    ",\\end{align}\n",
    "the above equations are implemented in C++ as follows:"
   ]
  },
  {
   "cell_type": "markdown",
   "metadata": {
    "hidden": true,
    "hideCode": false,
    "hidePrompt": false
   },
   "source": [
    "```c++\n",
    "void P2P(Cell * Ci, Cell * Cj) {\n",
    "  real_t const4 = 1/(4*M_PI);\n",
    "  Particle * Pi = Ci->particle;\n",
    "  Particle * Pj = Cj->particle;\n",
    "\n",
    "  for (int i=0; i<Ci->numParticles; i++) {\n",
    "    vec3 U = 0;\n",
    "    vec9 J = 0;\n",
    "    \n",
    "    for (int j=0; j<Cj->numParticles; j++) {\n",
    "      vec3 dX = Pi[i].X - Pj[j].X;\n",
    "      real_t r = std::pow(dX[0]*dX[0] + dX[1]*dX[1] + dX[2]*dX[2], 0.5) + EPS;\n",
    "      real_t ros = r/Pj[j].sigma;\n",
    "\n",
    "      // u(x) = ∑g_σ(x−xp) K(x−xp) × Γp\n",
    "      real_t aux0 = std::pow(ros*ros + 1.0, 2.5);\n",
    "      real_t g_sgm = ros*ros*ros * (ros*ros + 2.5) / aux0;\n",
    "      real_t dgdr = 7.5 * ros*ros / ( aux0 * (ros*ros + 1.0) );\n",
    "      real_t aux = (- const4 / r*r*r) * g_sgm;\n",
    "      U[0] += ( dX[1]*Pj[j].q[2] - dX[2]*Pj[j].q[1] ) * aux;\n",
    "      U[1] += ( dX[2]*Pj[j].q[0] - dX[0]*Pj[j].q[2] ) * aux;\n",
    "      U[2] += ( dX[0]*Pj[j].q[1] - dX[1]*Pj[j].q[0] ) * aux;\n",
    "\n",
    "      // ∂u∂xj(x) = ∑[ ∂gσ∂xj(x−xp) * K(x−xp)×Γp + gσ(x−xp) * ∂K∂xj(x−xp)×Γp ]\n",
    "      aux = (- const4 / r*r*r) * (dgdr/(Pj[j].sigma*r) - 3.0*g_sgm/r*r);\n",
    "      for (int k=0; k<3; k++){\n",
    "        J[0 + k] += ( dX[1]*Pj[j].q[2] - dX[2]*Pj[j].q[1] )* aux*dX[k];\n",
    "        J[3 + k] += ( dX[2]*Pj[j].q[0] - dX[0]*Pj[j].q[2] )* aux*dX[k];\n",
    "        J[6 + k] += ( dX[0]*Pj[j].q[1] - dX[1]*Pj[j].q[0] )* aux*dX[k];\n",
    "      }\n",
    "\n",
    "      // Adds the Kronecker delta term\n",
    "      aux = - const4 * g_sgm / r*r*r;\n",
    "      // k=1\n",
    "      J[3 + 0] -= aux * Pj[j].q[2];\n",
    "      J[6 + 0] += aux * Pj[j].q[1];\n",
    "      // k=2\n",
    "      J[0 + 1] += aux * Pj[j].q[2];\n",
    "      J[6 + 1] -= aux * Pj[j].q[0];\n",
    "      // k=3\n",
    "      J[0 + 2] -= aux * Pj[j].q[1];\n",
    "      J[3 + 2] += aux * Pj[j].q[0];\n",
    "    }\n",
    "\n",
    "    Pi[i].p += U;\n",
    "    Pi[i].J += J;\n",
    "  }\n",
    "}\n",
    "```"
   ]
  },
  {
   "cell_type": "markdown",
   "metadata": {
    "hidden": true,
    "hideCode": false,
    "hidePrompt": false
   },
   "source": [
    "Ten function calls of  this `P2P` function on 125 particles in **C++ results in an average wall-clock time of 6 ms (0.6 ms per P2P call)** on my Dell Latitude 5580 laptop (Intel® Core™ i7-7820HQ CPU @ 2.90GHz × 8 ) in only one process:"
   ]
  },
  {
   "cell_type": "code",
   "execution_count": 42,
   "metadata": {
    "hidden": true,
    "hideCode": false,
    "hidePrompt": false
   },
   "outputs": [
    {
     "name": "stdout",
     "output_type": "stream",
     "text": [
      "10 P2P function calls on 125 particles\n",
      "\tCPU time used: 0.0010000000 ms\n",
      "\tWall clock time passed: 5.8687950000 ms\n",
      "\n",
      "\t---------------------------------------------------------\n",
      "\t-\telapsed Wall clock time: 0.0058687950 seconds\n",
      "\t---------------------------------------------------------\n"
     ]
    }
   ],
   "source": [
    "bash\"\"\"\n",
    "./code/P2Pcxx\n",
    "\"\"\""
   ]
  },
  {
   "cell_type": "markdown",
   "metadata": {
    "hideCode": false,
    "hidePrompt": false
   },
   "source": [
    "## Julia Setup"
   ]
  },
  {
   "cell_type": "markdown",
   "metadata": {
    "hideCode": false,
    "hidePrompt": false
   },
   "source": [
    "In order to proceed to code this in Julia, first we define a Particle type to store all the information. Here are two versions of the Particle type, one that we will see is very inneficient and the other one that achieves better computational efficiency by explicitly declaring its properties as concrete types:"
   ]
  },
  {
   "cell_type": "code",
   "execution_count": 3,
   "metadata": {
    "hideCode": false,
    "hidePrompt": false,
    "scrolled": true
   },
   "outputs": [
    {
     "data": {
      "text/plain": [
       "ParticleConcrete"
      ]
     },
     "execution_count": 3,
     "metadata": {},
     "output_type": "execute_result"
    }
   ],
   "source": [
    "\"\"\"\n",
    "This is a particle type with properties of ambiguous types\n",
    "\"\"\"\n",
    "struct ParticleAmbiguous\n",
    "\n",
    "  # User inputs\n",
    "  X                                       # Position\n",
    "  Gamma                                   # Vectorial circulation\n",
    "  sigma                                   # Smoothing radius\n",
    "\n",
    "  # Properties\n",
    "  U                                       # Velocity at particle\n",
    "  J                                       # Jacobian at particle J[i,j]=dUi/dxj\n",
    "\n",
    "\n",
    "  ParticleAmbiguous(\n",
    "            X, Gamma, sigma;\n",
    "            U=zeros(3), J=zeros(3,3)\n",
    "           ) = new(\n",
    "             X, Gamma, sigma,\n",
    "             U, J\n",
    "           )\n",
    "end\n",
    "\n",
    "\"\"\"\n",
    "This is a particle type with properties that are specified\n",
    "as concrete types\n",
    "\"\"\"\n",
    "struct ParticleConcrete\n",
    "\n",
    "  # User inputs\n",
    "  X::Array{Float64, 1}                      # Position\n",
    "  Gamma::Array{Float64, 1}                  # Vectorial circulation\n",
    "  sigma::Float64                            # Smoothing radius\n",
    "\n",
    "  # Properties\n",
    "  U::Array{Float64, 1}                      # Velocity at particle\n",
    "  J::Array{Float64, 2}                      # Jacobian at particle J[i,j]=dUi/dxj\n",
    "\n",
    "\n",
    "  ParticleConcrete(\n",
    "            X, Gamma, sigma;\n",
    "            U=zeros(Float64, 3), J=zeros(Float64, 3,3)\n",
    "           ) = new(\n",
    "             X, Gamma, sigma,\n",
    "             U, J\n",
    "           )\n",
    "end"
   ]
  },
  {
   "cell_type": "markdown",
   "metadata": {
    "hideCode": false,
    "hidePrompt": false
   },
   "source": [
    "This is a function that creates and adds particles to an array in a box lattice pattern:"
   ]
  },
  {
   "cell_type": "code",
   "execution_count": 4,
   "metadata": {
    "hideCode": false,
    "hidePrompt": false
   },
   "outputs": [
    {
     "data": {
      "text/plain": [
       "add_lattice!"
      ]
     },
     "execution_count": 4,
     "metadata": {},
     "output_type": "execute_result"
    }
   ],
   "source": [
    "\"Adds particles in a regular box lattice\"\n",
    "function add_lattice!(particles; nx=5, ny=5, nz=5, lx=1, ly=1, lz=1, \n",
    "                                  C=zeros(3),\n",
    "                                  lambda=1.5, Gamma=ones(3))\n",
    "  # Parameters\n",
    "  # nx, ny, nz = 5, 5, 5          # Particles in each dimension\n",
    "  # lx, ly, lz = 1, 1, 1          # Length of box in each dimension\n",
    "  # C = zeros(3)                  # Box center\n",
    "  # lambda = 1.5                  # Particle overlap in x-direction\n",
    "\n",
    "  # Adds particles in a regular lattice\n",
    "  xs = range(0, stop=lx, length=nx) .- lx/2 .+ C[1]\n",
    "  ys = range(0, stop=ly, length=ny) .- ly/2 .+ C[2]\n",
    "  zs = range(0, stop=lz, length=nz) .- lz/2 .+ C[3]\n",
    "  for k in 1:nz\n",
    "    for j in 1:ny\n",
    "      for i in 1:nx\n",
    "        X = [xs[i], ys[j], zs[k]]\n",
    "        sigma = lx/nx*lambda\n",
    "        push!(particles, eltype(particles)(X, Gamma, sigma))\n",
    "      end\n",
    "    end\n",
    "  end\n",
    "end"
   ]
  },
  {
   "cell_type": "markdown",
   "metadata": {
    "hideCode": false,
    "hidePrompt": false
   },
   "source": [
    "Here we create arrays of 125 particles arranged in a 5x5x5 box:"
   ]
  },
  {
   "cell_type": "code",
   "execution_count": 5,
   "metadata": {
    "collapsed": true,
    "hideCode": false,
    "hidePrompt": false
   },
   "outputs": [],
   "source": [
    "n = 5\n",
    "\n",
    "particlesA = ParticleAmbiguous[]\n",
    "add_lattice!(particlesA; nx=n, ny=n, nz=n)\n",
    "\n",
    "particlesC = ParticleConcrete[]\n",
    "add_lattice!(particlesC; nx=n, ny=n, nz=n)"
   ]
  },
  {
   "cell_type": "markdown",
   "metadata": {
    "hideCode": false,
    "hidePrompt": false
   },
   "source": [
    "and here are some constant values we will reuse later on:"
   ]
  },
  {
   "cell_type": "code",
   "execution_count": 6,
   "metadata": {
    "collapsed": true,
    "hideCode": false,
    "hidePrompt": false
   },
   "outputs": [],
   "source": [
    "const const4 = 1/(4*pi)\n",
    "const EPS = 1e-14;"
   ]
  },
  {
   "cell_type": "markdown",
   "metadata": {
    "hideCode": false,
    "hidePrompt": false
   },
   "source": [
    "Here we will store our benchmark results and we define a function for comparing times:"
   ]
  },
  {
   "cell_type": "code",
   "execution_count": 7,
   "metadata": {
    "hideCode": false,
    "hidePrompt": false
   },
   "outputs": [
    {
     "data": {
      "text/plain": [
       "printcomparison (generic function with 1 method)"
      ]
     },
     "execution_count": 7,
     "metadata": {},
     "output_type": "execute_result"
    }
   ],
   "source": [
    "benchtime = Dict{Union{Function, String}, Float64}( \"C++\" => 5.844/10);\n",
    "\n",
    "global compfun = nothing\n",
    "global compfunargs = nothing\n",
    "\n",
    "function compare(fun, ref::Union{Function, String}, funargs; \n",
    "                    verbose=true, reverse=false)\n",
    "    \n",
    "    global compfun = fun\n",
    "    global compfunargs = funargs\n",
    "    \n",
    "    benchtime[fun] = (@belapsed compfun(compfunargs...))*1000\n",
    "    \n",
    "    if verbose\n",
    "        printcomparison(fun, ref, reverse)\n",
    "    end\n",
    "end\n",
    "\n",
    "function printcomparison(fun, ref, reverse)\n",
    "    ratio = benchtime[fun]/benchtime[ref]\n",
    "    if reverse\n",
    "        @printf \"%-20s is %5.2f times faster than %20s (%5.3fms vs %5.3fms)\\n\" fun 1/ratio ref benchtime[fun] benchtime[ref]\n",
    "    else\n",
    "        @printf \"%-20s is %5.2f times faster than %20s (%5.3fms vs %5.3fms)\\n\" ref ratio fun benchtime[ref] benchtime[fun]\n",
    "    end\n",
    "end"
   ]
  },
  {
   "cell_type": "markdown",
   "metadata": {
    "heading_collapsed": true,
    "hideCode": false,
    "hidePrompt": false
   },
   "source": [
    "## Fix #1: Concrete types"
   ]
  },
  {
   "cell_type": "markdown",
   "metadata": {
    "hidden": true,
    "hideCode": false,
    "hidePrompt": false
   },
   "source": [
    "Our first inclination in Julia is to make the code as general and easy to understand as possible. Here is the most general form of the code where no types are specified and the kernel is unspecified:"
   ]
  },
  {
   "cell_type": "code",
   "execution_count": 8,
   "metadata": {
    "hidden": true,
    "hideCode": false,
    "hidePrompt": false
   },
   "outputs": [
    {
     "data": {
      "text/plain": [
       "P2P_general (generic function with 1 method)"
      ]
     },
     "execution_count": 8,
     "metadata": {},
     "output_type": "execute_result"
    }
   ],
   "source": [
    "g_wnklmns(r) = r^3 * (r^2 + 2.5) / (r^2 + 1)^2.5\n",
    "dgdr_wnklmns(r) = 7.5 * r^2 / (r^2 + 1)^3.5\n",
    "\n",
    "function P2P_general(sources::Array{ParticleAmbiguous},\n",
    "                     targets::Array{ParticleAmbiguous}, \n",
    "                     g::Function, dgdr::Function)\n",
    "\n",
    "  for Pi in targets \n",
    "    for Pj in sources    \n",
    "            \n",
    "      dX = Pi.X - Pj.X\n",
    "      r = norm(dX) + EPS\n",
    "            \n",
    "      # Regularizing function and deriv\n",
    "      gsgm = g(r/Pj.sigma)\n",
    "      dgsgmdr = dgdr(r/Pj.sigma)  \n",
    "            \n",
    "      # K × Γp\n",
    "      crss = cross(-const4 * dX / r^3, Pj.Gamma) \n",
    "\n",
    "      # U = ∑g_σ(x-xp) * K(x-xp) × Γp\n",
    "      Pi.U[:] += gsgm * crss\n",
    "\n",
    "      # ∂u∂xj(x) = ∑[ ∂gσ∂xj(x−xp) * K(x−xp)×Γp + gσ(x−xp) * ∂K∂xj(x−xp)×Γp ]\n",
    "      for j in 1:3\n",
    "        Pi.J[:, j] += ( dX[j]/(Pj.sigma*r)*dgsgmdr * crss -\n",
    "                                  gsgm * 3*dX[j]/r^2*crss -\n",
    "                                  gsgm * const4/r^3 * \n",
    "                                  cross([i==j for i in 1:3], Pj.Gamma) )\n",
    "      end\n",
    "\n",
    "    end\n",
    "  end\n",
    "end"
   ]
  },
  {
   "cell_type": "code",
   "execution_count": 9,
   "metadata": {
    "hidden": true,
    "hideCode": false,
    "hidePrompt": false
   },
   "outputs": [
    {
     "name": "stdout",
     "output_type": "stream",
     "text": [
      "C++                  is 115.16 times faster than          P2P_general (0.584ms vs 67.297ms)\n"
     ]
    },
    {
     "data": {
      "text/plain": [
       "BenchmarkTools.Trial: \n",
       "  memory estimate:  69.86 MiB\n",
       "  allocs estimate:  1437500\n",
       "  --------------\n",
       "  minimum time:     66.281 ms (4.12% GC)\n",
       "  median time:      69.037 ms (4.52% GC)\n",
       "  mean time:        71.489 ms (5.60% GC)\n",
       "  maximum time:     126.785 ms (37.55% GC)\n",
       "  --------------\n",
       "  samples:          70\n",
       "  evals/sample:     1"
      ]
     },
     "execution_count": 9,
     "metadata": {},
     "output_type": "execute_result"
    }
   ],
   "source": [
    "this_fun = P2P_general\n",
    "args = (particlesA, particlesA, g_wnklmns, dgdr_wnklmns)\n",
    "\n",
    "compare(this_fun, \"C++\", args)\n",
    "\n",
    "@benchmark this_fun(args...)"
   ]
  },
  {
   "cell_type": "markdown",
   "metadata": {
    "hidden": true
   },
   "source": [
    "Here we see that C++ is over 100 times faster than our Julia code. The problem is that **without foreknowledge of the types to be handled in this function, Julia can't optimize the function during compilation**. Here we modify the function to explicitly state the types of all internal variables:"
   ]
  },
  {
   "cell_type": "code",
   "execution_count": 10,
   "metadata": {
    "hidden": true,
    "hideCode": false,
    "hidePrompt": false
   },
   "outputs": [
    {
     "data": {
      "text/plain": [
       "P2P_explicittypes (generic function with 1 method)"
      ]
     },
     "execution_count": 10,
     "metadata": {},
     "output_type": "execute_result"
    }
   ],
   "source": [
    "function P2P_explicittypes(sources::Array{ParticleAmbiguous},\n",
    "                             targets::Array{ParticleAmbiguous}, \n",
    "                             g::Function, dgdr::Function)\n",
    "\n",
    "  for Pi in targets \n",
    "    for Pj in sources    \n",
    "            \n",
    "      dX::Array{Float64, 1} = Pi.X - Pj.X\n",
    "      r::Float64 = norm(dX) + EPS\n",
    "            \n",
    "      # Regularizing function and deriv\n",
    "      gsgm::Float64 = g(r/Pj.sigma)\n",
    "      dgsgmdr::Float64 = dgdr(r/Pj.sigma)  \n",
    "            \n",
    "      # K × Γp\n",
    "      crss::Array{Float64, 1} = cross(-const4 * dX / r^3, Pj.Gamma) \n",
    "\n",
    "      # U = ∑g_σ(x-xp) * K(x-xp) × Γp\n",
    "      Pi.U[:] += gsgm * crss\n",
    "\n",
    "      # ∂u∂xj(x) = ∑[ ∂gσ∂xj(x−xp) * K(x−xp)×Γp + gσ(x−xp) * ∂K∂xj(x−xp)×Γp ]\n",
    "      for j in 1:3\n",
    "        Pi.J[:, j] += ( dX[j]/(Pj.sigma*r)*dgsgmdr * crss -\n",
    "                                  gsgm * 3*dX[j]/r^2*crss -\n",
    "                                  gsgm * const4/r^3 * \n",
    "                                  cross([i==j for i in 1:3], Pj.Gamma) )\n",
    "      end\n",
    "\n",
    "    end\n",
    "  end\n",
    "end"
   ]
  },
  {
   "cell_type": "code",
   "execution_count": 11,
   "metadata": {
    "hidden": true,
    "hideCode": false,
    "hidePrompt": false
   },
   "outputs": [
    {
     "name": "stdout",
     "output_type": "stream",
     "text": [
      "P2P_explicittypes    is  1.12 times faster than          P2P_general (60.077ms vs 67.297ms)\n",
      "C++                  is 102.80 times faster than    P2P_explicittypes (0.584ms vs 60.077ms)\n"
     ]
    },
    {
     "data": {
      "text/plain": [
       "BenchmarkTools.Trial: \n",
       "  memory estimate:  66.52 MiB\n",
       "  allocs estimate:  1218750\n",
       "  --------------\n",
       "  minimum time:     59.109 ms (5.25% GC)\n",
       "  median time:      61.635 ms (5.35% GC)\n",
       "  mean time:        62.209 ms (6.28% GC)\n",
       "  maximum time:     112.506 ms (42.41% GC)\n",
       "  --------------\n",
       "  samples:          81\n",
       "  evals/sample:     1"
      ]
     },
     "execution_count": 11,
     "metadata": {},
     "output_type": "execute_result"
    }
   ],
   "source": [
    "prev_fun = this_fun\n",
    "this_fun = P2P_explicittypes\n",
    "args = (particlesA, particlesA, g_wnklmns, dgdr_wnklmns)\n",
    "\n",
    "compare(this_fun, prev_fun, args; reverse=true)\n",
    "printcomparison(this_fun, \"C++\", false)\n",
    "\n",
    "@benchmark this_fun(args...)"
   ]
  },
  {
   "cell_type": "markdown",
   "metadata": {
    "hidden": true
   },
   "source": [
    "Specifying types of internal variables speed the computation a modest amount (1.1x), but is not enough. Julia has a built-in macro `@code_warntype` that helps identify ambiguous types that keeps the compiler from optimizing a section of code."
   ]
  },
  {
   "cell_type": "code",
   "execution_count": 12,
   "metadata": {
    "hidden": true
   },
   "outputs": [
    {
     "data": {
      "text/latex": [
       "\\begin{verbatim}\n",
       "@code_warntype\n",
       "\\end{verbatim}\n",
       "Evaluates the arguments to the function or macro call, determines their types, and calls \\href{@ref}{\\texttt{code\\_warntype}} on the resulting expression.\n",
       "\n"
      ],
      "text/markdown": [
       "```\n",
       "@code_warntype\n",
       "```\n",
       "\n",
       "Evaluates the arguments to the function or macro call, determines their types, and calls [`code_warntype`](@ref) on the resulting expression.\n"
      ],
      "text/plain": [
       "\u001b[36m  @code_warntype\u001b[39m\n",
       "\n",
       "  Evaluates the arguments to the function or macro call, determines their\n",
       "  types, and calls \u001b[36mcode_warntype\u001b[39m on the resulting expression."
      ]
     },
     "execution_count": 12,
     "metadata": {},
     "output_type": "execute_result"
    }
   ],
   "source": [
    "? @code_warntype"
   ]
  },
  {
   "cell_type": "code",
   "execution_count": 13,
   "metadata": {
    "hidden": true
   },
   "outputs": [
    {
     "name": "stdout",
     "output_type": "stream",
     "text": [
      "search: \u001b[0m\u001b[1mc\u001b[22m\u001b[0m\u001b[1mo\u001b[22m\u001b[0m\u001b[1md\u001b[22m\u001b[0m\u001b[1me\u001b[22m\u001b[0m\u001b[1m_\u001b[22m\u001b[0m\u001b[1mw\u001b[22m\u001b[0m\u001b[1ma\u001b[22m\u001b[0m\u001b[1mr\u001b[22m\u001b[0m\u001b[1mn\u001b[22m\u001b[0m\u001b[1mt\u001b[22m\u001b[0m\u001b[1my\u001b[22m\u001b[0m\u001b[1mp\u001b[22m\u001b[0m\u001b[1me\u001b[22m @\u001b[0m\u001b[1mc\u001b[22m\u001b[0m\u001b[1mo\u001b[22m\u001b[0m\u001b[1md\u001b[22m\u001b[0m\u001b[1me\u001b[22m\u001b[0m\u001b[1m_\u001b[22m\u001b[0m\u001b[1mw\u001b[22m\u001b[0m\u001b[1ma\u001b[22m\u001b[0m\u001b[1mr\u001b[22m\u001b[0m\u001b[1mn\u001b[22m\u001b[0m\u001b[1mt\u001b[22m\u001b[0m\u001b[1my\u001b[22m\u001b[0m\u001b[1mp\u001b[22m\u001b[0m\u001b[1me\u001b[22m\n",
      "\n"
     ]
    },
    {
     "data": {
      "text/latex": [
       "\\begin{verbatim}\n",
       "code_warntype([io::IO], f, types; verbose_linetable=false)\n",
       "\\end{verbatim}\n",
       "Prints lowered and type-inferred ASTs for the methods matching the given generic function and type signature to \\texttt{io} which defaults to \\texttt{stdout}. The ASTs are annotated in such a way as to cause \"non-leaf\" types to be emphasized (if color is available, displayed in red). This serves as a warning of potential type instability. Not all non-leaf types are particularly problematic for performance, so the results need to be used judiciously. In particular, unions containing either \\href{@ref}{\\texttt{missing}} or \\href{@ref}{\\texttt{nothing}} are displayed in yellow, since these are often intentional. If the \\texttt{verbose\\_linetable} keyword is set, the linetable will be printed in verbose mode, showing all available information (rather than applying the usual heuristics). See \\href{@ref man-code-warntype}{\\texttt{@code\\_warntype}} for more information.\n",
       "\n"
      ],
      "text/markdown": [
       "```\n",
       "code_warntype([io::IO], f, types; verbose_linetable=false)\n",
       "```\n",
       "\n",
       "Prints lowered and type-inferred ASTs for the methods matching the given generic function and type signature to `io` which defaults to `stdout`. The ASTs are annotated in such a way as to cause \"non-leaf\" types to be emphasized (if color is available, displayed in red). This serves as a warning of potential type instability. Not all non-leaf types are particularly problematic for performance, so the results need to be used judiciously. In particular, unions containing either [`missing`](@ref) or [`nothing`](@ref) are displayed in yellow, since these are often intentional. If the `verbose_linetable` keyword is set, the linetable will be printed in verbose mode, showing all available information (rather than applying the usual heuristics). See [`@code_warntype`](@ref man-code-warntype) for more information.\n"
      ],
      "text/plain": [
       "\u001b[36m  code_warntype([io::IO], f, types; verbose_linetable=false)\u001b[39m\n",
       "\n",
       "  Prints lowered and type-inferred ASTs for the methods matching the given\n",
       "  generic function and type signature to \u001b[36mio\u001b[39m which defaults to \u001b[36mstdout\u001b[39m. The ASTs\n",
       "  are annotated in such a way as to cause \"non-leaf\" types to be emphasized\n",
       "  (if color is available, displayed in red). This serves as a warning of\n",
       "  potential type instability. Not all non-leaf types are particularly\n",
       "  problematic for performance, so the results need to be used judiciously. In\n",
       "  particular, unions containing either \u001b[36mmissing\u001b[39m or \u001b[36mnothing\u001b[39m are displayed in\n",
       "  yellow, since these are often intentional. If the \u001b[36mverbose_linetable\u001b[39m keyword\n",
       "  is set, the linetable will be printed in verbose mode, showing all available\n",
       "  information (rather than applying the usual heuristics). See \u001b[36m@code_warntype\u001b[39m\n",
       "  for more information."
      ]
     },
     "execution_count": 13,
     "metadata": {},
     "output_type": "execute_result"
    }
   ],
   "source": [
    "? code_warntype"
   ]
  },
  {
   "cell_type": "markdown",
   "metadata": {
    "hidden": true
   },
   "source": [
    "Here is what the macro tells us about our function (reading the output is an art that you learn the more you try it, the important thing is to know that red means no good):"
   ]
  },
  {
   "cell_type": "code",
   "execution_count": 14,
   "metadata": {
    "hidden": true,
    "scrolled": true
   },
   "outputs": [
    {
     "name": "stdout",
     "output_type": "stream",
     "text": [
      "Body\u001b[36m::Nothing\u001b[39m\n",
      "\u001b[90m\u001b[58G│╻╷╷  iterate\u001b[1G\u001b[39m\u001b[90m5  \u001b[39m1 ── %1   = (Base.arraylen)(targets)\u001b[36m::Int64\u001b[39m\n",
      "\u001b[90m\u001b[58G││╻╷   iterate\u001b[1G\u001b[39m\u001b[90m   \u001b[39m│    %2   = (Base.sle_int)(0, %1)\u001b[36m::Bool\u001b[39m\n",
      "\u001b[90m\u001b[58G│││╻    <\u001b[1G\u001b[39m\u001b[90m   \u001b[39m│    %3   = (Base.bitcast)(UInt64, %1)\u001b[36m::UInt64\u001b[39m\n",
      "\u001b[90m\u001b[58G││││╻    <\u001b[1G\u001b[39m\u001b[90m   \u001b[39m│    %4   = (Base.ult_int)(0x0000000000000000, %3)\u001b[36m::Bool\u001b[39m\n",
      "\u001b[90m\u001b[58G││││╻    &\u001b[1G\u001b[39m\u001b[90m   \u001b[39m│    %5   = (Base.and_int)(%2, %4)\u001b[36m::Bool\u001b[39m\n",
      "\u001b[90m\u001b[58G│││  \u001b[1G\u001b[39m\u001b[90m   \u001b[39m└───        goto #3 if not %5\n",
      "\u001b[90m\u001b[58G│││╻    getindex\u001b[1G\u001b[39m\u001b[90m   \u001b[39m2 ── %7   = (Base.arrayref)(false, targets, 1)\u001b[36m::ParticleAmbiguous\u001b[39m\n",
      "\u001b[90m\u001b[58G│││  \u001b[1G\u001b[39m\u001b[90m   \u001b[39m└───        goto #4\n",
      "\u001b[90m\u001b[58G│││  \u001b[1G\u001b[39m\u001b[90m   \u001b[39m3 ──        goto #4\n",
      "\u001b[90m\u001b[58G││   \u001b[1G\u001b[39m\u001b[90m   \u001b[39m4 ┄─ %10  = φ (#2 => false, #3 => true)\u001b[36m::Bool\u001b[39m\n",
      "\u001b[90m\u001b[58G││   \u001b[1G\u001b[39m\u001b[90m   \u001b[39m│    %11  = φ (#2 => %7)\u001b[36m::ParticleAmbiguous\u001b[39m\n",
      "\u001b[90m\u001b[58G││   \u001b[1G\u001b[39m\u001b[90m   \u001b[39m│    %12  = φ (#2 => 2)\u001b[36m::Int64\u001b[39m\n",
      "\u001b[90m\u001b[58G││   \u001b[1G\u001b[39m\u001b[90m   \u001b[39m└───        goto #5\n",
      "\u001b[90m\u001b[58G│    \u001b[1G\u001b[39m\u001b[90m   \u001b[39m5 ── %14  = (Base.not_int)(%10)\u001b[36m::Bool\u001b[39m\n",
      "\u001b[90m\u001b[58G│    \u001b[1G\u001b[39m\u001b[90m   \u001b[39m└───        goto #36 if not %14\n",
      "\u001b[90m\u001b[58G│    \u001b[1G\u001b[39m\u001b[90m   \u001b[39m6 ┄─ %16  = φ (#5 => %11, #35 => %175)\u001b[36m::ParticleAmbiguous\u001b[39m\n",
      "\u001b[90m\u001b[58G│    \u001b[1G\u001b[39m\u001b[90m   \u001b[39m│    %17  = φ (#5 => %12, #35 => %176)\u001b[36m::Int64\u001b[39m\n",
      "\u001b[90m\u001b[58G│╻╷╷  iterate\u001b[1G\u001b[39m\u001b[90m6  \u001b[39m│    %18  = (Base.arraylen)(sources)\u001b[36m::Int64\u001b[39m\n",
      "\u001b[90m\u001b[58G││╻╷   iterate\u001b[1G\u001b[39m\u001b[90m   \u001b[39m│    %19  = (Base.sle_int)(0, %18)\u001b[36m::Bool\u001b[39m\n",
      "\u001b[90m\u001b[58G│││╻    <\u001b[1G\u001b[39m\u001b[90m   \u001b[39m│    %20  = (Base.bitcast)(UInt64, %18)\u001b[36m::UInt64\u001b[39m\n",
      "\u001b[90m\u001b[58G││││╻    <\u001b[1G\u001b[39m\u001b[90m   \u001b[39m│    %21  = (Base.ult_int)(0x0000000000000000, %20)\u001b[36m::Bool\u001b[39m\n",
      "\u001b[90m\u001b[58G││││╻    &\u001b[1G\u001b[39m\u001b[90m   \u001b[39m│    %22  = (Base.and_int)(%19, %21)\u001b[36m::Bool\u001b[39m\n",
      "\u001b[90m\u001b[58G│││  \u001b[1G\u001b[39m\u001b[90m   \u001b[39m└───        goto #8 if not %22\n",
      "\u001b[90m\u001b[58G│││╻    getindex\u001b[1G\u001b[39m\u001b[90m   \u001b[39m7 ── %24  = (Base.arrayref)(false, sources, 1)\u001b[36m::ParticleAmbiguous\u001b[39m\n",
      "\u001b[90m\u001b[58G│││  \u001b[1G\u001b[39m\u001b[90m   \u001b[39m└───        goto #9\n",
      "\u001b[90m\u001b[58G│││  \u001b[1G\u001b[39m\u001b[90m   \u001b[39m8 ──        goto #9\n",
      "\u001b[90m\u001b[58G││   \u001b[1G\u001b[39m\u001b[90m   \u001b[39m9 ┄─ %27  = φ (#7 => false, #8 => true)\u001b[36m::Bool\u001b[39m\n",
      "\u001b[90m\u001b[58G││   \u001b[1G\u001b[39m\u001b[90m   \u001b[39m│    %28  = φ (#7 => %24)\u001b[36m::ParticleAmbiguous\u001b[39m\n",
      "\u001b[90m\u001b[58G││   \u001b[1G\u001b[39m\u001b[90m   \u001b[39m│    %29  = φ (#7 => 2)\u001b[36m::Int64\u001b[39m\n",
      "\u001b[90m\u001b[58G││   \u001b[1G\u001b[39m\u001b[90m   \u001b[39m└───        goto #10\n",
      "\u001b[90m\u001b[58G│    \u001b[1G\u001b[39m\u001b[90m   \u001b[39m10 ─ %31  = (Base.not_int)(%27)\u001b[36m::Bool\u001b[39m\n",
      "\u001b[90m\u001b[58G│    \u001b[1G\u001b[39m\u001b[90m   \u001b[39m└───        goto #31 if not %31\n",
      "\u001b[90m\u001b[58G│    \u001b[1G\u001b[39m\u001b[90m   \u001b[39m11 ┄ %33  = φ (#10 => %28, #30 => %156)\u001b[36m::ParticleAmbiguous\u001b[39m\n",
      "\u001b[90m\u001b[58G│    \u001b[1G\u001b[39m\u001b[90m   \u001b[39m│    %34  = φ (#10 => %29, #30 => %157)\u001b[36m::Int64\u001b[39m\n",
      "\u001b[90m\u001b[58G│╻    getproperty\u001b[1G\u001b[39m\u001b[90m8  \u001b[39m│    %35  = (Base.getfield)(%16, :X)\u001b[91m\u001b[1m::Any\u001b[22m\u001b[39m\n",
      "\u001b[90m\u001b[58G││   \u001b[1G\u001b[39m\u001b[90m   \u001b[39m│    %36  = (Base.getfield)(%33, :X)\u001b[91m\u001b[1m::Any\u001b[22m\u001b[39m\n",
      "\u001b[90m\u001b[58G│    \u001b[1G\u001b[39m\u001b[90m   \u001b[39m│    %37  = (%35 - %36)\u001b[91m\u001b[1m::Any\u001b[22m\u001b[39m\n",
      "\u001b[90m\u001b[58G│    \u001b[1G\u001b[39m\u001b[90m   \u001b[39m│    %38  = Base.convert\u001b[36m::Core.Compiler.Const(convert, false)\u001b[39m\n",
      "\u001b[90m\u001b[58G│    \u001b[1G\u001b[39m\u001b[90m   \u001b[39m│    %39  = (isa)(%37, Array{Float64,1})\u001b[36m::Bool\u001b[39m\n",
      "\u001b[90m\u001b[58G│    \u001b[1G\u001b[39m\u001b[90m   \u001b[39m└───        goto #13 if not %39\n",
      "\u001b[90m\u001b[58G│    \u001b[1G\u001b[39m\u001b[90m   \u001b[39m12 ─ %41  = π (%37, \u001b[36mArray{Float64,1}\u001b[39m)\n",
      "\u001b[90m\u001b[58G│    \u001b[1G\u001b[39m\u001b[90m   \u001b[39m│    %42  = invoke %38(Array{Float64,1}::Type{Array{Float64,1}}, %41::Array{Float64,1})\u001b[91m\u001b[1m::Any\u001b[22m\u001b[39m\n",
      "\u001b[90m\u001b[58G│    \u001b[1G\u001b[39m\u001b[90m   \u001b[39m└───        goto #14\n",
      "\u001b[90m\u001b[58G│    \u001b[1G\u001b[39m\u001b[90m   \u001b[39m13 ─ %44  = (Base.convert)(Array{Float64,1}, %37)\u001b[91m\u001b[1m::Any\u001b[22m\u001b[39m\n",
      "\u001b[90m\u001b[58G│    \u001b[1G\u001b[39m\u001b[90m   \u001b[39m└───        goto #14\n",
      "\u001b[90m\u001b[58G│    \u001b[1G\u001b[39m\u001b[90m   \u001b[39m14 ┄ %46  = φ (#12 => %42, #13 => %44)\u001b[91m\u001b[1m::Any\u001b[22m\u001b[39m\n",
      "\u001b[90m\u001b[58G│    \u001b[1G\u001b[39m\u001b[90m   \u001b[39m│           (Core.typeassert)(%46, Array{Float64,1})\n",
      "\u001b[90m\u001b[58G│    \u001b[1G\u001b[39m\u001b[90m   \u001b[39m│    %48  = π (%46, \u001b[36mArray{Float64,1}\u001b[39m)\n",
      "\u001b[90m\u001b[58G│    \u001b[1G\u001b[39m\u001b[90m9  \u001b[39m│    %49  = Main.norm\u001b[36m::Core.Compiler.Const(LinearAlgebra.norm, false)\u001b[39m\n",
      "\u001b[90m\u001b[58G│╻    norm\u001b[1G\u001b[39m\u001b[90m   \u001b[39m│    %50  = invoke %49(%48::Array{Float64,1}, 2::Int64)\u001b[36m::Float64\u001b[39m\n",
      "\u001b[90m\u001b[58G│    \u001b[1G\u001b[39m\u001b[90m   \u001b[39m│    %51  = Main.EPS\u001b[36m::Core.Compiler.Const(1.0e-14, false)\u001b[39m\n",
      "\u001b[90m\u001b[58G│╻    +\u001b[1G\u001b[39m\u001b[90m   \u001b[39m│    %52  = (Base.add_float)(%50, %51)\u001b[36m::Float64\u001b[39m\n",
      "\u001b[90m\u001b[58G│╻    getproperty\u001b[1G\u001b[39m\u001b[90m12 \u001b[39m│    %53  = (Base.getfield)(%33, :sigma)\u001b[91m\u001b[1m::Any\u001b[22m\u001b[39m\n",
      "\u001b[90m\u001b[58G│    \u001b[1G\u001b[39m\u001b[90m   \u001b[39m│    %54  = (%52 / %53)\u001b[91m\u001b[1m::Any\u001b[22m\u001b[39m\n",
      "\u001b[90m\u001b[58G│    \u001b[1G\u001b[39m\u001b[90m   \u001b[39m│    %55  = (g)(%54)\u001b[91m\u001b[1m::Any\u001b[22m\u001b[39m\n",
      "\u001b[90m\u001b[58G│    \u001b[1G\u001b[39m\u001b[90m   \u001b[39m│    %56  = (Base.convert)(Main.Float64, %55)\u001b[91m\u001b[1m::Any\u001b[22m\u001b[39m\n",
      "\u001b[90m\u001b[58G│    \u001b[1G\u001b[39m\u001b[90m   \u001b[39m│           (Core.typeassert)(%56, Main.Float64)\n",
      "\u001b[90m\u001b[58G│    \u001b[1G\u001b[39m\u001b[90m   \u001b[39m│    %58  = π (%56, \u001b[36mFloat64\u001b[39m)\n",
      "\u001b[90m\u001b[58G│╻    getproperty\u001b[1G\u001b[39m\u001b[90m13 \u001b[39m│    %59  = (Base.getfield)(%33, :sigma)\u001b[91m\u001b[1m::Any\u001b[22m\u001b[39m\n",
      "\u001b[90m\u001b[58G│    \u001b[1G\u001b[39m\u001b[90m   \u001b[39m│    %60  = (%52 / %59)\u001b[91m\u001b[1m::Any\u001b[22m\u001b[39m\n",
      "\u001b[90m\u001b[58G│    \u001b[1G\u001b[39m\u001b[90m   \u001b[39m│    %61  = (dgdr)(%60)\u001b[91m\u001b[1m::Any\u001b[22m\u001b[39m\n",
      "\u001b[90m\u001b[58G│    \u001b[1G\u001b[39m\u001b[90m   \u001b[39m│    %62  = (Base.convert)(Main.Float64, %61)\u001b[91m\u001b[1m::Any\u001b[22m\u001b[39m\n",
      "\u001b[90m\u001b[58G│    \u001b[1G\u001b[39m\u001b[90m   \u001b[39m│           (Core.typeassert)(%62, Main.Float64)\n",
      "\u001b[90m\u001b[58G│    \u001b[1G\u001b[39m\u001b[90m   \u001b[39m│    %64  = π (%62, \u001b[36mFloat64\u001b[39m)\n",
      "\u001b[90m\u001b[58G│╻    *\u001b[1G\u001b[39m\u001b[90m16 \u001b[39m│    %65  = invoke Base.broadcast(Base.:*::typeof(*), -0.07957747154594767::Float64, %48::Array{Float64,1})\u001b[36m::Array{Float64,1}\u001b[39m\n",
      "\u001b[90m\u001b[58G││╻╷   *\u001b[1G\u001b[39m\u001b[90m   \u001b[39m│    %66  = (Base.mul_float)(%52, %52)\u001b[36m::Float64\u001b[39m\n",
      "\u001b[90m\u001b[58G│││┃    *\u001b[1G\u001b[39m\u001b[90m   \u001b[39m│    %67  = (Base.mul_float)(%66, %52)\u001b[36m::Float64\u001b[39m\n",
      "\u001b[90m\u001b[58G│╻    /\u001b[1G\u001b[39m\u001b[90m   \u001b[39m│    %68  = invoke Base.broadcast(Base.:/::typeof(/), %65::Array{Float64,1}, %67::Float64)\u001b[36m::Array{Float64,1}\u001b[39m\n",
      "\u001b[90m\u001b[58G│╻    getproperty\u001b[1G\u001b[39m\u001b[90m   \u001b[39m│    %69  = (Base.getfield)(%33, :Gamma)\u001b[91m\u001b[1m::Any\u001b[22m\u001b[39m\n",
      "\u001b[90m\u001b[58G│    \u001b[1G\u001b[39m\u001b[90m   \u001b[39m│    %70  = (Main.cross)(%68, %69)\u001b[91m\u001b[1m::Any\u001b[22m\u001b[39m\n",
      "\u001b[90m\u001b[58G│    \u001b[1G\u001b[39m\u001b[90m   \u001b[39m│    %71  = Base.convert\u001b[36m::Core.Compiler.Const(convert, false)\u001b[39m\n",
      "\u001b[90m\u001b[58G│    \u001b[1G\u001b[39m\u001b[90m   \u001b[39m│    %72  = (isa)(%70, Array{Float64,1})\u001b[36m::Bool\u001b[39m\n",
      "\u001b[90m\u001b[58G│    \u001b[1G\u001b[39m\u001b[90m   \u001b[39m└───        goto #16 if not %72\n",
      "\u001b[90m\u001b[58G│    \u001b[1G\u001b[39m\u001b[90m   \u001b[39m15 ─ %74  = π (%70, \u001b[36mArray{Float64,1}\u001b[39m)\n",
      "\u001b[90m\u001b[58G│    \u001b[1G\u001b[39m\u001b[90m   \u001b[39m│    %75  = invoke %71(Array{Float64,1}::Type{Array{Float64,1}}, %74::Array{Float64,1})\u001b[91m\u001b[1m::Any\u001b[22m\u001b[39m\n",
      "\u001b[90m\u001b[58G│    \u001b[1G\u001b[39m\u001b[90m   \u001b[39m└───        goto #17\n",
      "\u001b[90m\u001b[58G│    \u001b[1G\u001b[39m\u001b[90m   \u001b[39m16 ─ %77  = (Base.convert)(Array{Float64,1}, %70)\u001b[91m\u001b[1m::Any\u001b[22m\u001b[39m\n",
      "\u001b[90m\u001b[58G│    \u001b[1G\u001b[39m\u001b[90m   \u001b[39m└───        goto #17\n",
      "\u001b[90m\u001b[58G│    \u001b[1G\u001b[39m\u001b[90m   \u001b[39m17 ┄ %79  = φ (#15 => %75, #16 => %77)\u001b[91m\u001b[1m::Any\u001b[22m\u001b[39m\n",
      "\u001b[90m\u001b[58G│    \u001b[1G\u001b[39m\u001b[90m   \u001b[39m│           (Core.typeassert)(%79, Array{Float64,1})\n",
      "\u001b[90m\u001b[58G│    \u001b[1G\u001b[39m\u001b[90m   \u001b[39m│    %81  = π (%79, \u001b[36mArray{Float64,1}\u001b[39m)\n",
      "\u001b[90m\u001b[58G│╻    getproperty\u001b[1G\u001b[39m\u001b[90m19 \u001b[39m│    %82  = (Base.getfield)(%16, :U)\u001b[91m\u001b[1m::Any\u001b[22m\u001b[39m\n",
      "\u001b[90m\u001b[58G│    \u001b[1G\u001b[39m\u001b[90m   \u001b[39m│    %83  = (Base.getindex)(%82, Main.:(:))\u001b[91m\u001b[1m::Any\u001b[22m\u001b[39m\n",
      "\u001b[90m\u001b[58G│╻    *\u001b[1G\u001b[39m\u001b[90m   \u001b[39m│    %84  = invoke Base.broadcast(Base.:*::typeof(*), %58::Float64, %81::Array{Float64,1})\u001b[36m::Array{Float64,1}\u001b[39m\n",
      "\u001b[90m\u001b[58G│    \u001b[1G\u001b[39m\u001b[90m   \u001b[39m│    %85  = (%83 + %84)\u001b[91m\u001b[1m::Any\u001b[22m\u001b[39m\n",
      "\u001b[90m\u001b[58G│╻    getproperty\u001b[1G\u001b[39m\u001b[90m   \u001b[39m│    %86  = (Base.getfield)(%16, :U)\u001b[91m\u001b[1m::Any\u001b[22m\u001b[39m\n",
      "\u001b[90m\u001b[58G│    \u001b[1G\u001b[39m\u001b[90m   \u001b[39m│           (Base.setindex!)(%86, %85, Main.:(:))\n",
      "\u001b[90m\u001b[58G│╻╷╷  Colon\u001b[1G\u001b[39m\u001b[90m22 \u001b[39m│           (Base.ifelse)(true, 3, 0)\n",
      "\u001b[90m\u001b[58G││╻╷╷  isempty\u001b[1G\u001b[39m\u001b[90m   \u001b[39m│    %89  = (Base.slt_int)(3, 1)\u001b[36m::Bool\u001b[39m\n",
      "\u001b[90m\u001b[58G││   \u001b[1G\u001b[39m\u001b[90m   \u001b[39m└───        goto #19 if not %89\n",
      "\u001b[90m\u001b[58G││   \u001b[1G\u001b[39m\u001b[90m   \u001b[39m18 ─        goto #20\n",
      "\u001b[90m\u001b[58G││   \u001b[1G\u001b[39m\u001b[90m   \u001b[39m19 ─        goto #20\n",
      "\u001b[90m\u001b[58G│    \u001b[1G\u001b[39m\u001b[90m   \u001b[39m20 ┄ %93  = φ (#18 => true, #19 => false)\u001b[36m::Bool\u001b[39m\n",
      "\u001b[90m\u001b[58G│    \u001b[1G\u001b[39m\u001b[90m   \u001b[39m│    %94  = φ (#19 => 1)\u001b[36m::Int64\u001b[39m\n",
      "\u001b[90m\u001b[58G│    \u001b[1G\u001b[39m\u001b[90m   \u001b[39m│    %95  = φ (#19 => 1)\u001b[36m::Int64\u001b[39m\n",
      "\u001b[90m\u001b[58G│    \u001b[1G\u001b[39m\u001b[90m   \u001b[39m│    %96  = (Base.not_int)(%93)\u001b[36m::Bool\u001b[39m\n",
      "\u001b[90m\u001b[58G│    \u001b[1G\u001b[39m\u001b[90m   \u001b[39m└───        goto #26 if not %96\n",
      "\u001b[90m\u001b[58G│    \u001b[1G\u001b[39m\u001b[90m   \u001b[39m21 ┄ %98  = φ (#20 => %94, #25 => %137)\u001b[36m::Int64\u001b[39m\n",
      "\u001b[90m\u001b[58G│    \u001b[1G\u001b[39m\u001b[90m   \u001b[39m│    %99  = φ (#20 => %95, #25 => %138)\u001b[36m::Int64\u001b[39m\n",
      "\u001b[90m\u001b[58G│╻    getproperty\u001b[1G\u001b[39m\u001b[90m23 \u001b[39m│    %100 = (Base.getfield)(%16, :J)\u001b[91m\u001b[1m::Any\u001b[22m\u001b[39m\n",
      "\u001b[90m\u001b[58G│    \u001b[1G\u001b[39m\u001b[90m   \u001b[39m│    %101 = (Base.getindex)(%100, Main.:(:), %98)\u001b[91m\u001b[1m::Any\u001b[22m\u001b[39m\n",
      "\u001b[90m\u001b[58G│╻    getindex\u001b[1G\u001b[39m\u001b[90m   \u001b[39m│    %102 = (Base.arrayref)(true, %48, %98)\u001b[36m::Float64\u001b[39m\n",
      "\u001b[90m\u001b[58G│╻    getproperty\u001b[1G\u001b[39m\u001b[90m   \u001b[39m│    %103 = (Base.getfield)(%33, :sigma)\u001b[91m\u001b[1m::Any\u001b[22m\u001b[39m\n",
      "\u001b[90m\u001b[58G│    \u001b[1G\u001b[39m\u001b[90m   \u001b[39m│    %104 = (%103 * %52)\u001b[91m\u001b[1m::Any\u001b[22m\u001b[39m\n",
      "\u001b[90m\u001b[58G│    \u001b[1G\u001b[39m\u001b[90m   \u001b[39m│    %105 = (%102 / %104)\u001b[91m\u001b[1m::Any\u001b[22m\u001b[39m\n",
      "\u001b[90m\u001b[58G│╻    *\u001b[1G\u001b[39m\u001b[90m   \u001b[39m│    %106 = (%105 * %64)\u001b[91m\u001b[1m::Any\u001b[22m\u001b[39m\n",
      "\u001b[90m\u001b[58G││   \u001b[1G\u001b[39m\u001b[90m   \u001b[39m│    %107 = (%106 * %81)\u001b[91m\u001b[1m::Any\u001b[22m\u001b[39m\n",
      "\u001b[90m\u001b[58G│╻    getindex\u001b[1G\u001b[39m\u001b[90m   \u001b[39m│    %108 = (Base.arrayref)(true, %48, %98)\u001b[36m::Float64\u001b[39m\n"
     ]
    },
    {
     "name": "stdout",
     "output_type": "stream",
     "text": [
      "\u001b[90m\u001b[58G││╻╷   *\u001b[1G\u001b[39m\u001b[90m   \u001b[39m│    %109 = (Base.mul_float)(%58, 3.0)\u001b[36m::Float64\u001b[39m\n",
      "\u001b[90m\u001b[58G││╻    *\u001b[1G\u001b[39m\u001b[90m   \u001b[39m│    %110 = (Base.mul_float)(%109, %108)\u001b[36m::Float64\u001b[39m\n",
      "\u001b[90m\u001b[58G││╻    *\u001b[1G\u001b[39m\u001b[90m   \u001b[39m│    %111 = (Base.mul_float)(%52, %52)\u001b[36m::Float64\u001b[39m\n",
      "\u001b[90m\u001b[58G│╻    /\u001b[1G\u001b[39m\u001b[90m   \u001b[39m│    %112 = (Base.div_float)(%110, %111)\u001b[36m::Float64\u001b[39m\n",
      "\u001b[90m\u001b[58G│╻    *\u001b[1G\u001b[39m\u001b[90m   \u001b[39m│    %113 = invoke Base.broadcast(Base.:*::typeof(*), %112::Float64, %81::Array{Float64,1})\u001b[36m::Array{Float64,1}\u001b[39m\n",
      "\u001b[90m\u001b[58G│    \u001b[1G\u001b[39m\u001b[90m   \u001b[39m│    %114 = (%107 - %113)\u001b[91m\u001b[1m::Any\u001b[22m\u001b[39m\n",
      "\u001b[90m\u001b[58G│    \u001b[1G\u001b[39m\u001b[90m   \u001b[39m│    %115 = Main.const4\u001b[36m::Core.Compiler.Const(0.07957747154594767, false)\u001b[39m\n",
      "\u001b[90m\u001b[58G│╻    *\u001b[1G\u001b[39m\u001b[90m   \u001b[39m│    %116 = (Base.mul_float)(%58, %115)\u001b[36m::Float64\u001b[39m\n",
      "\u001b[90m\u001b[58G││╻╷   *\u001b[1G\u001b[39m\u001b[90m   \u001b[39m│    %117 = (Base.mul_float)(%52, %52)\u001b[36m::Float64\u001b[39m\n",
      "\u001b[90m\u001b[58G│││┃    *\u001b[1G\u001b[39m\u001b[90m   \u001b[39m│    %118 = (Base.mul_float)(%117, %52)\u001b[36m::Float64\u001b[39m\n",
      "\u001b[90m\u001b[58G│╻    /\u001b[1G\u001b[39m\u001b[90m   \u001b[39m│    %119 = (Base.div_float)(%116, %118)\u001b[36m::Float64\u001b[39m\n",
      "\u001b[90m\u001b[58G│    \u001b[1G\u001b[39m\u001b[90m   \u001b[39m│    %120 = %new(getfield(Main, Symbol(\"##15#16\")){Int64}, %98)\u001b[36m::getfield(Main, Symbol(\"##15#16\")){Int64}\u001b[39m\n",
      "\u001b[90m\u001b[58G││╻╷   Type\u001b[1G\u001b[39m\u001b[90m   \u001b[39m│           (Base.ifelse)(true, 3, 0)\n",
      "\u001b[90m\u001b[58G│││  \u001b[1G\u001b[39m\u001b[90m   \u001b[39m│    %122 = %new(UnitRange{Int64}, 1, 3)\u001b[36m::UnitRange{Int64}\u001b[39m\n",
      "\u001b[90m\u001b[58G││╻    Type\u001b[1G\u001b[39m\u001b[90m   \u001b[39m│    %123 = %new(Base.Generator{UnitRange{Int64},getfield(Main, Symbol(\"##15#16\")){Int64}}, %120, %122)\u001b[36m::Base.Generator{UnitRange{Int64},getfield(Main, Symbol(\"##15#16\")){Int64}}\u001b[39m\n",
      "\u001b[90m\u001b[58G│    \u001b[1G\u001b[39m\u001b[90m   \u001b[39m│    %124 = invoke Base.collect(%123::Base.Generator{UnitRange{Int64},getfield(Main, Symbol(\"##15#16\")){Int64}})\u001b[36m::Array{Bool,1}\u001b[39m\n",
      "\u001b[90m\u001b[58G│╻    getproperty\u001b[1G\u001b[39m\u001b[90m   \u001b[39m│    %125 = (Base.getfield)(%33, :Gamma)\u001b[91m\u001b[1m::Any\u001b[22m\u001b[39m\n",
      "\u001b[90m\u001b[58G│    \u001b[1G\u001b[39m\u001b[90m   \u001b[39m│    %126 = (Main.cross)(%124, %125)\u001b[91m\u001b[1m::Any\u001b[22m\u001b[39m\n",
      "\u001b[90m\u001b[58G│    \u001b[1G\u001b[39m\u001b[90m   \u001b[39m│    %127 = (%119 * %126)\u001b[91m\u001b[1m::Any\u001b[22m\u001b[39m\n",
      "\u001b[90m\u001b[58G│    \u001b[1G\u001b[39m\u001b[90m   \u001b[39m│    %128 = (%114 - %127)\u001b[91m\u001b[1m::Any\u001b[22m\u001b[39m\n",
      "\u001b[90m\u001b[58G│    \u001b[1G\u001b[39m\u001b[90m   \u001b[39m│    %129 = (%101 + %128)\u001b[91m\u001b[1m::Any\u001b[22m\u001b[39m\n",
      "\u001b[90m\u001b[58G│╻    getproperty\u001b[1G\u001b[39m\u001b[90m   \u001b[39m│    %130 = (Base.getfield)(%16, :J)\u001b[91m\u001b[1m::Any\u001b[22m\u001b[39m\n",
      "\u001b[90m\u001b[58G│    \u001b[1G\u001b[39m\u001b[90m   \u001b[39m│           (Base.setindex!)(%130, %129, Main.:(:), %98)\n",
      "\u001b[90m\u001b[58G││╻    ==\u001b[1G\u001b[39m\u001b[90m   \u001b[39m│    %132 = (%99 === 3)\u001b[36m::Bool\u001b[39m\n",
      "\u001b[90m\u001b[58G││   \u001b[1G\u001b[39m\u001b[90m   \u001b[39m└───        goto #23 if not %132\n",
      "\u001b[90m\u001b[58G││   \u001b[1G\u001b[39m\u001b[90m   \u001b[39m22 ─        goto #24\n",
      "\u001b[90m\u001b[58G││╻    +\u001b[1G\u001b[39m\u001b[90m   \u001b[39m23 ─ %135 = (Base.add_int)(%99, 1)\u001b[36m::Int64\u001b[39m\n",
      "\u001b[90m\u001b[58G│╻    iterate\u001b[1G\u001b[39m\u001b[90m   \u001b[39m└───        goto #24\n",
      "\u001b[90m\u001b[58G│    \u001b[1G\u001b[39m\u001b[90m   \u001b[39m24 ┄ %137 = φ (#23 => %135)\u001b[36m::Int64\u001b[39m\n",
      "\u001b[90m\u001b[58G│    \u001b[1G\u001b[39m\u001b[90m   \u001b[39m│    %138 = φ (#23 => %135)\u001b[36m::Int64\u001b[39m\n",
      "\u001b[90m\u001b[58G│    \u001b[1G\u001b[39m\u001b[90m   \u001b[39m│    %139 = φ (#22 => true, #23 => false)\u001b[36m::Bool\u001b[39m\n",
      "\u001b[90m\u001b[58G│    \u001b[1G\u001b[39m\u001b[90m   \u001b[39m│    %140 = (Base.not_int)(%139)\u001b[36m::Bool\u001b[39m\n",
      "\u001b[90m\u001b[58G│    \u001b[1G\u001b[39m\u001b[90m   \u001b[39m└───        goto #26 if not %140\n",
      "\u001b[90m\u001b[58G│    \u001b[1G\u001b[39m\u001b[90m   \u001b[39m25 ─        goto #21\n",
      "\u001b[90m\u001b[58G││╻    rem\u001b[1G\u001b[39m\u001b[90m   \u001b[39m26 ─ %143 = (Base.bitcast)(UInt64, %34)\u001b[36m::UInt64\u001b[39m\n",
      "\u001b[90m\u001b[58G││╻    -\u001b[1G\u001b[39m\u001b[90m   \u001b[39m│    %144 = π (0x0000000000000001, \u001b[36mUInt64\u001b[39m)\n",
      "\u001b[90m\u001b[58G│││╻    -\u001b[1G\u001b[39m\u001b[90m   \u001b[39m│    %145 = (Base.sub_int)(%143, %144)\u001b[36m::UInt64\u001b[39m\n",
      "\u001b[90m\u001b[58G││╻    length\u001b[1G\u001b[39m\u001b[90m   \u001b[39m│    %146 = (Base.arraylen)(sources)\u001b[36m::Int64\u001b[39m\n",
      "\u001b[90m\u001b[58G│││╻╷   >=\u001b[1G\u001b[39m\u001b[90m   \u001b[39m│    %147 = (Base.sle_int)(0, %146)\u001b[36m::Bool\u001b[39m\n",
      "\u001b[90m\u001b[58G││││╻    reinterpret\u001b[1G\u001b[39m\u001b[90m   \u001b[39m│    %148 = (Base.bitcast)(UInt64, %146)\u001b[36m::UInt64\u001b[39m\n",
      "\u001b[90m\u001b[58G│││╻    <\u001b[1G\u001b[39m\u001b[90m   \u001b[39m│    %149 = (Base.ult_int)(%145, %148)\u001b[36m::Bool\u001b[39m\n",
      "\u001b[90m\u001b[58G│││╻    &\u001b[1G\u001b[39m\u001b[90m   \u001b[39m│    %150 = (Base.and_int)(%147, %149)\u001b[36m::Bool\u001b[39m\n",
      "\u001b[90m\u001b[58G││   \u001b[1G\u001b[39m\u001b[90m   \u001b[39m└───        goto #28 if not %150\n",
      "\u001b[90m\u001b[58G││╻    getindex\u001b[1G\u001b[39m\u001b[90m   \u001b[39m27 ─ %152 = (Base.arrayref)(false, sources, %34)\u001b[36m::ParticleAmbiguous\u001b[39m\n",
      "\u001b[90m\u001b[58G││╻    +\u001b[1G\u001b[39m\u001b[90m   \u001b[39m│    %153 = (Base.add_int)(%34, 1)\u001b[36m::Int64\u001b[39m\n",
      "\u001b[90m\u001b[58G││   \u001b[1G\u001b[39m\u001b[90m   \u001b[39m└───        goto #29\n",
      "\u001b[90m\u001b[58G││   \u001b[1G\u001b[39m\u001b[90m   \u001b[39m28 ─        goto #29\n",
      "\u001b[90m\u001b[58G│    \u001b[1G\u001b[39m\u001b[90m   \u001b[39m29 ┄ %156 = φ (#27 => %152)\u001b[36m::ParticleAmbiguous\u001b[39m\n",
      "\u001b[90m\u001b[58G│    \u001b[1G\u001b[39m\u001b[90m   \u001b[39m│    %157 = φ (#27 => %153)\u001b[36m::Int64\u001b[39m\n",
      "\u001b[90m\u001b[58G│    \u001b[1G\u001b[39m\u001b[90m   \u001b[39m│    %158 = φ (#27 => false, #28 => true)\u001b[36m::Bool\u001b[39m\n",
      "\u001b[90m\u001b[58G│    \u001b[1G\u001b[39m\u001b[90m   \u001b[39m│    %159 = (Base.not_int)(%158)\u001b[36m::Bool\u001b[39m\n",
      "\u001b[90m\u001b[58G│    \u001b[1G\u001b[39m\u001b[90m   \u001b[39m└───        goto #31 if not %159\n",
      "\u001b[90m\u001b[58G│    \u001b[1G\u001b[39m\u001b[90m   \u001b[39m30 ─        goto #11\n",
      "\u001b[90m\u001b[58G││╻    rem\u001b[1G\u001b[39m\u001b[90m   \u001b[39m31 ─ %162 = (Base.bitcast)(UInt64, %17)\u001b[36m::UInt64\u001b[39m\n",
      "\u001b[90m\u001b[58G││╻    -\u001b[1G\u001b[39m\u001b[90m   \u001b[39m│    %163 = π (0x0000000000000001, \u001b[36mUInt64\u001b[39m)\n",
      "\u001b[90m\u001b[58G│││╻    -\u001b[1G\u001b[39m\u001b[90m   \u001b[39m│    %164 = (Base.sub_int)(%162, %163)\u001b[36m::UInt64\u001b[39m\n",
      "\u001b[90m\u001b[58G││╻    length\u001b[1G\u001b[39m\u001b[90m   \u001b[39m│    %165 = (Base.arraylen)(targets)\u001b[36m::Int64\u001b[39m\n",
      "\u001b[90m\u001b[58G│││╻╷   >=\u001b[1G\u001b[39m\u001b[90m   \u001b[39m│    %166 = (Base.sle_int)(0, %165)\u001b[36m::Bool\u001b[39m\n",
      "\u001b[90m\u001b[58G││││╻    reinterpret\u001b[1G\u001b[39m\u001b[90m   \u001b[39m│    %167 = (Base.bitcast)(UInt64, %165)\u001b[36m::UInt64\u001b[39m\n",
      "\u001b[90m\u001b[58G│││╻    <\u001b[1G\u001b[39m\u001b[90m   \u001b[39m│    %168 = (Base.ult_int)(%164, %167)\u001b[36m::Bool\u001b[39m\n",
      "\u001b[90m\u001b[58G│││╻    &\u001b[1G\u001b[39m\u001b[90m   \u001b[39m│    %169 = (Base.and_int)(%166, %168)\u001b[36m::Bool\u001b[39m\n",
      "\u001b[90m\u001b[58G││   \u001b[1G\u001b[39m\u001b[90m   \u001b[39m└───        goto #33 if not %169\n",
      "\u001b[90m\u001b[58G││╻    getindex\u001b[1G\u001b[39m\u001b[90m   \u001b[39m32 ─ %171 = (Base.arrayref)(false, targets, %17)\u001b[36m::ParticleAmbiguous\u001b[39m\n",
      "\u001b[90m\u001b[58G││╻    +\u001b[1G\u001b[39m\u001b[90m   \u001b[39m│    %172 = (Base.add_int)(%17, 1)\u001b[36m::Int64\u001b[39m\n",
      "\u001b[90m\u001b[58G││   \u001b[1G\u001b[39m\u001b[90m   \u001b[39m└───        goto #34\n",
      "\u001b[90m\u001b[58G││   \u001b[1G\u001b[39m\u001b[90m   \u001b[39m33 ─        goto #34\n",
      "\u001b[90m\u001b[58G│    \u001b[1G\u001b[39m\u001b[90m   \u001b[39m34 ┄ %175 = φ (#32 => %171)\u001b[36m::ParticleAmbiguous\u001b[39m\n",
      "\u001b[90m\u001b[58G│    \u001b[1G\u001b[39m\u001b[90m   \u001b[39m│    %176 = φ (#32 => %172)\u001b[36m::Int64\u001b[39m\n",
      "\u001b[90m\u001b[58G│    \u001b[1G\u001b[39m\u001b[90m   \u001b[39m│    %177 = φ (#32 => false, #33 => true)\u001b[36m::Bool\u001b[39m\n",
      "\u001b[90m\u001b[58G│    \u001b[1G\u001b[39m\u001b[90m   \u001b[39m│    %178 = (Base.not_int)(%177)\u001b[36m::Bool\u001b[39m\n",
      "\u001b[90m\u001b[58G│    \u001b[1G\u001b[39m\u001b[90m   \u001b[39m└───        goto #36 if not %178\n",
      "\u001b[90m\u001b[58G│    \u001b[1G\u001b[39m\u001b[90m   \u001b[39m35 ─        goto #6\n",
      "\u001b[90m\u001b[58G│    \u001b[1G\u001b[39m\u001b[90m   \u001b[39m36 ─        return\n"
     ]
    }
   ],
   "source": [
    "@code_warntype P2P_explicittypes(args...)"
   ]
  },
  {
   "cell_type": "markdown",
   "metadata": {
    "hidden": true
   },
   "source": [
    "Here are the things to notice from what `@code_warntype` is telling us:\n",
    "\n",
    "* Any operation over a particle property (`X`, `Gamma`, `sigma`) is red, meaning that the compiler couldn't identify a concrete type for them.\n",
    "\n",
    "\n",
    "* The output of both functions `g` and `dgdr` are type-indetermined.\n",
    "\n",
    "\n",
    "* The output of the LinearAlgebra function `cross` is type-indetermined.\n",
    "\n",
    "\n",
    "* The external variables where the function store final calculations (`U` and `J`) are type-indetermined."
   ]
  },
  {
   "cell_type": "markdown",
   "metadata": {
    "hidden": true
   },
   "source": [
    "In order to start fixing these type-related issues, first we start by using a well-defined struct for storing information. In the previous function we were using the `ParticleAmbiguous` struct that doesn't declare any types for its properties, raising most of the type-indifined issues. We solve this by replacing the ambiguous struct with the `ParticleConcrete` struct that specifies all its properties as concrete types. It is important to mention that **declaring types as abstract types (*e.g.,* `X::Real` instead of `X::Float64`) still keeps compiler from being able to optimize the code (this is not an issue in function declarations, since JIT creates a function of the specific concrete type the function has been called upon on the fly)**."
   ]
  },
  {
   "cell_type": "code",
   "execution_count": 15,
   "metadata": {
    "hidden": true,
    "hideCode": false,
    "hidePrompt": false
   },
   "outputs": [
    {
     "data": {
      "text/plain": [
       "P2P_concretestruct (generic function with 1 method)"
      ]
     },
     "execution_count": 15,
     "metadata": {},
     "output_type": "execute_result"
    }
   ],
   "source": [
    "function P2P_concretestruct(sources::Array{ParticleConcrete},\n",
    "                             targets::Array{ParticleConcrete}, \n",
    "                             g::Function, dgdr::Function)\n",
    "\n",
    "  for Pi in targets \n",
    "    for Pj in sources    \n",
    "            \n",
    "      dX = Pi.X - Pj.X\n",
    "      r = norm(dX) + EPS\n",
    "            \n",
    "      # Regularizing function and deriv\n",
    "      gsgm = g(r/Pj.sigma)\n",
    "      dgsgmdr = dgdr(r/Pj.sigma)\n",
    "            \n",
    "      # K × Γp\n",
    "      crss = cross(-const4 * dX / r^3, Pj.Gamma) \n",
    "\n",
    "      # U = ∑g_σ(x-xp) * K(x-xp) × Γp\n",
    "      Pi.U[:] += gsgm * crss\n",
    "\n",
    "      # ∂u∂xj(x) = ∑[ ∂gσ∂xj(x−xp) * K(x−xp)×Γp + gσ(x−xp) * ∂K∂xj(x−xp)×Γp ]\n",
    "      for j in 1:3\n",
    "        Pi.J[:, j] += ( dX[j]/(Pj.sigma*r)*dgsgmdr * crss -\n",
    "                                  gsgm * 3*dX[j]/r^2*crss -\n",
    "                                  gsgm * const4/r^3 * \n",
    "                                  cross([i==j for i in 1:3], Pj.Gamma) )\n",
    "      end\n",
    "\n",
    "    end\n",
    "  end\n",
    "end"
   ]
  },
  {
   "cell_type": "code",
   "execution_count": 16,
   "metadata": {
    "hidden": true,
    "hideCode": false,
    "hidePrompt": false
   },
   "outputs": [
    {
     "name": "stdout",
     "output_type": "stream",
     "text": [
      "P2P_concretestruct   is  3.07 times faster than    P2P_explicittypes (19.565ms vs 60.077ms)\n",
      "C++                  is 33.48 times faster than   P2P_concretestruct (0.584ms vs 19.565ms)\n"
     ]
    },
    {
     "data": {
      "text/plain": [
       "BenchmarkTools.Trial: \n",
       "  memory estimate:  58.89 MiB\n",
       "  allocs estimate:  718750\n",
       "  --------------\n",
       "  minimum time:     19.678 ms (10.43% GC)\n",
       "  median time:      21.080 ms (15.06% GC)\n",
       "  mean time:        21.390 ms (15.04% GC)\n",
       "  maximum time:     71.203 ms (64.59% GC)\n",
       "  --------------\n",
       "  samples:          234\n",
       "  evals/sample:     1"
      ]
     },
     "execution_count": 16,
     "metadata": {},
     "output_type": "execute_result"
    }
   ],
   "source": [
    "prev_fun = this_fun\n",
    "this_fun = P2P_concretestruct\n",
    "args = (particlesC, particlesC, g_wnklmns, dgdr_wnklmns)\n",
    "\n",
    "compare(this_fun, prev_fun, args; reverse=true)\n",
    "printcomparison(this_fun, \"C++\", false)\n",
    "\n",
    "@benchmark this_fun(args...)"
   ]
  },
  {
   "cell_type": "markdown",
   "metadata": {
    "hidden": true
   },
   "source": [
    "Voilà! By **using a concrete struct we immediately gain a 3x speed up**, while avoiding explicitly specifying (*i.e.,* hard coding) the types of our internal variables.\n",
    "\n",
    "Running the type analysis again we see that all our type-indetermined issues have now been solved:"
   ]
  },
  {
   "cell_type": "code",
   "execution_count": 17,
   "metadata": {
    "hidden": true,
    "scrolled": true
   },
   "outputs": [
    {
     "name": "stdout",
     "output_type": "stream",
     "text": [
      "Body\u001b[36m::Nothing\u001b[39m\n",
      "\u001b[90m\u001b[43G│╻╷╷       iterate\u001b[1G\u001b[39m\u001b[90m5  \u001b[39m1 ── %1   = (Base.arraylen)(targets)\u001b[36m::Int64\u001b[39m\n",
      "\u001b[90m\u001b[43G││╻╷        iterate\u001b[1G\u001b[39m\u001b[90m   \u001b[39m│    %2   = (Base.sle_int)(0, %1)\u001b[36m::Bool\u001b[39m\n",
      "\u001b[90m\u001b[43G│││╻         <\u001b[1G\u001b[39m\u001b[90m   \u001b[39m│    %3   = (Base.bitcast)(UInt64, %1)\u001b[36m::UInt64\u001b[39m\n",
      "\u001b[90m\u001b[43G││││╻         <\u001b[1G\u001b[39m\u001b[90m   \u001b[39m│    %4   = (Base.ult_int)(0x0000000000000000, %3)\u001b[36m::Bool\u001b[39m\n",
      "\u001b[90m\u001b[43G││││╻         &\u001b[1G\u001b[39m\u001b[90m   \u001b[39m│    %5   = (Base.and_int)(%2, %4)\u001b[36m::Bool\u001b[39m\n",
      "\u001b[90m\u001b[43G│││       \u001b[1G\u001b[39m\u001b[90m   \u001b[39m└───        goto #3 if not %5\n",
      "\u001b[90m\u001b[43G│││╻         getindex\u001b[1G\u001b[39m\u001b[90m   \u001b[39m2 ── %7   = (Base.arrayref)(false, targets, 1)\u001b[36m::ParticleConcrete\u001b[39m\n",
      "\u001b[90m\u001b[43G│││       \u001b[1G\u001b[39m\u001b[90m   \u001b[39m└───        goto #4\n",
      "\u001b[90m\u001b[43G│││       \u001b[1G\u001b[39m\u001b[90m   \u001b[39m3 ──        goto #4\n",
      "\u001b[90m\u001b[43G││        \u001b[1G\u001b[39m\u001b[90m   \u001b[39m4 ┄─ %10  = φ (#2 => false, #3 => true)\u001b[36m::Bool\u001b[39m\n",
      "\u001b[90m\u001b[43G││        \u001b[1G\u001b[39m\u001b[90m   \u001b[39m│    %11  = φ (#2 => %7)\u001b[36m::ParticleConcrete\u001b[39m\n",
      "\u001b[90m\u001b[43G││        \u001b[1G\u001b[39m\u001b[90m   \u001b[39m│    %12  = φ (#2 => 2)\u001b[36m::Int64\u001b[39m\n",
      "\u001b[90m\u001b[43G││        \u001b[1G\u001b[39m\u001b[90m   \u001b[39m└───        goto #5\n",
      "\u001b[90m\u001b[43G│         \u001b[1G\u001b[39m\u001b[90m   \u001b[39m5 ── %14  = (Base.not_int)(%10)\u001b[36m::Bool\u001b[39m\n",
      "\u001b[90m\u001b[43G│         \u001b[1G\u001b[39m\u001b[90m   \u001b[39m└───        goto #89 if not %14\n",
      "\u001b[90m\u001b[43G│         \u001b[1G\u001b[39m\u001b[90m   \u001b[39m6 ┄─ %16  = φ (#5 => %11, #88 => %359)\u001b[36m::ParticleConcrete\u001b[39m\n",
      "\u001b[90m\u001b[43G│         \u001b[1G\u001b[39m\u001b[90m   \u001b[39m│    %17  = φ (#5 => %12, #88 => %360)\u001b[36m::Int64\u001b[39m\n",
      "\u001b[90m\u001b[43G│╻╷╷       iterate\u001b[1G\u001b[39m\u001b[90m6  \u001b[39m│    %18  = (Base.arraylen)(sources)\u001b[36m::Int64\u001b[39m\n",
      "\u001b[90m\u001b[43G││╻╷        iterate\u001b[1G\u001b[39m\u001b[90m   \u001b[39m│    %19  = (Base.sle_int)(0, %18)\u001b[36m::Bool\u001b[39m\n",
      "\u001b[90m\u001b[43G│││╻         <\u001b[1G\u001b[39m\u001b[90m   \u001b[39m│    %20  = (Base.bitcast)(UInt64, %18)\u001b[36m::UInt64\u001b[39m\n",
      "\u001b[90m\u001b[43G││││╻         <\u001b[1G\u001b[39m\u001b[90m   \u001b[39m│    %21  = (Base.ult_int)(0x0000000000000000, %20)\u001b[36m::Bool\u001b[39m\n",
      "\u001b[90m\u001b[43G││││╻         &\u001b[1G\u001b[39m\u001b[90m   \u001b[39m│    %22  = (Base.and_int)(%19, %21)\u001b[36m::Bool\u001b[39m\n",
      "\u001b[90m\u001b[43G│││       \u001b[1G\u001b[39m\u001b[90m   \u001b[39m└───        goto #8 if not %22\n",
      "\u001b[90m\u001b[43G│││╻         getindex\u001b[1G\u001b[39m\u001b[90m   \u001b[39m7 ── %24  = (Base.arrayref)(false, sources, 1)\u001b[36m::ParticleConcrete\u001b[39m\n",
      "\u001b[90m\u001b[43G│││       \u001b[1G\u001b[39m\u001b[90m   \u001b[39m└───        goto #9\n",
      "\u001b[90m\u001b[43G│││       \u001b[1G\u001b[39m\u001b[90m   \u001b[39m8 ──        goto #9\n",
      "\u001b[90m\u001b[43G││        \u001b[1G\u001b[39m\u001b[90m   \u001b[39m9 ┄─ %27  = φ (#7 => false, #8 => true)\u001b[36m::Bool\u001b[39m\n",
      "\u001b[90m\u001b[43G││        \u001b[1G\u001b[39m\u001b[90m   \u001b[39m│    %28  = φ (#7 => %24)\u001b[36m::ParticleConcrete\u001b[39m\n",
      "\u001b[90m\u001b[43G││        \u001b[1G\u001b[39m\u001b[90m   \u001b[39m│    %29  = φ (#7 => 2)\u001b[36m::Int64\u001b[39m\n",
      "\u001b[90m\u001b[43G││        \u001b[1G\u001b[39m\u001b[90m   \u001b[39m└───        goto #10\n",
      "\u001b[90m\u001b[43G│         \u001b[1G\u001b[39m\u001b[90m   \u001b[39m10 ─ %31  = (Base.not_int)(%27)\u001b[36m::Bool\u001b[39m\n",
      "\u001b[90m\u001b[43G│         \u001b[1G\u001b[39m\u001b[90m   \u001b[39m└───        goto #84 if not %31\n",
      "\u001b[90m\u001b[43G│         \u001b[1G\u001b[39m\u001b[90m   \u001b[39m11 ┄ %33  = φ (#10 => %28, #83 => %340)\u001b[36m::ParticleConcrete\u001b[39m\n",
      "\u001b[90m\u001b[43G│         \u001b[1G\u001b[39m\u001b[90m   \u001b[39m│    %34  = φ (#10 => %29, #83 => %341)\u001b[36m::Int64\u001b[39m\n",
      "\u001b[90m\u001b[43G│╻         getproperty\u001b[1G\u001b[39m\u001b[90m8  \u001b[39m│    %35  = (Base.getfield)(%16, :X)\u001b[36m::Array{Float64,1}\u001b[39m\n",
      "\u001b[90m\u001b[43G││        \u001b[1G\u001b[39m\u001b[90m   \u001b[39m│    %36  = (Base.getfield)(%33, :X)\u001b[36m::Array{Float64,1}\u001b[39m\n",
      "\u001b[90m\u001b[43G│╻         -\u001b[1G\u001b[39m\u001b[90m   \u001b[39m│           invoke Base.promote_shape(%35::Array{Float64,1}, %36::Array{Float64,1})\n",
      "\u001b[90m\u001b[43G││        \u001b[1G\u001b[39m\u001b[90m   \u001b[39m│    %38  = invoke Base.broadcast(Base.:-::typeof(-), %35::Array{Float64,1}, %36::Array{Float64,1})\u001b[36m::Array{Float64,1}\u001b[39m\n",
      "\u001b[90m\u001b[43G│         \u001b[1G\u001b[39m\u001b[90m9  \u001b[39m│    %39  = Main.norm\u001b[36m::Core.Compiler.Const(LinearAlgebra.norm, false)\u001b[39m\n",
      "\u001b[90m\u001b[43G│╻         norm\u001b[1G\u001b[39m\u001b[90m   \u001b[39m│    %40  = invoke %39(%38::Array{Float64,1}, 2::Int64)\u001b[36m::Float64\u001b[39m\n",
      "\u001b[90m\u001b[43G│         \u001b[1G\u001b[39m\u001b[90m   \u001b[39m│    %41  = Main.EPS\u001b[36m::Core.Compiler.Const(1.0e-14, false)\u001b[39m\n",
      "\u001b[90m\u001b[43G│╻         +\u001b[1G\u001b[39m\u001b[90m   \u001b[39m│    %42  = (Base.add_float)(%40, %41)\u001b[36m::Float64\u001b[39m\n",
      "\u001b[90m\u001b[43G│╻         getproperty\u001b[1G\u001b[39m\u001b[90m12 \u001b[39m│    %43  = (Base.getfield)(%33, :sigma)\u001b[36m::Float64\u001b[39m\n",
      "\u001b[90m\u001b[43G│╻         /\u001b[1G\u001b[39m\u001b[90m   \u001b[39m│    %44  = (Base.div_float)(%42, %43)\u001b[36m::Float64\u001b[39m\n",
      "\u001b[90m\u001b[43G││╻╷╷       literal_pow\u001b[1G\u001b[39m\u001b[90m   \u001b[39m│    %45  = (Base.mul_float)(%44, %44)\u001b[36m::Float64\u001b[39m\n",
      "\u001b[90m\u001b[43G│││┃│        *\u001b[1G\u001b[39m\u001b[90m   \u001b[39m│    %46  = (Base.mul_float)(%45, %44)\u001b[36m::Float64\u001b[39m\n",
      "\u001b[90m\u001b[43G│││╻         *\u001b[1G\u001b[39m\u001b[90m   \u001b[39m│    %47  = (Base.mul_float)(%44, %44)\u001b[36m::Float64\u001b[39m\n",
      "\u001b[90m\u001b[43G││╻         +\u001b[1G\u001b[39m\u001b[90m   \u001b[39m│    %48  = (Base.add_float)(%47, 2.5)\u001b[36m::Float64\u001b[39m\n",
      "\u001b[90m\u001b[43G││╻         *\u001b[1G\u001b[39m\u001b[90m   \u001b[39m│    %49  = (Base.mul_float)(%46, %48)\u001b[36m::Float64\u001b[39m\n",
      "\u001b[90m\u001b[43G│││╻         *\u001b[1G\u001b[39m\u001b[90m   \u001b[39m│    %50  = (Base.mul_float)(%44, %44)\u001b[36m::Float64\u001b[39m\n",
      "\u001b[90m\u001b[43G│││╻         +\u001b[1G\u001b[39m\u001b[90m   \u001b[39m│    %51  = (Base.add_float)(%50, 1.0)\u001b[36m::Float64\u001b[39m\n",
      "\u001b[90m\u001b[43G││╻         ^\u001b[1G\u001b[39m\u001b[90m   \u001b[39m│    %52  = $(Expr(:foreigncall, \"llvm.pow.f64\", Float64, svec(Float64, Float64), :(:llvmcall), 2, :(%51), 2.5, 2.5, :(%51)))\u001b[36m::Float64\u001b[39m\n",
      "\u001b[90m\u001b[43G│││╻╷        isnan\u001b[1G\u001b[39m\u001b[90m   \u001b[39m│    %53  = (Base.ne_float)(%52, %52)\u001b[36m::Bool\u001b[39m\n",
      "\u001b[90m\u001b[43G│││╻         +\u001b[1G\u001b[39m\u001b[90m   \u001b[39m│    %54  = (Base.add_float)(%51, 2.5)\u001b[36m::Float64\u001b[39m\n",
      "\u001b[90m\u001b[43G││││╻         !=\u001b[1G\u001b[39m\u001b[90m   \u001b[39m│    %55  = (Base.ne_float)(%54, %54)\u001b[36m::Bool\u001b[39m\n",
      "\u001b[90m\u001b[43G│││╻         !\u001b[1G\u001b[39m\u001b[90m   \u001b[39m│    %56  = (Base.not_int)(%55)\u001b[36m::Bool\u001b[39m\n",
      "\u001b[90m\u001b[43G│││╻         &\u001b[1G\u001b[39m\u001b[90m   \u001b[39m│    %57  = (Base.and_int)(%53, %56)\u001b[36m::Bool\u001b[39m\n",
      "\u001b[90m\u001b[43G│││       \u001b[1G\u001b[39m\u001b[90m   \u001b[39m└───        goto #13 if not %57\n",
      "\u001b[90m\u001b[43G│││       \u001b[1G\u001b[39m\u001b[90m   \u001b[39m12 ─        invoke Base.Math.throw_exp_domainerror(%51::Float64)\n",
      "\u001b[90m\u001b[43G│││       \u001b[1G\u001b[39m\u001b[90m   \u001b[39m└───        $(Expr(:unreachable))\n",
      "\u001b[90m\u001b[43G│││       \u001b[1G\u001b[39m\u001b[90m   \u001b[39m13 ─        goto #14\n",
      "\u001b[90m\u001b[43G││╻         /\u001b[1G\u001b[39m\u001b[90m   \u001b[39m14 ─ %62  = (Base.div_float)(%49, %52)\u001b[36m::Float64\u001b[39m\n",
      "\u001b[90m\u001b[43G││        \u001b[1G\u001b[39m\u001b[90m   \u001b[39m└───        goto #15\n",
      "\u001b[90m\u001b[43G│╻         getproperty\u001b[1G\u001b[39m\u001b[90m13 \u001b[39m15 ─ %64  = (Base.getfield)(%33, :sigma)\u001b[36m::Float64\u001b[39m\n",
      "\u001b[90m\u001b[43G│╻         /\u001b[1G\u001b[39m\u001b[90m   \u001b[39m│    %65  = (Base.div_float)(%42, %64)\u001b[36m::Float64\u001b[39m\n",
      "\u001b[90m\u001b[43G││╻╷        literal_pow\u001b[1G\u001b[39m\u001b[90m   \u001b[39m│    %66  = (Base.mul_float)(%65, %65)\u001b[36m::Float64\u001b[39m\n",
      "\u001b[90m\u001b[43G││╻         *\u001b[1G\u001b[39m\u001b[90m   \u001b[39m│    %67  = (Base.mul_float)(7.5, %66)\u001b[36m::Float64\u001b[39m\n",
      "\u001b[90m\u001b[43G│││╻         *\u001b[1G\u001b[39m\u001b[90m   \u001b[39m│    %68  = (Base.mul_float)(%65, %65)\u001b[36m::Float64\u001b[39m\n",
      "\u001b[90m\u001b[43G│││╻         +\u001b[1G\u001b[39m\u001b[90m   \u001b[39m│    %69  = (Base.add_float)(%68, 1.0)\u001b[36m::Float64\u001b[39m\n",
      "\u001b[90m\u001b[43G││╻         ^\u001b[1G\u001b[39m\u001b[90m   \u001b[39m│    %70  = $(Expr(:foreigncall, \"llvm.pow.f64\", Float64, svec(Float64, Float64), :(:llvmcall), 2, :(%69), 3.5, 3.5, :(%69)))\u001b[36m::Float64\u001b[39m\n",
      "\u001b[90m\u001b[43G│││╻╷        isnan\u001b[1G\u001b[39m\u001b[90m   \u001b[39m│    %71  = (Base.ne_float)(%70, %70)\u001b[36m::Bool\u001b[39m\n",
      "\u001b[90m\u001b[43G│││╻         +\u001b[1G\u001b[39m\u001b[90m   \u001b[39m│    %72  = (Base.add_float)(%69, 3.5)\u001b[36m::Float64\u001b[39m\n",
      "\u001b[90m\u001b[43G││││╻         !=\u001b[1G\u001b[39m\u001b[90m   \u001b[39m│    %73  = (Base.ne_float)(%72, %72)\u001b[36m::Bool\u001b[39m\n",
      "\u001b[90m\u001b[43G│││╻         !\u001b[1G\u001b[39m\u001b[90m   \u001b[39m│    %74  = (Base.not_int)(%73)\u001b[36m::Bool\u001b[39m\n",
      "\u001b[90m\u001b[43G│││╻         &\u001b[1G\u001b[39m\u001b[90m   \u001b[39m│    %75  = (Base.and_int)(%71, %74)\u001b[36m::Bool\u001b[39m\n",
      "\u001b[90m\u001b[43G│││       \u001b[1G\u001b[39m\u001b[90m   \u001b[39m└───        goto #17 if not %75\n",
      "\u001b[90m\u001b[43G│││       \u001b[1G\u001b[39m\u001b[90m   \u001b[39m16 ─        invoke Base.Math.throw_exp_domainerror(%69::Float64)\n",
      "\u001b[90m\u001b[43G│││       \u001b[1G\u001b[39m\u001b[90m   \u001b[39m└───        $(Expr(:unreachable))\n",
      "\u001b[90m\u001b[43G│││       \u001b[1G\u001b[39m\u001b[90m   \u001b[39m17 ─        goto #18\n",
      "\u001b[90m\u001b[43G││╻         /\u001b[1G\u001b[39m\u001b[90m   \u001b[39m18 ─ %80  = (Base.div_float)(%67, %70)\u001b[36m::Float64\u001b[39m\n",
      "\u001b[90m\u001b[43G││        \u001b[1G\u001b[39m\u001b[90m   \u001b[39m└───        goto #19\n",
      "\u001b[90m\u001b[43G│╻         *\u001b[1G\u001b[39m\u001b[90m16 \u001b[39m19 ─ %82  = invoke Base.broadcast(Base.:*::typeof(*), -0.07957747154594767::Float64, %38::Array{Float64,1})\u001b[36m::Array{Float64,1}\u001b[39m\n",
      "\u001b[90m\u001b[43G││╻╷        *\u001b[1G\u001b[39m\u001b[90m   \u001b[39m│    %83  = (Base.mul_float)(%42, %42)\u001b[36m::Float64\u001b[39m\n",
      "\u001b[90m\u001b[43G│││┃         *\u001b[1G\u001b[39m\u001b[90m   \u001b[39m│    %84  = (Base.mul_float)(%83, %42)\u001b[36m::Float64\u001b[39m\n",
      "\u001b[90m\u001b[43G│╻         /\u001b[1G\u001b[39m\u001b[90m   \u001b[39m│    %85  = invoke Base.broadcast(Base.:/::typeof(/), %82::Array{Float64,1}, %84::Float64)\u001b[36m::Array{Float64,1}\u001b[39m\n",
      "\u001b[90m\u001b[43G│╻         getproperty\u001b[1G\u001b[39m\u001b[90m   \u001b[39m│    %86  = (Base.getfield)(%33, :Gamma)\u001b[36m::Array{Float64,1}\u001b[39m\n",
      "\u001b[90m\u001b[43G││╻         length\u001b[1G\u001b[39m\u001b[90m   \u001b[39m│    %87  = (Base.arraylen)(%86)\u001b[36m::Int64\u001b[39m\n",
      "\u001b[90m\u001b[43G│││       \u001b[1G\u001b[39m\u001b[90m   \u001b[39m│    %88  = (Base.arraylen)(%85)\u001b[36m::Int64\u001b[39m\n",
      "\u001b[90m\u001b[43G││╻         ==\u001b[1G\u001b[39m\u001b[90m   \u001b[39m│    %89  = (%88 === %87)\u001b[36m::Bool\u001b[39m\n",
      "\u001b[90m\u001b[43G││        \u001b[1G\u001b[39m\u001b[90m   \u001b[39m└───        goto #21 if not %89\n",
      "\u001b[90m\u001b[43G││╻         ==\u001b[1G\u001b[39m\u001b[90m   \u001b[39m20 ─ %91  = (%87 === 3)\u001b[36m::Bool\u001b[39m\n",
      "\u001b[90m\u001b[43G││        \u001b[1G\u001b[39m\u001b[90m   \u001b[39m└───        goto #22\n",
      "\u001b[90m\u001b[43G│         \u001b[1G\u001b[39m\u001b[90m   \u001b[39m21 ─        nothing\n",
      "\u001b[90m\u001b[43G││        \u001b[1G\u001b[39m\u001b[90m   \u001b[39m22 ┄ %94  = φ (#20 => %91, #21 => false)\u001b[36m::Bool\u001b[39m\n",
      "\u001b[90m\u001b[43G││╻         !\u001b[1G\u001b[39m\u001b[90m   \u001b[39m│    %95  = (Base.not_int)(%94)\u001b[36m::Bool\u001b[39m\n",
      "\u001b[90m\u001b[43G││        \u001b[1G\u001b[39m\u001b[90m   \u001b[39m└───        goto #24 if not %95\n",
      "\u001b[90m\u001b[43G││╻         Type\u001b[1G\u001b[39m\u001b[90m   \u001b[39m23 ─ %97  = %new(Base.DimensionMismatch, \"cross product is only defined for vectors of length 3\")\u001b[36m::DimensionMismatch\u001b[39m\n",
      "\u001b[90m\u001b[43G││        \u001b[1G\u001b[39m\u001b[90m   \u001b[39m│           (LinearAlgebra.throw)(%97)\n",
      "\u001b[90m\u001b[43G││        \u001b[1G\u001b[39m\u001b[90m   \u001b[39m└───        $(Expr(:unreachable))\n",
      "\u001b[90m\u001b[43G││╻╷╷       indexed_iterate\u001b[1G\u001b[39m\u001b[90m   \u001b[39m24 ─ %100 = (Base.arrayref)(true, %85, 1)\u001b[36m::Float64\u001b[39m\n",
      "\u001b[90m\u001b[43G│││╻         getindex\u001b[1G\u001b[39m\u001b[90m   \u001b[39m│    %101 = (Base.arrayref)(true, %85, 2)\u001b[36m::Float64\u001b[39m\n",
      "\u001b[90m\u001b[43G│││╻         getindex\u001b[1G\u001b[39m\u001b[90m   \u001b[39m│    %102 = (Base.arrayref)(true, %85, 3)\u001b[36m::Float64\u001b[39m\n",
      "\u001b[90m\u001b[43G││╻╷╷       indexed_iterate\u001b[1G\u001b[39m\u001b[90m   \u001b[39m│    %103 = (Base.arrayref)(true, %86, 1)\u001b[36m::Float64\u001b[39m\n",
      "\u001b[90m\u001b[43G│││╻         getindex\u001b[1G\u001b[39m\u001b[90m   \u001b[39m│    %104 = (Base.arrayref)(true, %86, 2)\u001b[36m::Float64\u001b[39m\n",
      "\u001b[90m\u001b[43G│││╻         getindex\u001b[1G\u001b[39m\u001b[90m   \u001b[39m│    %105 = (Base.arrayref)(true, %86, 3)\u001b[36m::Float64\u001b[39m\n",
      "\u001b[90m\u001b[43G││╻         *\u001b[1G\u001b[39m\u001b[90m   \u001b[39m│    %106 = (Base.mul_float)(%101, %105)\u001b[36m::Float64\u001b[39m\n",
      "\u001b[90m\u001b[43G│││       \u001b[1G\u001b[39m\u001b[90m   \u001b[39m│    %107 = (Base.mul_float)(%102, %104)\u001b[36m::Float64\u001b[39m\n",
      "\u001b[90m\u001b[43G││╻         -\u001b[1G\u001b[39m\u001b[90m   \u001b[39m│    %108 = (Base.sub_float)(%106, %107)\u001b[36m::Float64\u001b[39m\n",
      "\u001b[90m\u001b[43G││╻         *\u001b[1G\u001b[39m\u001b[90m   \u001b[39m│    %109 = (Base.mul_float)(%102, %103)\u001b[36m::Float64\u001b[39m\n",
      "\u001b[90m\u001b[43G│││       \u001b[1G\u001b[39m\u001b[90m   \u001b[39m│    %110 = (Base.mul_float)(%100, %105)\u001b[36m::Float64\u001b[39m\n",
      "\u001b[90m\u001b[43G││╻         -\u001b[1G\u001b[39m\u001b[90m   \u001b[39m│    %111 = (Base.sub_float)(%109, %110)\u001b[36m::Float64\u001b[39m\n",
      "\u001b[90m\u001b[43G││╻         *\u001b[1G\u001b[39m\u001b[90m   \u001b[39m│    %112 = (Base.mul_float)(%100, %104)\u001b[36m::Float64\u001b[39m\n",
      "\u001b[90m\u001b[43G│││       \u001b[1G\u001b[39m\u001b[90m   \u001b[39m│    %113 = (Base.mul_float)(%101, %103)\u001b[36m::Float64\u001b[39m\n",
      "\u001b[90m\u001b[43G││╻         -\u001b[1G\u001b[39m\u001b[90m   \u001b[39m│    %114 = (Base.sub_float)(%112, %113)\u001b[36m::Float64\u001b[39m\n"
     ]
    },
    {
     "name": "stdout",
     "output_type": "stream",
     "text": [
      "\u001b[90m\u001b[43G││        \u001b[1G\u001b[39m\u001b[90m   \u001b[39m│    %115 = invoke Base.vect(%108::Float64, %111::Vararg{Float64,N} where N, %114)\u001b[36m::Array{Float64,1}\u001b[39m\n",
      "\u001b[90m\u001b[43G││        \u001b[1G\u001b[39m\u001b[90m   \u001b[39m└───        goto #25\n",
      "\u001b[90m\u001b[43G│╻         getproperty\u001b[1G\u001b[39m\u001b[90m19 \u001b[39m25 ─ %117 = (Base.getfield)(%16, :U)\u001b[36m::Array{Float64,1}\u001b[39m\n",
      "\u001b[90m\u001b[43G││╻         length\u001b[1G\u001b[39m\u001b[90m   \u001b[39m│    %118 = (Base.arraylen)(%117)\u001b[36m::Int64\u001b[39m\n",
      "\u001b[90m\u001b[43G││╻╷        similar\u001b[1G\u001b[39m\u001b[90m   \u001b[39m│    %119 = $(Expr(:foreigncall, :(:jl_alloc_array_1d), Array{Float64,1}, svec(Any, Int64), :(:ccall), 2, Array{Float64,1}, :(%118), :(%118)))\u001b[36m::Array{Float64,1}\u001b[39m\n",
      "\u001b[90m\u001b[43G││╻╷        >\u001b[1G\u001b[39m\u001b[90m   \u001b[39m│    %120 = (Base.slt_int)(0, %118)\u001b[36m::Bool\u001b[39m\n",
      "\u001b[90m\u001b[43G││        \u001b[1G\u001b[39m\u001b[90m   \u001b[39m└───        goto #27 if not %120\n",
      "\u001b[90m\u001b[43G││        \u001b[1G\u001b[39m\u001b[90m   \u001b[39m26 ─        invoke Base.unsafe_copyto!(%119::Array{Float64,1}, 1::Int64, %117::Array{Float64,1}, 1::Int64, %118::Int64)\n",
      "\u001b[90m\u001b[43G││        \u001b[1G\u001b[39m\u001b[90m   \u001b[39m27 ─        goto #28\n",
      "\u001b[90m\u001b[43G│╻         *\u001b[1G\u001b[39m\u001b[90m   \u001b[39m28 ─ %124 = invoke Base.broadcast(Base.:*::typeof(*), %62::Float64, %115::Array{Float64,1})\u001b[36m::Array{Float64,1}\u001b[39m\n",
      "\u001b[90m\u001b[43G│         \u001b[1G\u001b[39m\u001b[90m   \u001b[39m│    %125 = (Core.tuple)(%124)\u001b[36m::Tuple{Array{Float64,1}}\u001b[39m\n",
      "\u001b[90m\u001b[43G│╻         +\u001b[1G\u001b[39m\u001b[90m   \u001b[39m└───        goto #34 if not true\n",
      "\u001b[90m\u001b[43G││        \u001b[1G\u001b[39m\u001b[90m   \u001b[39m29 ┄ %127 = φ (#28 => %124, #33 => %136)\u001b[36m::Array{Float64,1}\u001b[39m\n",
      "\u001b[90m\u001b[43G││        \u001b[1G\u001b[39m\u001b[90m   \u001b[39m│    %128 = φ (#28 => 2, #33 => %137)\u001b[36m::Int64\u001b[39m\n",
      "\u001b[90m\u001b[43G││        \u001b[1G\u001b[39m\u001b[90m   \u001b[39m│           invoke Base.promote_shape(%119::Array{Float64,1}, %127::Array{Float64,1})\n",
      "\u001b[90m\u001b[43G││╻         iterate\u001b[1G\u001b[39m\u001b[90m   \u001b[39m│    %130 = (Base.slt_int)(1, %128)\u001b[36m::Bool\u001b[39m\n",
      "\u001b[90m\u001b[43G│││       \u001b[1G\u001b[39m\u001b[90m   \u001b[39m└───        goto #31 if not %130\n",
      "\u001b[90m\u001b[43G│││       \u001b[1G\u001b[39m\u001b[90m   \u001b[39m30 ─        goto #32\n",
      "\u001b[90m\u001b[43G│││╻         getindex\u001b[1G\u001b[39m\u001b[90m   \u001b[39m31 ─ %133 = (Base.getfield)(%125, %128, true)\u001b[36m::Array{Float64,1}\u001b[39m\n",
      "\u001b[90m\u001b[43G│││╻         +\u001b[1G\u001b[39m\u001b[90m   \u001b[39m│    %134 = (Base.add_int)(%128, 1)\u001b[36m::Int64\u001b[39m\n",
      "\u001b[90m\u001b[43G│││       \u001b[1G\u001b[39m\u001b[90m   \u001b[39m└───        goto #32\n",
      "\u001b[90m\u001b[43G││        \u001b[1G\u001b[39m\u001b[90m   \u001b[39m32 ┄ %136 = φ (#31 => %133)\u001b[36m::Array{Float64,1}\u001b[39m\n",
      "\u001b[90m\u001b[43G││        \u001b[1G\u001b[39m\u001b[90m   \u001b[39m│    %137 = φ (#31 => %134)\u001b[36m::Int64\u001b[39m\n",
      "\u001b[90m\u001b[43G││        \u001b[1G\u001b[39m\u001b[90m   \u001b[39m│    %138 = φ (#30 => true, #31 => false)\u001b[36m::Bool\u001b[39m\n",
      "\u001b[90m\u001b[43G││        \u001b[1G\u001b[39m\u001b[90m   \u001b[39m│    %139 = (Base.not_int)(%138)\u001b[36m::Bool\u001b[39m\n",
      "\u001b[90m\u001b[43G││        \u001b[1G\u001b[39m\u001b[90m   \u001b[39m└───        goto #34 if not %139\n",
      "\u001b[90m\u001b[43G││        \u001b[1G\u001b[39m\u001b[90m   \u001b[39m33 ─        goto #29\n",
      "\u001b[90m\u001b[43G││        \u001b[1G\u001b[39m\u001b[90m   \u001b[39m34 ─ %142 = Base.:+\u001b[36m::typeof(+)\u001b[39m\n",
      "\u001b[90m\u001b[43G││        \u001b[1G\u001b[39m\u001b[90m   \u001b[39m│    %143 = invoke Base.broadcast(%142::typeof(+), %119::Array{Float64,1}, %124::Array{Float64,1})\u001b[36m::Array{Float64,1}\u001b[39m\n",
      "\u001b[90m\u001b[43G││        \u001b[1G\u001b[39m\u001b[90m   \u001b[39m└───        goto #35\n",
      "\u001b[90m\u001b[43G│╻         getproperty\u001b[1G\u001b[39m\u001b[90m   \u001b[39m35 ─ %145 = (Base.getfield)(%16, :U)\u001b[36m::Array{Float64,1}\u001b[39m\n",
      "\u001b[90m\u001b[43G││╻         length\u001b[1G\u001b[39m\u001b[90m   \u001b[39m│    %146 = (Base.arraylen)(%145)\u001b[36m::Int64\u001b[39m\n",
      "\u001b[90m\u001b[43G│╻         setindex!\u001b[1G\u001b[39m\u001b[90m   \u001b[39m└───        goto #40 if not true\n",
      "\u001b[90m\u001b[43G││╻         setindex_shape_check\u001b[1G\u001b[39m\u001b[90m   \u001b[39m36 ─ %148 = (Base.arraylen)(%143)\u001b[36m::Int64\u001b[39m\n",
      "\u001b[90m\u001b[43G│││╻         ==\u001b[1G\u001b[39m\u001b[90m   \u001b[39m│    %149 = (%148 === %146)\u001b[36m::Bool\u001b[39m\n",
      "\u001b[90m\u001b[43G│││       \u001b[1G\u001b[39m\u001b[90m   \u001b[39m└───        goto #38 if not %149\n",
      "\u001b[90m\u001b[43G│││       \u001b[1G\u001b[39m\u001b[90m   \u001b[39m37 ─        goto #39\n",
      "\u001b[90m\u001b[43G│││       \u001b[1G\u001b[39m\u001b[90m   \u001b[39m38 ─ %152 = (Core.tuple)(%146)\u001b[36m::Tuple{Int64}\u001b[39m\n",
      "\u001b[90m\u001b[43G│││       \u001b[1G\u001b[39m\u001b[90m   \u001b[39m│           invoke Base.throw_setindex_mismatch(%143::Array{Float64,1}, %152::Tuple{Int64})\n",
      "\u001b[90m\u001b[43G│││       \u001b[1G\u001b[39m\u001b[90m   \u001b[39m└───        $(Expr(:unreachable))\n",
      "\u001b[90m\u001b[43G│         \u001b[1G\u001b[39m\u001b[90m   \u001b[39m39 ┄        nothing\n",
      "\u001b[90m\u001b[43G││╻╷        >\u001b[1G\u001b[39m\u001b[90m   \u001b[39m40 ─ %156 = (Base.slt_int)(0, %146)\u001b[36m::Bool\u001b[39m\n",
      "\u001b[90m\u001b[43G││        \u001b[1G\u001b[39m\u001b[90m   \u001b[39m└───        goto #42 if not %156\n",
      "\u001b[90m\u001b[43G││        \u001b[1G\u001b[39m\u001b[90m   \u001b[39m41 ─        invoke Base.unsafe_copyto!(%145::Array{Float64,1}, 1::Int64, %143::Array{Float64,1}, 1::Int64, %146::Int64)\n",
      "\u001b[90m\u001b[43G││        \u001b[1G\u001b[39m\u001b[90m   \u001b[39m42 ─        goto #43\n",
      "\u001b[90m\u001b[43G│╻╷╷       Colon\u001b[1G\u001b[39m\u001b[90m22 \u001b[39m43 ─        (Base.ifelse)(true, 3, 0)\n",
      "\u001b[90m\u001b[43G││╻╷╷       isempty\u001b[1G\u001b[39m\u001b[90m   \u001b[39m│    %161 = (Base.slt_int)(3, 1)\u001b[36m::Bool\u001b[39m\n",
      "\u001b[90m\u001b[43G││        \u001b[1G\u001b[39m\u001b[90m   \u001b[39m└───        goto #45 if not %161\n",
      "\u001b[90m\u001b[43G││        \u001b[1G\u001b[39m\u001b[90m   \u001b[39m44 ─        goto #46\n",
      "\u001b[90m\u001b[43G││        \u001b[1G\u001b[39m\u001b[90m   \u001b[39m45 ─        goto #46\n",
      "\u001b[90m\u001b[43G│         \u001b[1G\u001b[39m\u001b[90m   \u001b[39m46 ┄ %165 = φ (#44 => true, #45 => false)\u001b[36m::Bool\u001b[39m\n",
      "\u001b[90m\u001b[43G│         \u001b[1G\u001b[39m\u001b[90m   \u001b[39m│    %166 = φ (#45 => 1)\u001b[36m::Int64\u001b[39m\n",
      "\u001b[90m\u001b[43G│         \u001b[1G\u001b[39m\u001b[90m   \u001b[39m│    %167 = φ (#45 => 1)\u001b[36m::Int64\u001b[39m\n",
      "\u001b[90m\u001b[43G│         \u001b[1G\u001b[39m\u001b[90m   \u001b[39m│    %168 = (Base.not_int)(%165)\u001b[36m::Bool\u001b[39m\n",
      "\u001b[90m\u001b[43G│         \u001b[1G\u001b[39m\u001b[90m   \u001b[39m└───        goto #79 if not %168\n",
      "\u001b[90m\u001b[43G│         \u001b[1G\u001b[39m\u001b[90m   \u001b[39m47 ┄ %170 = φ (#46 => %166, #78 => %321)\u001b[36m::Int64\u001b[39m\n",
      "\u001b[90m\u001b[43G│         \u001b[1G\u001b[39m\u001b[90m   \u001b[39m│    %171 = φ (#46 => %167, #78 => %322)\u001b[36m::Int64\u001b[39m\n",
      "\u001b[90m\u001b[43G│╻         getproperty\u001b[1G\u001b[39m\u001b[90m23 \u001b[39m│    %172 = (Base.getfield)(%16, :J)\u001b[36m::Array{Float64,2}\u001b[39m\n",
      "\u001b[90m\u001b[43G││╻╷╷       to_indices\u001b[1G\u001b[39m\u001b[90m   \u001b[39m│    %173 = (Base.arraysize)(%172, 1)\u001b[36m::Int64\u001b[39m\n",
      "\u001b[90m\u001b[43G│││┃│        axes\u001b[1G\u001b[39m\u001b[90m   \u001b[39m│    %174 = (Base.arraysize)(%172, 2)\u001b[36m::Int64\u001b[39m\n",
      "\u001b[90m\u001b[43G││││╻╷╷╷      map\u001b[1G\u001b[39m\u001b[90m   \u001b[39m│    %175 = (Base.slt_int)(%173, 0)\u001b[36m::Bool\u001b[39m\n",
      "\u001b[90m\u001b[43G│││││┃││       Type\u001b[1G\u001b[39m\u001b[90m   \u001b[39m│    %176 = (Base.ifelse)(%175, 0, %173)\u001b[36m::Int64\u001b[39m\n",
      "\u001b[90m\u001b[43G││││││┃         Type\u001b[1G\u001b[39m\u001b[90m   \u001b[39m│    %177 = %new(Base.OneTo{Int64}, %176)\u001b[36m::Base.OneTo{Int64}\u001b[39m\n",
      "\u001b[90m\u001b[43G││││││╻╷╷       Type\u001b[1G\u001b[39m\u001b[90m   \u001b[39m│    %178 = (Base.slt_int)(%174, 0)\u001b[36m::Bool\u001b[39m\n",
      "\u001b[90m\u001b[43G│││││││┃         max\u001b[1G\u001b[39m\u001b[90m   \u001b[39m│           (Base.ifelse)(%178, 0, %174)\n",
      "\u001b[90m\u001b[43G││││╻╷╷       uncolon\u001b[1G\u001b[39m\u001b[90m   \u001b[39m│    %180 = %new(Base.Slice{Base.OneTo{Int64}}, %177)\u001b[36m::Base.Slice{Base.OneTo{Int64}}\u001b[39m\n",
      "\u001b[90m\u001b[43G││╻         _getindex\u001b[1G\u001b[39m\u001b[90m   \u001b[39m└───        goto #52 if not true\n",
      "\u001b[90m\u001b[43G│││       \u001b[1G\u001b[39m\u001b[90m   \u001b[39m48 ─ %182 = (Core.tuple)(%180, %170)\u001b[36m::Tuple{Base.Slice{Base.OneTo{Int64}},Int64}\u001b[39m\n",
      "\u001b[90m\u001b[43G│││╻╷╷       checkbounds\u001b[1G\u001b[39m\u001b[90m   \u001b[39m│    %183 = (Base.arraysize)(%172, 1)\u001b[36m::Int64\u001b[39m\n",
      "\u001b[90m\u001b[43G││││┃││       checkbounds\u001b[1G\u001b[39m\u001b[90m   \u001b[39m│    %184 = (Base.arraysize)(%172, 2)\u001b[36m::Int64\u001b[39m\n",
      "\u001b[90m\u001b[43G│││││╻╷╷╷      axes\u001b[1G\u001b[39m\u001b[90m   \u001b[39m│    %185 = (Base.slt_int)(%183, 0)\u001b[36m::Bool\u001b[39m\n",
      "\u001b[90m\u001b[43G││││││┃│││      map\u001b[1G\u001b[39m\u001b[90m   \u001b[39m│           (Base.ifelse)(%185, 0, %183)\n",
      "\u001b[90m\u001b[43G│││││││╻╷╷       Type\u001b[1G\u001b[39m\u001b[90m   \u001b[39m│    %187 = (Base.slt_int)(%184, 0)\u001b[36m::Bool\u001b[39m\n",
      "\u001b[90m\u001b[43G││││││││┃│        Type\u001b[1G\u001b[39m\u001b[90m   \u001b[39m│    %188 = (Base.ifelse)(%187, 0, %184)\u001b[36m::Int64\u001b[39m\n",
      "\u001b[90m\u001b[43G││││││╻╷╷       checkbounds_indices\u001b[1G\u001b[39m\u001b[90m   \u001b[39m│    %189 = (Base.sle_int)(1, %170)\u001b[36m::Bool\u001b[39m\n",
      "\u001b[90m\u001b[43G│││││││┃│        checkindex\u001b[1G\u001b[39m\u001b[90m   \u001b[39m│    %190 = (Base.sle_int)(%170, %188)\u001b[36m::Bool\u001b[39m\n",
      "\u001b[90m\u001b[43G││││││││╻         &\u001b[1G\u001b[39m\u001b[90m   \u001b[39m│    %191 = (Base.and_int)(%189, %190)\u001b[36m::Bool\u001b[39m\n",
      "\u001b[90m\u001b[43G│││││││╻         &\u001b[1G\u001b[39m\u001b[90m   \u001b[39m│    %192 = (Base.and_int)(%191, true)\u001b[36m::Bool\u001b[39m\n",
      "\u001b[90m\u001b[43G││││││╻         &\u001b[1G\u001b[39m\u001b[90m   \u001b[39m│    %193 = (Base.and_int)(true, %192)\u001b[36m::Bool\u001b[39m\n",
      "\u001b[90m\u001b[43G││││      \u001b[1G\u001b[39m\u001b[90m   \u001b[39m└───        goto #50 if not %193\n",
      "\u001b[90m\u001b[43G││││      \u001b[1G\u001b[39m\u001b[90m   \u001b[39m49 ─        goto #51\n",
      "\u001b[90m\u001b[43G││││      \u001b[1G\u001b[39m\u001b[90m   \u001b[39m50 ─        invoke Base.throw_boundserror(%172::Array{Float64,2}, %182::Tuple{Base.Slice{Base.OneTo{Int64}},Int64})\n",
      "\u001b[90m\u001b[43G││││      \u001b[1G\u001b[39m\u001b[90m   \u001b[39m└───        $(Expr(:unreachable))\n",
      "\u001b[90m\u001b[43G│         \u001b[1G\u001b[39m\u001b[90m   \u001b[39m51 ┄        nothing\n",
      "\u001b[90m\u001b[43G││╻         _getindex\u001b[1G\u001b[39m\u001b[90m   \u001b[39m52 ─ %199 = invoke Base._unsafe_getindex($(QuoteNode(IndexLinear()))::IndexLinear, %172::Array{Float64,2}, %180::Base.Slice{Base.OneTo{Int64}}, %170::Int64)\u001b[36m::Array{Float64,1}\u001b[39m\n",
      "\u001b[90m\u001b[43G│││       \u001b[1G\u001b[39m\u001b[90m   \u001b[39m└───        goto #53\n",
      "\u001b[90m\u001b[43G││        \u001b[1G\u001b[39m\u001b[90m   \u001b[39m53 ─        goto #54\n",
      "\u001b[90m\u001b[43G│╻         getindex\u001b[1G\u001b[39m\u001b[90m   \u001b[39m54 ─ %202 = (Base.arrayref)(true, %38, %170)\u001b[36m::Float64\u001b[39m\n",
      "\u001b[90m\u001b[43G│╻         getproperty\u001b[1G\u001b[39m\u001b[90m   \u001b[39m│    %203 = (Base.getfield)(%33, :sigma)\u001b[36m::Float64\u001b[39m\n",
      "\u001b[90m\u001b[43G│╻         *\u001b[1G\u001b[39m\u001b[90m   \u001b[39m│    %204 = (Base.mul_float)(%203, %42)\u001b[36m::Float64\u001b[39m\n",
      "\u001b[90m\u001b[43G│╻         /\u001b[1G\u001b[39m\u001b[90m   \u001b[39m│    %205 = (Base.div_float)(%202, %204)\u001b[36m::Float64\u001b[39m\n",
      "\u001b[90m\u001b[43G││╻         *\u001b[1G\u001b[39m\u001b[90m   \u001b[39m│    %206 = (Base.mul_float)(%205, %80)\u001b[36m::Float64\u001b[39m\n"
     ]
    },
    {
     "name": "stdout",
     "output_type": "stream",
     "text": [
      "\u001b[90m\u001b[43G││╻         *\u001b[1G\u001b[39m\u001b[90m   \u001b[39m│    %207 = invoke Base.broadcast(Base.:*::typeof(*), %206::Float64, %115::Array{Float64,1})\u001b[36m::Array{Float64,1}\u001b[39m\n",
      "\u001b[90m\u001b[43G│╻         getindex\u001b[1G\u001b[39m\u001b[90m   \u001b[39m│    %208 = (Base.arrayref)(true, %38, %170)\u001b[36m::Float64\u001b[39m\n",
      "\u001b[90m\u001b[43G││╻╷        *\u001b[1G\u001b[39m\u001b[90m   \u001b[39m│    %209 = (Base.mul_float)(%62, 3.0)\u001b[36m::Float64\u001b[39m\n",
      "\u001b[90m\u001b[43G││╻         *\u001b[1G\u001b[39m\u001b[90m   \u001b[39m│    %210 = (Base.mul_float)(%209, %208)\u001b[36m::Float64\u001b[39m\n",
      "\u001b[90m\u001b[43G││╻         *\u001b[1G\u001b[39m\u001b[90m   \u001b[39m│    %211 = (Base.mul_float)(%42, %42)\u001b[36m::Float64\u001b[39m\n",
      "\u001b[90m\u001b[43G│╻         /\u001b[1G\u001b[39m\u001b[90m   \u001b[39m│    %212 = (Base.div_float)(%210, %211)\u001b[36m::Float64\u001b[39m\n",
      "\u001b[90m\u001b[43G│╻         *\u001b[1G\u001b[39m\u001b[90m   \u001b[39m│    %213 = invoke Base.broadcast(Base.:*::typeof(*), %212::Float64, %115::Array{Float64,1})\u001b[36m::Array{Float64,1}\u001b[39m\n",
      "\u001b[90m\u001b[43G│╻         -\u001b[1G\u001b[39m\u001b[90m   \u001b[39m│           invoke Base.promote_shape(%207::Array{Float64,1}, %213::Array{Float64,1})\n",
      "\u001b[90m\u001b[43G││        \u001b[1G\u001b[39m\u001b[90m   \u001b[39m│    %215 = invoke Base.broadcast(Base.:-::typeof(-), %207::Array{Float64,1}, %213::Array{Float64,1})\u001b[36m::Array{Float64,1}\u001b[39m\n",
      "\u001b[90m\u001b[43G│         \u001b[1G\u001b[39m\u001b[90m   \u001b[39m│    %216 = Main.const4\u001b[36m::Core.Compiler.Const(0.07957747154594767, false)\u001b[39m\n",
      "\u001b[90m\u001b[43G│╻         *\u001b[1G\u001b[39m\u001b[90m   \u001b[39m│    %217 = (Base.mul_float)(%62, %216)\u001b[36m::Float64\u001b[39m\n",
      "\u001b[90m\u001b[43G││╻╷        *\u001b[1G\u001b[39m\u001b[90m   \u001b[39m│    %218 = (Base.mul_float)(%42, %42)\u001b[36m::Float64\u001b[39m\n",
      "\u001b[90m\u001b[43G│││┃         *\u001b[1G\u001b[39m\u001b[90m   \u001b[39m│    %219 = (Base.mul_float)(%218, %42)\u001b[36m::Float64\u001b[39m\n",
      "\u001b[90m\u001b[43G│╻         /\u001b[1G\u001b[39m\u001b[90m   \u001b[39m│    %220 = (Base.div_float)(%217, %219)\u001b[36m::Float64\u001b[39m\n",
      "\u001b[90m\u001b[43G│         \u001b[1G\u001b[39m\u001b[90m   \u001b[39m│    %221 = %new(getfield(Main, Symbol(\"##19#20\")){Int64}, %170)\u001b[36m::getfield(Main, Symbol(\"##19#20\")){Int64}\u001b[39m\n",
      "\u001b[90m\u001b[43G││╻╷        Type\u001b[1G\u001b[39m\u001b[90m   \u001b[39m│           (Base.ifelse)(true, 3, 0)\n",
      "\u001b[90m\u001b[43G│││       \u001b[1G\u001b[39m\u001b[90m   \u001b[39m│    %223 = %new(UnitRange{Int64}, 1, 3)\u001b[36m::UnitRange{Int64}\u001b[39m\n",
      "\u001b[90m\u001b[43G││╻         Type\u001b[1G\u001b[39m\u001b[90m   \u001b[39m│    %224 = %new(Base.Generator{UnitRange{Int64},getfield(Main, Symbol(\"##19#20\")){Int64}}, %221, %223)\u001b[36m::Base.Generator{UnitRange{Int64},getfield(Main, Symbol(\"##19#20\")){Int64}}\u001b[39m\n",
      "\u001b[90m\u001b[43G│         \u001b[1G\u001b[39m\u001b[90m   \u001b[39m│    %225 = invoke Base.collect(%224::Base.Generator{UnitRange{Int64},getfield(Main, Symbol(\"##19#20\")){Int64}})\u001b[36m::Array{Bool,1}\u001b[39m\n",
      "\u001b[90m\u001b[43G│╻         getproperty\u001b[1G\u001b[39m\u001b[90m   \u001b[39m│    %226 = (Base.getfield)(%33, :Gamma)\u001b[36m::Array{Float64,1}\u001b[39m\n",
      "\u001b[90m\u001b[43G││╻         length\u001b[1G\u001b[39m\u001b[90m   \u001b[39m│    %227 = (Base.arraylen)(%226)\u001b[36m::Int64\u001b[39m\n",
      "\u001b[90m\u001b[43G│││       \u001b[1G\u001b[39m\u001b[90m   \u001b[39m│    %228 = (Base.arraylen)(%225)\u001b[36m::Int64\u001b[39m\n",
      "\u001b[90m\u001b[43G││╻         ==\u001b[1G\u001b[39m\u001b[90m   \u001b[39m│    %229 = (%228 === %227)\u001b[36m::Bool\u001b[39m\n",
      "\u001b[90m\u001b[43G││        \u001b[1G\u001b[39m\u001b[90m   \u001b[39m└───        goto #56 if not %229\n",
      "\u001b[90m\u001b[43G││╻         ==\u001b[1G\u001b[39m\u001b[90m   \u001b[39m55 ─ %231 = (%227 === 3)\u001b[36m::Bool\u001b[39m\n",
      "\u001b[90m\u001b[43G││        \u001b[1G\u001b[39m\u001b[90m   \u001b[39m└───        goto #57\n",
      "\u001b[90m\u001b[43G│         \u001b[1G\u001b[39m\u001b[90m   \u001b[39m56 ─        nothing\n",
      "\u001b[90m\u001b[43G││        \u001b[1G\u001b[39m\u001b[90m   \u001b[39m57 ┄ %234 = φ (#55 => %231, #56 => false)\u001b[36m::Bool\u001b[39m\n",
      "\u001b[90m\u001b[43G││╻         !\u001b[1G\u001b[39m\u001b[90m   \u001b[39m│    %235 = (Base.not_int)(%234)\u001b[36m::Bool\u001b[39m\n",
      "\u001b[90m\u001b[43G││        \u001b[1G\u001b[39m\u001b[90m   \u001b[39m└───        goto #59 if not %235\n",
      "\u001b[90m\u001b[43G││╻         Type\u001b[1G\u001b[39m\u001b[90m   \u001b[39m58 ─ %237 = %new(Base.DimensionMismatch, \"cross product is only defined for vectors of length 3\")\u001b[36m::DimensionMismatch\u001b[39m\n",
      "\u001b[90m\u001b[43G││        \u001b[1G\u001b[39m\u001b[90m   \u001b[39m│           (LinearAlgebra.throw)(%237)\n",
      "\u001b[90m\u001b[43G││        \u001b[1G\u001b[39m\u001b[90m   \u001b[39m└───        $(Expr(:unreachable))\n",
      "\u001b[90m\u001b[43G││╻╷╷       indexed_iterate\u001b[1G\u001b[39m\u001b[90m   \u001b[39m59 ─ %240 = (Base.arrayref)(true, %225, 1)\u001b[36m::Bool\u001b[39m\n",
      "\u001b[90m\u001b[43G│││╻         getindex\u001b[1G\u001b[39m\u001b[90m   \u001b[39m│    %241 = (Base.arrayref)(true, %225, 2)\u001b[36m::Bool\u001b[39m\n",
      "\u001b[90m\u001b[43G│││╻         getindex\u001b[1G\u001b[39m\u001b[90m   \u001b[39m│    %242 = (Base.arrayref)(true, %225, 3)\u001b[36m::Bool\u001b[39m\n",
      "\u001b[90m\u001b[43G││╻╷╷       indexed_iterate\u001b[1G\u001b[39m\u001b[90m   \u001b[39m│    %243 = (Base.arrayref)(true, %226, 1)\u001b[36m::Float64\u001b[39m\n",
      "\u001b[90m\u001b[43G│││╻         getindex\u001b[1G\u001b[39m\u001b[90m   \u001b[39m│    %244 = (Base.arrayref)(true, %226, 2)\u001b[36m::Float64\u001b[39m\n",
      "\u001b[90m\u001b[43G│││╻         getindex\u001b[1G\u001b[39m\u001b[90m   \u001b[39m│    %245 = (Base.arrayref)(true, %226, 3)\u001b[36m::Float64\u001b[39m\n",
      "\u001b[90m\u001b[43G││╻╷        *\u001b[1G\u001b[39m\u001b[90m   \u001b[39m│    %246 = (Base.copysign_float)(0.0, %245)\u001b[36m::Float64\u001b[39m\n",
      "\u001b[90m\u001b[43G│││       \u001b[1G\u001b[39m\u001b[90m   \u001b[39m│    %247 = (Base.ifelse)(%241, %245, %246)\u001b[36m::Float64\u001b[39m\n",
      "\u001b[90m\u001b[43G│││╻         copysign\u001b[1G\u001b[39m\u001b[90m   \u001b[39m│    %248 = (Base.copysign_float)(0.0, %244)\u001b[36m::Float64\u001b[39m\n",
      "\u001b[90m\u001b[43G│││       \u001b[1G\u001b[39m\u001b[90m   \u001b[39m│    %249 = (Base.ifelse)(%242, %244, %248)\u001b[36m::Float64\u001b[39m\n",
      "\u001b[90m\u001b[43G││╻         -\u001b[1G\u001b[39m\u001b[90m   \u001b[39m│    %250 = (Base.sub_float)(%247, %249)\u001b[36m::Float64\u001b[39m\n",
      "\u001b[90m\u001b[43G│││╻         copysign\u001b[1G\u001b[39m\u001b[90m   \u001b[39m│    %251 = (Base.copysign_float)(0.0, %243)\u001b[36m::Float64\u001b[39m\n",
      "\u001b[90m\u001b[43G│││       \u001b[1G\u001b[39m\u001b[90m   \u001b[39m│    %252 = (Base.ifelse)(%242, %243, %251)\u001b[36m::Float64\u001b[39m\n",
      "\u001b[90m\u001b[43G│││╻         copysign\u001b[1G\u001b[39m\u001b[90m   \u001b[39m│    %253 = (Base.copysign_float)(0.0, %245)\u001b[36m::Float64\u001b[39m\n",
      "\u001b[90m\u001b[43G│││       \u001b[1G\u001b[39m\u001b[90m   \u001b[39m│    %254 = (Base.ifelse)(%240, %245, %253)\u001b[36m::Float64\u001b[39m\n",
      "\u001b[90m\u001b[43G││╻         -\u001b[1G\u001b[39m\u001b[90m   \u001b[39m│    %255 = (Base.sub_float)(%252, %254)\u001b[36m::Float64\u001b[39m\n",
      "\u001b[90m\u001b[43G│││╻         copysign\u001b[1G\u001b[39m\u001b[90m   \u001b[39m│    %256 = (Base.copysign_float)(0.0, %244)\u001b[36m::Float64\u001b[39m\n",
      "\u001b[90m\u001b[43G│││       \u001b[1G\u001b[39m\u001b[90m   \u001b[39m│    %257 = (Base.ifelse)(%240, %244, %256)\u001b[36m::Float64\u001b[39m\n",
      "\u001b[90m\u001b[43G│││╻         copysign\u001b[1G\u001b[39m\u001b[90m   \u001b[39m│    %258 = (Base.copysign_float)(0.0, %243)\u001b[36m::Float64\u001b[39m\n",
      "\u001b[90m\u001b[43G│││       \u001b[1G\u001b[39m\u001b[90m   \u001b[39m│    %259 = (Base.ifelse)(%241, %243, %258)\u001b[36m::Float64\u001b[39m\n",
      "\u001b[90m\u001b[43G││╻         -\u001b[1G\u001b[39m\u001b[90m   \u001b[39m│    %260 = (Base.sub_float)(%257, %259)\u001b[36m::Float64\u001b[39m\n",
      "\u001b[90m\u001b[43G││        \u001b[1G\u001b[39m\u001b[90m   \u001b[39m│    %261 = invoke Base.vect(%250::Float64, %255::Vararg{Float64,N} where N, %260)\u001b[36m::Array{Float64,1}\u001b[39m\n",
      "\u001b[90m\u001b[43G││        \u001b[1G\u001b[39m\u001b[90m   \u001b[39m└───        goto #60\n",
      "\u001b[90m\u001b[43G│╻         *\u001b[1G\u001b[39m\u001b[90m   \u001b[39m60 ─ %263 = invoke Base.broadcast(Base.:*::typeof(*), %220::Float64, %261::Array{Float64,1})\u001b[36m::Array{Float64,1}\u001b[39m\n",
      "\u001b[90m\u001b[43G│╻         -\u001b[1G\u001b[39m\u001b[90m   \u001b[39m│           invoke Base.promote_shape(%215::Array{Float64,1}, %263::Array{Float64,1})\n",
      "\u001b[90m\u001b[43G││        \u001b[1G\u001b[39m\u001b[90m   \u001b[39m│    %265 = invoke Base.broadcast(Base.:-::typeof(-), %215::Array{Float64,1}, %263::Array{Float64,1})\u001b[36m::Array{Float64,1}\u001b[39m\n",
      "\u001b[90m\u001b[43G│         \u001b[1G\u001b[39m\u001b[90m   \u001b[39m│    %266 = (Core.tuple)(%265)\u001b[36m::Tuple{Array{Float64,1}}\u001b[39m\n",
      "\u001b[90m\u001b[43G│╻         +\u001b[1G\u001b[39m\u001b[90m   \u001b[39m└───        goto #66 if not true\n",
      "\u001b[90m\u001b[43G││        \u001b[1G\u001b[39m\u001b[90m   \u001b[39m61 ┄ %268 = φ (#60 => %265, #65 => %277)\u001b[36m::Array{Float64,1}\u001b[39m\n",
      "\u001b[90m\u001b[43G││        \u001b[1G\u001b[39m\u001b[90m   \u001b[39m│    %269 = φ (#60 => 2, #65 => %278)\u001b[36m::Int64\u001b[39m\n",
      "\u001b[90m\u001b[43G││        \u001b[1G\u001b[39m\u001b[90m   \u001b[39m│           invoke Base.promote_shape(%199::Array{Float64,1}, %268::Array{Float64,1})\n",
      "\u001b[90m\u001b[43G││╻         iterate\u001b[1G\u001b[39m\u001b[90m   \u001b[39m│    %271 = (Base.slt_int)(1, %269)\u001b[36m::Bool\u001b[39m\n",
      "\u001b[90m\u001b[43G│││       \u001b[1G\u001b[39m\u001b[90m   \u001b[39m└───        goto #63 if not %271\n",
      "\u001b[90m\u001b[43G│││       \u001b[1G\u001b[39m\u001b[90m   \u001b[39m62 ─        goto #64\n",
      "\u001b[90m\u001b[43G│││╻         getindex\u001b[1G\u001b[39m\u001b[90m   \u001b[39m63 ─ %274 = (Base.getfield)(%266, %269, true)\u001b[36m::Array{Float64,1}\u001b[39m\n",
      "\u001b[90m\u001b[43G│││╻         +\u001b[1G\u001b[39m\u001b[90m   \u001b[39m│    %275 = (Base.add_int)(%269, 1)\u001b[36m::Int64\u001b[39m\n",
      "\u001b[90m\u001b[43G│││       \u001b[1G\u001b[39m\u001b[90m   \u001b[39m└───        goto #64\n",
      "\u001b[90m\u001b[43G││        \u001b[1G\u001b[39m\u001b[90m   \u001b[39m64 ┄ %277 = φ (#63 => %274)\u001b[36m::Array{Float64,1}\u001b[39m\n",
      "\u001b[90m\u001b[43G││        \u001b[1G\u001b[39m\u001b[90m   \u001b[39m│    %278 = φ (#63 => %275)\u001b[36m::Int64\u001b[39m\n",
      "\u001b[90m\u001b[43G││        \u001b[1G\u001b[39m\u001b[90m   \u001b[39m│    %279 = φ (#62 => true, #63 => false)\u001b[36m::Bool\u001b[39m\n",
      "\u001b[90m\u001b[43G││        \u001b[1G\u001b[39m\u001b[90m   \u001b[39m│    %280 = (Base.not_int)(%279)\u001b[36m::Bool\u001b[39m\n",
      "\u001b[90m\u001b[43G││        \u001b[1G\u001b[39m\u001b[90m   \u001b[39m└───        goto #66 if not %280\n",
      "\u001b[90m\u001b[43G││        \u001b[1G\u001b[39m\u001b[90m   \u001b[39m65 ─        goto #61\n",
      "\u001b[90m\u001b[43G││        \u001b[1G\u001b[39m\u001b[90m   \u001b[39m66 ─ %283 = Base.:+\u001b[36m::typeof(+)\u001b[39m\n",
      "\u001b[90m\u001b[43G││        \u001b[1G\u001b[39m\u001b[90m   \u001b[39m│    %284 = invoke Base.broadcast(%283::typeof(+), %199::Array{Float64,1}, %265::Array{Float64,1})\u001b[36m::Array{Float64,1}\u001b[39m\n",
      "\u001b[90m\u001b[43G││        \u001b[1G\u001b[39m\u001b[90m   \u001b[39m└───        goto #67\n",
      "\u001b[90m\u001b[43G│╻         getproperty\u001b[1G\u001b[39m\u001b[90m   \u001b[39m67 ─ %286 = (Base.getfield)(%16, :J)\u001b[36m::Array{Float64,2}\u001b[39m\n",
      "\u001b[90m\u001b[43G││╻╷╷       to_indices\u001b[1G\u001b[39m\u001b[90m   \u001b[39m│    %287 = (Base.arraysize)(%286, 1)\u001b[36m::Int64\u001b[39m\n",
      "\u001b[90m\u001b[43G│││┃│        axes\u001b[1G\u001b[39m\u001b[90m   \u001b[39m│    %288 = (Base.arraysize)(%286, 2)\u001b[36m::Int64\u001b[39m\n",
      "\u001b[90m\u001b[43G││││╻╷╷╷      map\u001b[1G\u001b[39m\u001b[90m   \u001b[39m│    %289 = (Base.slt_int)(%287, 0)\u001b[36m::Bool\u001b[39m\n",
      "\u001b[90m\u001b[43G│││││┃││       Type\u001b[1G\u001b[39m\u001b[90m   \u001b[39m│    %290 = (Base.ifelse)(%289, 0, %287)\u001b[36m::Int64\u001b[39m\n",
      "\u001b[90m\u001b[43G││││││┃         Type\u001b[1G\u001b[39m\u001b[90m   \u001b[39m│    %291 = %new(Base.OneTo{Int64}, %290)\u001b[36m::Base.OneTo{Int64}\u001b[39m\n",
      "\u001b[90m\u001b[43G││││││╻╷╷       Type\u001b[1G\u001b[39m\u001b[90m   \u001b[39m│    %292 = (Base.slt_int)(%288, 0)\u001b[36m::Bool\u001b[39m\n",
      "\u001b[90m\u001b[43G│││││││┃         max\u001b[1G\u001b[39m\u001b[90m   \u001b[39m│           (Base.ifelse)(%292, 0, %288)\n"
     ]
    },
    {
     "name": "stdout",
     "output_type": "stream",
     "text": [
      "\u001b[90m\u001b[43G││││╻╷╷       uncolon\u001b[1G\u001b[39m\u001b[90m   \u001b[39m│    %294 = %new(Base.Slice{Base.OneTo{Int64}}, %291)\u001b[36m::Base.Slice{Base.OneTo{Int64}}\u001b[39m\n",
      "\u001b[90m\u001b[43G││╻         _setindex!\u001b[1G\u001b[39m\u001b[90m   \u001b[39m└───        goto #72 if not true\n",
      "\u001b[90m\u001b[43G│││       \u001b[1G\u001b[39m\u001b[90m   \u001b[39m68 ─ %296 = (Core.tuple)(%294, %170)\u001b[36m::Tuple{Base.Slice{Base.OneTo{Int64}},Int64}\u001b[39m\n",
      "\u001b[90m\u001b[43G│││╻╷╷       checkbounds\u001b[1G\u001b[39m\u001b[90m   \u001b[39m│    %297 = (Base.arraysize)(%286, 1)\u001b[36m::Int64\u001b[39m\n",
      "\u001b[90m\u001b[43G││││┃││       checkbounds\u001b[1G\u001b[39m\u001b[90m   \u001b[39m│    %298 = (Base.arraysize)(%286, 2)\u001b[36m::Int64\u001b[39m\n",
      "\u001b[90m\u001b[43G│││││╻╷╷╷      axes\u001b[1G\u001b[39m\u001b[90m   \u001b[39m│    %299 = (Base.slt_int)(%297, 0)\u001b[36m::Bool\u001b[39m\n",
      "\u001b[90m\u001b[43G││││││┃│││      map\u001b[1G\u001b[39m\u001b[90m   \u001b[39m│           (Base.ifelse)(%299, 0, %297)\n",
      "\u001b[90m\u001b[43G│││││││╻╷╷       Type\u001b[1G\u001b[39m\u001b[90m   \u001b[39m│    %301 = (Base.slt_int)(%298, 0)\u001b[36m::Bool\u001b[39m\n",
      "\u001b[90m\u001b[43G││││││││┃│        Type\u001b[1G\u001b[39m\u001b[90m   \u001b[39m│    %302 = (Base.ifelse)(%301, 0, %298)\u001b[36m::Int64\u001b[39m\n",
      "\u001b[90m\u001b[43G││││││╻╷╷       checkbounds_indices\u001b[1G\u001b[39m\u001b[90m   \u001b[39m│    %303 = (Base.sle_int)(1, %170)\u001b[36m::Bool\u001b[39m\n",
      "\u001b[90m\u001b[43G│││││││┃│        checkindex\u001b[1G\u001b[39m\u001b[90m   \u001b[39m│    %304 = (Base.sle_int)(%170, %302)\u001b[36m::Bool\u001b[39m\n",
      "\u001b[90m\u001b[43G││││││││╻         &\u001b[1G\u001b[39m\u001b[90m   \u001b[39m│    %305 = (Base.and_int)(%303, %304)\u001b[36m::Bool\u001b[39m\n",
      "\u001b[90m\u001b[43G│││││││╻         &\u001b[1G\u001b[39m\u001b[90m   \u001b[39m│    %306 = (Base.and_int)(%305, true)\u001b[36m::Bool\u001b[39m\n",
      "\u001b[90m\u001b[43G││││││╻         &\u001b[1G\u001b[39m\u001b[90m   \u001b[39m│    %307 = (Base.and_int)(true, %306)\u001b[36m::Bool\u001b[39m\n",
      "\u001b[90m\u001b[43G││││      \u001b[1G\u001b[39m\u001b[90m   \u001b[39m└───        goto #70 if not %307\n",
      "\u001b[90m\u001b[43G││││      \u001b[1G\u001b[39m\u001b[90m   \u001b[39m69 ─        goto #71\n",
      "\u001b[90m\u001b[43G││││      \u001b[1G\u001b[39m\u001b[90m   \u001b[39m70 ─        invoke Base.throw_boundserror(%286::Array{Float64,2}, %296::Tuple{Base.Slice{Base.OneTo{Int64}},Int64})\n",
      "\u001b[90m\u001b[43G││││      \u001b[1G\u001b[39m\u001b[90m   \u001b[39m└───        $(Expr(:unreachable))\n",
      "\u001b[90m\u001b[43G│         \u001b[1G\u001b[39m\u001b[90m   \u001b[39m71 ┄        nothing\n",
      "\u001b[90m\u001b[43G││╻         _setindex!\u001b[1G\u001b[39m\u001b[90m   \u001b[39m72 ─        invoke Base._unsafe_setindex!($(QuoteNode(IndexLinear()))::IndexLinear, %286::Array{Float64,2}, %284::Array{Float64,1}, %294::Base.Slice{Base.OneTo{Int64}}, %170::Int64)\n",
      "\u001b[90m\u001b[43G│││       \u001b[1G\u001b[39m\u001b[90m   \u001b[39m└───        goto #73\n",
      "\u001b[90m\u001b[43G││        \u001b[1G\u001b[39m\u001b[90m   \u001b[39m73 ─        goto #74\n",
      "\u001b[90m\u001b[43G││╻         ==\u001b[1G\u001b[39m\u001b[90m   \u001b[39m74 ─ %316 = (%171 === 3)\u001b[36m::Bool\u001b[39m\n",
      "\u001b[90m\u001b[43G││        \u001b[1G\u001b[39m\u001b[90m   \u001b[39m└───        goto #76 if not %316\n",
      "\u001b[90m\u001b[43G││        \u001b[1G\u001b[39m\u001b[90m   \u001b[39m75 ─        goto #77\n",
      "\u001b[90m\u001b[43G││╻         +\u001b[1G\u001b[39m\u001b[90m   \u001b[39m76 ─ %319 = (Base.add_int)(%171, 1)\u001b[36m::Int64\u001b[39m\n",
      "\u001b[90m\u001b[43G│╻         iterate\u001b[1G\u001b[39m\u001b[90m   \u001b[39m└───        goto #77\n",
      "\u001b[90m\u001b[43G│         \u001b[1G\u001b[39m\u001b[90m   \u001b[39m77 ┄ %321 = φ (#76 => %319)\u001b[36m::Int64\u001b[39m\n",
      "\u001b[90m\u001b[43G│         \u001b[1G\u001b[39m\u001b[90m   \u001b[39m│    %322 = φ (#76 => %319)\u001b[36m::Int64\u001b[39m\n",
      "\u001b[90m\u001b[43G│         \u001b[1G\u001b[39m\u001b[90m   \u001b[39m│    %323 = φ (#75 => true, #76 => false)\u001b[36m::Bool\u001b[39m\n",
      "\u001b[90m\u001b[43G│         \u001b[1G\u001b[39m\u001b[90m   \u001b[39m│    %324 = (Base.not_int)(%323)\u001b[36m::Bool\u001b[39m\n",
      "\u001b[90m\u001b[43G│         \u001b[1G\u001b[39m\u001b[90m   \u001b[39m└───        goto #79 if not %324\n",
      "\u001b[90m\u001b[43G│         \u001b[1G\u001b[39m\u001b[90m   \u001b[39m78 ─        goto #47\n",
      "\u001b[90m\u001b[43G││╻         rem\u001b[1G\u001b[39m\u001b[90m   \u001b[39m79 ─ %327 = (Base.bitcast)(UInt64, %34)\u001b[36m::UInt64\u001b[39m\n",
      "\u001b[90m\u001b[43G││╻         -\u001b[1G\u001b[39m\u001b[90m   \u001b[39m│    %328 = π (0x0000000000000001, \u001b[36mUInt64\u001b[39m)\n",
      "\u001b[90m\u001b[43G│││╻         -\u001b[1G\u001b[39m\u001b[90m   \u001b[39m│    %329 = (Base.sub_int)(%327, %328)\u001b[36m::UInt64\u001b[39m\n",
      "\u001b[90m\u001b[43G││╻         length\u001b[1G\u001b[39m\u001b[90m   \u001b[39m│    %330 = (Base.arraylen)(sources)\u001b[36m::Int64\u001b[39m\n",
      "\u001b[90m\u001b[43G│││╻╷        >=\u001b[1G\u001b[39m\u001b[90m   \u001b[39m│    %331 = (Base.sle_int)(0, %330)\u001b[36m::Bool\u001b[39m\n",
      "\u001b[90m\u001b[43G││││╻         reinterpret\u001b[1G\u001b[39m\u001b[90m   \u001b[39m│    %332 = (Base.bitcast)(UInt64, %330)\u001b[36m::UInt64\u001b[39m\n",
      "\u001b[90m\u001b[43G│││╻         <\u001b[1G\u001b[39m\u001b[90m   \u001b[39m│    %333 = (Base.ult_int)(%329, %332)\u001b[36m::Bool\u001b[39m\n",
      "\u001b[90m\u001b[43G│││╻         &\u001b[1G\u001b[39m\u001b[90m   \u001b[39m│    %334 = (Base.and_int)(%331, %333)\u001b[36m::Bool\u001b[39m\n",
      "\u001b[90m\u001b[43G││        \u001b[1G\u001b[39m\u001b[90m   \u001b[39m└───        goto #81 if not %334\n",
      "\u001b[90m\u001b[43G││╻         getindex\u001b[1G\u001b[39m\u001b[90m   \u001b[39m80 ─ %336 = (Base.arrayref)(false, sources, %34)\u001b[36m::ParticleConcrete\u001b[39m\n",
      "\u001b[90m\u001b[43G││╻         +\u001b[1G\u001b[39m\u001b[90m   \u001b[39m│    %337 = (Base.add_int)(%34, 1)\u001b[36m::Int64\u001b[39m\n",
      "\u001b[90m\u001b[43G││        \u001b[1G\u001b[39m\u001b[90m   \u001b[39m└───        goto #82\n",
      "\u001b[90m\u001b[43G││        \u001b[1G\u001b[39m\u001b[90m   \u001b[39m81 ─        goto #82\n",
      "\u001b[90m\u001b[43G│         \u001b[1G\u001b[39m\u001b[90m   \u001b[39m82 ┄ %340 = φ (#80 => %336)\u001b[36m::ParticleConcrete\u001b[39m\n",
      "\u001b[90m\u001b[43G│         \u001b[1G\u001b[39m\u001b[90m   \u001b[39m│    %341 = φ (#80 => %337)\u001b[36m::Int64\u001b[39m\n",
      "\u001b[90m\u001b[43G│         \u001b[1G\u001b[39m\u001b[90m   \u001b[39m│    %342 = φ (#80 => false, #81 => true)\u001b[36m::Bool\u001b[39m\n",
      "\u001b[90m\u001b[43G│         \u001b[1G\u001b[39m\u001b[90m   \u001b[39m│    %343 = (Base.not_int)(%342)\u001b[36m::Bool\u001b[39m\n",
      "\u001b[90m\u001b[43G│         \u001b[1G\u001b[39m\u001b[90m   \u001b[39m└───        goto #84 if not %343\n",
      "\u001b[90m\u001b[43G│         \u001b[1G\u001b[39m\u001b[90m   \u001b[39m83 ─        goto #11\n",
      "\u001b[90m\u001b[43G││╻         rem\u001b[1G\u001b[39m\u001b[90m   \u001b[39m84 ─ %346 = (Base.bitcast)(UInt64, %17)\u001b[36m::UInt64\u001b[39m\n",
      "\u001b[90m\u001b[43G││╻         -\u001b[1G\u001b[39m\u001b[90m   \u001b[39m│    %347 = π (0x0000000000000001, \u001b[36mUInt64\u001b[39m)\n",
      "\u001b[90m\u001b[43G│││╻         -\u001b[1G\u001b[39m\u001b[90m   \u001b[39m│    %348 = (Base.sub_int)(%346, %347)\u001b[36m::UInt64\u001b[39m\n",
      "\u001b[90m\u001b[43G││╻         length\u001b[1G\u001b[39m\u001b[90m   \u001b[39m│    %349 = (Base.arraylen)(targets)\u001b[36m::Int64\u001b[39m\n",
      "\u001b[90m\u001b[43G│││╻╷        >=\u001b[1G\u001b[39m\u001b[90m   \u001b[39m│    %350 = (Base.sle_int)(0, %349)\u001b[36m::Bool\u001b[39m\n",
      "\u001b[90m\u001b[43G││││╻         reinterpret\u001b[1G\u001b[39m\u001b[90m   \u001b[39m│    %351 = (Base.bitcast)(UInt64, %349)\u001b[36m::UInt64\u001b[39m\n",
      "\u001b[90m\u001b[43G│││╻         <\u001b[1G\u001b[39m\u001b[90m   \u001b[39m│    %352 = (Base.ult_int)(%348, %351)\u001b[36m::Bool\u001b[39m\n",
      "\u001b[90m\u001b[43G│││╻         &\u001b[1G\u001b[39m\u001b[90m   \u001b[39m│    %353 = (Base.and_int)(%350, %352)\u001b[36m::Bool\u001b[39m\n",
      "\u001b[90m\u001b[43G││        \u001b[1G\u001b[39m\u001b[90m   \u001b[39m└───        goto #86 if not %353\n",
      "\u001b[90m\u001b[43G││╻         getindex\u001b[1G\u001b[39m\u001b[90m   \u001b[39m85 ─ %355 = (Base.arrayref)(false, targets, %17)\u001b[36m::ParticleConcrete\u001b[39m\n",
      "\u001b[90m\u001b[43G││╻         +\u001b[1G\u001b[39m\u001b[90m   \u001b[39m│    %356 = (Base.add_int)(%17, 1)\u001b[36m::Int64\u001b[39m\n",
      "\u001b[90m\u001b[43G││        \u001b[1G\u001b[39m\u001b[90m   \u001b[39m└───        goto #87\n",
      "\u001b[90m\u001b[43G││        \u001b[1G\u001b[39m\u001b[90m   \u001b[39m86 ─        goto #87\n",
      "\u001b[90m\u001b[43G│         \u001b[1G\u001b[39m\u001b[90m   \u001b[39m87 ┄ %359 = φ (#85 => %355)\u001b[36m::ParticleConcrete\u001b[39m\n",
      "\u001b[90m\u001b[43G│         \u001b[1G\u001b[39m\u001b[90m   \u001b[39m│    %360 = φ (#85 => %356)\u001b[36m::Int64\u001b[39m\n",
      "\u001b[90m\u001b[43G│         \u001b[1G\u001b[39m\u001b[90m   \u001b[39m│    %361 = φ (#85 => false, #86 => true)\u001b[36m::Bool\u001b[39m\n",
      "\u001b[90m\u001b[43G│         \u001b[1G\u001b[39m\u001b[90m   \u001b[39m│    %362 = (Base.not_int)(%361)\u001b[36m::Bool\u001b[39m\n",
      "\u001b[90m\u001b[43G│         \u001b[1G\u001b[39m\u001b[90m   \u001b[39m└───        goto #89 if not %362\n",
      "\u001b[90m\u001b[43G│         \u001b[1G\u001b[39m\u001b[90m   \u001b[39m88 ─        goto #6\n",
      "\u001b[90m\u001b[43G│         \u001b[1G\u001b[39m\u001b[90m   \u001b[39m89 ─        return\n"
     ]
    }
   ],
   "source": [
    "@code_warntype P2P_concretestruct(args...)"
   ]
  },
  {
   "cell_type": "markdown",
   "metadata": {
    "hidden": true
   },
   "source": [
    "Working with concrete types greatly sped up the computation, however, the C++ version is still 33x faster than Julia. Let's see what else can we optimize."
   ]
  },
  {
   "cell_type": "markdown",
   "metadata": {
    "heading_collapsed": true
   },
   "source": [
    "## Fix #2: Avoid List Comprehension Operations"
   ]
  },
  {
   "cell_type": "markdown",
   "metadata": {
    "hidden": true
   },
   "source": [
    "The wonders of list comprehension may tempt you to do some line-efficient calculations, however, these will generally lead to a very inefficient computation. Take for example this list-comprehension sum:"
   ]
  },
  {
   "cell_type": "code",
   "execution_count": 18,
   "metadata": {
    "hidden": true
   },
   "outputs": [
    {
     "name": "stdout",
     "output_type": "stream",
     "text": [
      "  78.217 ns (1 allocation: 896 bytes)\n"
     ]
    }
   ],
   "source": [
    "fun1(n) = sum([i for i in 1:n])\n",
    "\n",
    "@btime fun1(100);"
   ]
  },
  {
   "cell_type": "markdown",
   "metadata": {
    "hidden": true
   },
   "source": [
    "Here is the version of the same function unrolled without the list comprehension:"
   ]
  },
  {
   "cell_type": "code",
   "execution_count": 19,
   "metadata": {
    "hidden": true,
    "scrolled": true
   },
   "outputs": [
    {
     "name": "stdout",
     "output_type": "stream",
     "text": [
      "  1.303 ns (0 allocations: 0 bytes)\n"
     ]
    }
   ],
   "source": [
    "function fun2(n)\n",
    "    out = 0\n",
    "    for i in 1:n\n",
    "        out += i\n",
    "    end\n",
    "    return out\n",
    "end\n",
    "\n",
    "@btime fun2(100);"
   ]
  },
  {
   "cell_type": "markdown",
   "metadata": {
    "hidden": true
   },
   "source": [
    "The difference is a 60x speed up.\n",
    "\n",
    "In our function we had a Kronecker delta cross product that we were calculating in just one line as\n",
    "\n",
    "```julia\n",
    "\n",
    "      # ∂u∂xj(x) = ∑[ ∂gσ∂xj(x−xp) * K(x−xp)×Γp + gσ(x−xp) * ∂K∂xj(x−xp)×Γp ]\n",
    "      for j in 1:3\n",
    "        Pi.J[:, j] += ( dX[j]/(Pj.sigma*r)*dgsgmdr * crss -\n",
    "                                  gsgm * 3*dX[j]/r^2*crss -\n",
    "                                  gsgm * const4/r^3 * \n",
    "                                  cross([i==j for i in 1:3], Pj.Gamma) ) #<----- HERE\n",
    "      end\n",
    "```\n",
    "\n",
    "The alternative is to expand it into a few lines as\n",
    "\n",
    "```julia\n",
    "\n",
    "      # ∂u∂xj(x) = ∑[ ∂gσ∂xj(x−xp) * K(x−xp)×Γp + gσ(x−xp) * ∂K∂xj(x−xp)×Γp ]\n",
    "      for j in 1:3\n",
    "        Pi.J[:, j] += ( dX[j]/(Pj.sigma*r)*dgsgmdr * crss -\n",
    "                                  gsgm * 3*dX[j]/r^2*crss )\n",
    "      end\n",
    "            \n",
    "      # Adds the Kronecker delta term\n",
    "      aux = - const4 * gsgm / r^3\n",
    "      # j=1\n",
    "      Pi.J[2, 1] -= aux * Pj.Gamma[3]\n",
    "      Pi.J[3, 1] += aux * Pj.Gamma[2]\n",
    "      # j=2\n",
    "      Pi.J[1, 2] += aux * Pj.Gamma[3]\n",
    "      Pi.J[3, 2] -= aux * Pj.Gamma[1]\n",
    "      # j=3\n",
    "      Pi.J[1, 3] -= aux * Pj.Gamma[2]\n",
    "      Pi.J[2, 3] += aux * Pj.Gamma[1]\n",
    "```"
   ]
  },
  {
   "cell_type": "markdown",
   "metadata": {
    "hidden": true
   },
   "source": [
    "The problem with list comprehension operations is that it has to allocate memory to build the array prior to operating. Just resist the temptation of using list comprehension to save yourself a few lines, and simply unroll it. As seen below we get a 1.5x speed up by unrolling this line:"
   ]
  },
  {
   "cell_type": "code",
   "execution_count": 20,
   "metadata": {
    "hidden": true,
    "hideCode": false,
    "hidePrompt": false,
    "scrolled": true
   },
   "outputs": [
    {
     "data": {
      "text/plain": [
       "P2P_nocomprehension (generic function with 1 method)"
      ]
     },
     "execution_count": 20,
     "metadata": {},
     "output_type": "execute_result"
    }
   ],
   "source": [
    "function P2P_nocomprehension(sources::Array{ParticleConcrete},\n",
    "                             targets::Array{ParticleConcrete}, \n",
    "                             g::Function, dgdr::Function)\n",
    "\n",
    "  for Pi in targets \n",
    "    for Pj in sources    \n",
    "            \n",
    "      dX = Pi.X - Pj.X\n",
    "      r = norm(dX) + EPS\n",
    "            \n",
    "      # Regularizing function and deriv\n",
    "      gsgm = g(r/Pj.sigma)\n",
    "      dgsgmdr = dgdr(r/Pj.sigma)\n",
    "            \n",
    "      # K × Γp\n",
    "      crss = cross(-const4 * dX / r^3, Pj.Gamma) \n",
    "\n",
    "      # U = ∑g_σ(x-xp) * K(x-xp) × Γp\n",
    "      Pi.U[:] += gsgm * crss\n",
    "\n",
    "      # ∂u∂xj(x) = ∑[ ∂gσ∂xj(x−xp) * K(x−xp)×Γp + gσ(x−xp) * ∂K∂xj(x−xp)×Γp ]\n",
    "      for j in 1:3\n",
    "        Pi.J[:, j] += ( dX[j]/(Pj.sigma*r)*dgsgmdr * crss -\n",
    "                                  gsgm * 3*dX[j]/r^2*crss )\n",
    "      end\n",
    "            \n",
    "      # Adds the Kronecker delta term\n",
    "      aux = - const4 * gsgm / r^3\n",
    "      # j=1\n",
    "      Pi.J[2, 1] -= aux * Pj.Gamma[3]\n",
    "      Pi.J[3, 1] += aux * Pj.Gamma[2]\n",
    "      # j=2\n",
    "      Pi.J[1, 2] += aux * Pj.Gamma[3]\n",
    "      Pi.J[3, 2] -= aux * Pj.Gamma[1]\n",
    "      # j=3\n",
    "      Pi.J[1, 3] -= aux * Pj.Gamma[2]\n",
    "      Pi.J[2, 3] += aux * Pj.Gamma[1]\n",
    "\n",
    "    end\n",
    "  end\n",
    "end"
   ]
  },
  {
   "cell_type": "code",
   "execution_count": 21,
   "metadata": {
    "hidden": true,
    "hideCode": false,
    "hidePrompt": false
   },
   "outputs": [
    {
     "name": "stdout",
     "output_type": "stream",
     "text": [
      "P2P_nocomprehension  is  1.53 times faster than   P2P_concretestruct (12.812ms vs 19.565ms)\n",
      "C++                  is 21.92 times faster than  P2P_nocomprehension (0.584ms vs 12.812ms)\n"
     ]
    },
    {
     "data": {
      "text/plain": [
       "BenchmarkTools.Trial: \n",
       "  memory estimate:  37.43 MiB\n",
       "  allocs estimate:  390625\n",
       "  --------------\n",
       "  minimum time:     12.920 ms (7.04% GC)\n",
       "  median time:      14.482 ms (12.93% GC)\n",
       "  mean time:        15.336 ms (13.32% GC)\n",
       "  maximum time:     52.549 ms (72.10% GC)\n",
       "  --------------\n",
       "  samples:          326\n",
       "  evals/sample:     1"
      ]
     },
     "execution_count": 21,
     "metadata": {},
     "output_type": "execute_result"
    }
   ],
   "source": [
    "prev_fun = this_fun\n",
    "this_fun = P2P_nocomprehension\n",
    "args = (particlesC, particlesC, g_wnklmns, dgdr_wnklmns)\n",
    "\n",
    "compare(this_fun, prev_fun, args; reverse=true)\n",
    "printcomparison(this_fun, \"C++\", false)\n",
    "\n",
    "@benchmark this_fun(args...)"
   ]
  },
  {
   "cell_type": "markdown",
   "metadata": {
    "heading_collapsed": true
   },
   "source": [
    "## Fix #3: Reduce Allocation"
   ]
  },
  {
   "cell_type": "markdown",
   "metadata": {
    "hidden": true
   },
   "source": [
    "Next, we notice that the benchmarking test is allotting an unusual amount of memory (37MiB) and allocation operation (390k). I am suspicious that this is an issue with Julia allowing arrays of dynamic sizes. The first step to solve this is to **do away with creating any internal variables of type arrays**. In the code bellow, notice that I had replaced the array variables `dX` and `crss` with float variables `dX1, dX2, dX3`, and `crss1, crss2, crss3`."
   ]
  },
  {
   "cell_type": "code",
   "execution_count": 22,
   "metadata": {
    "hidden": true
   },
   "outputs": [
    {
     "data": {
      "text/plain": [
       "P2P_noallocation (generic function with 1 method)"
      ]
     },
     "execution_count": 22,
     "metadata": {},
     "output_type": "execute_result"
    }
   ],
   "source": [
    "function P2P_noallocation(sources::Array{ParticleConcrete},\n",
    "                             targets::Array{ParticleConcrete},\n",
    "                             g::Function, dgdr::Function)\n",
    "\n",
    "  for Pi in targets\n",
    "    for Pj in sources\n",
    "      \n",
    "      dX1 = Pi.X[1] - Pj.X[1]\n",
    "      dX2 = Pi.X[2] - Pj.X[2]\n",
    "      dX3 = Pi.X[3] - Pj.X[3]\n",
    "      r = norm(Pi.X - Pj.X) + EPS\n",
    "\n",
    "      # Regularizing function and deriv\n",
    "      gsgm = g(r/Pj.sigma)\n",
    "      dgsgmdr = dgdr(r/Pj.sigma)\n",
    "\n",
    "      # K × Γp\n",
    "      crss1, crss2, crss3 = -const4 / r^3 * cross(Pi.X - Pj.X, Pj.Gamma)\n",
    "\n",
    "      # U = ∑g_σ(x-xp) * K(x-xp) × Γp\n",
    "      Pi.U[1] += gsgm * crss1\n",
    "      Pi.U[2] += gsgm * crss2\n",
    "      Pi.U[3] += gsgm * crss3\n",
    "\n",
    "      # ∂u∂xj(x) = ∑[ ∂gσ∂xj(x−xp) * K(x−xp)×Γp + gσ(x−xp) * ∂K∂xj(x−xp)×Γp ]\n",
    "      aux = dgsgmdr/(Pj.sigma*r)* - 3*gsgm /r^2\n",
    "      # j=1\n",
    "      Pi.J[1, 1] += aux * crss1 * dX1\n",
    "      Pi.J[2, 1] += aux * crss2 * dX1\n",
    "      Pi.J[3, 1] += aux * crss3 * dX1\n",
    "      # j=2\n",
    "      Pi.J[1, 2] += aux * crss1 * dX2\n",
    "      Pi.J[2, 2] += aux * crss2 * dX2\n",
    "      Pi.J[3, 2] += aux * crss3 * dX2\n",
    "      # j=3\n",
    "      Pi.J[1, 3] += aux * crss1 * dX3\n",
    "      Pi.J[2, 3] += aux * crss2 * dX3\n",
    "      Pi.J[3, 3] += aux * crss3 * dX3\n",
    "\n",
    "      # Adds the Kronecker delta term\n",
    "      aux = - const4 * gsgm / r^3\n",
    "      # j=1\n",
    "      Pi.J[2, 1] -= aux * Pj.Gamma[3]\n",
    "      Pi.J[3, 1] += aux * Pj.Gamma[2]\n",
    "      # j=2\n",
    "      Pi.J[1, 2] += aux * Pj.Gamma[3]\n",
    "      Pi.J[3, 2] -= aux * Pj.Gamma[1]\n",
    "      # j=3\n",
    "      Pi.J[1, 3] -= aux * Pj.Gamma[2]\n",
    "      Pi.J[2, 3] += aux * Pj.Gamma[1]\n",
    "\n",
    "    end\n",
    "  end\n",
    "end\n"
   ]
  },
  {
   "cell_type": "code",
   "execution_count": 23,
   "metadata": {
    "hidden": true,
    "hideCode": false,
    "hidePrompt": false
   },
   "outputs": [
    {
     "name": "stdout",
     "output_type": "stream",
     "text": [
      "P2P_noallocation     is  3.17 times faster than  P2P_nocomprehension (4.037ms vs 12.812ms)\n",
      "C++                  is  6.91 times faster than     P2P_noallocation (0.584ms vs 4.037ms)\n"
     ]
    },
    {
     "data": {
      "text/plain": [
       "BenchmarkTools.Trial: \n",
       "  memory estimate:  7.39 MiB\n",
       "  allocs estimate:  109375\n",
       "  --------------\n",
       "  minimum time:     4.023 ms (0.00% GC)\n",
       "  median time:      4.400 ms (0.00% GC)\n",
       "  mean time:        4.826 ms (9.85% GC)\n",
       "  maximum time:     43.806 ms (86.73% GC)\n",
       "  --------------\n",
       "  samples:          1036\n",
       "  evals/sample:     1"
      ]
     },
     "execution_count": 23,
     "metadata": {},
     "output_type": "execute_result"
    }
   ],
   "source": [
    "prev_fun = this_fun\n",
    "this_fun = P2P_noallocation\n",
    "args = (particlesC, particlesC, g_wnklmns, dgdr_wnklmns)\n",
    "\n",
    "compare(this_fun, prev_fun, args; reverse=true)\n",
    "printcomparison(this_fun, \"C++\", false)\n",
    "\n",
    "@benchmark this_fun(args...)"
   ]
  },
  {
   "cell_type": "markdown",
   "metadata": {
    "hidden": true
   },
   "source": [
    "Here we have reduced the memory allocated from 37MiB to 7.4MiB, leading to a 3x speed up; however, the C++ version is still 7x faster. Let's see what else can we do to decrease that that memory allocation."
   ]
  },
  {
   "cell_type": "markdown",
   "metadata": {
    "heading_collapsed": true
   },
   "source": [
    "## Fix #4: No Functional Linear Algebra"
   ]
  },
  {
   "cell_type": "markdown",
   "metadata": {
    "hidden": true
   },
   "source": [
    "The next thing to consider is that trying to do any **linear algebra operation (dot product, cross product, even norm) in a functional form (i.e., `dot(X,X)`, `cross(X,X)`, `norm(X,X)`) is more expensive that explicitely unfolding the operation into lines of code**. I am suspicious that this is a memory allocation problem since these functions need to allocate internal array variables to store computation and output the result. Here is the code without any functional linear algebra operations (notice that I no longer use `norm` nor `cross`):"
   ]
  },
  {
   "cell_type": "code",
   "execution_count": 24,
   "metadata": {
    "hidden": true,
    "hideCode": false,
    "hidePrompt": false,
    "scrolled": true
   },
   "outputs": [
    {
     "data": {
      "text/plain": [
       "P2P_nolingalg (generic function with 1 method)"
      ]
     },
     "execution_count": 24,
     "metadata": {},
     "output_type": "execute_result"
    }
   ],
   "source": [
    "function P2P_nolingalg(sources::Array{ParticleConcrete},\n",
    "                             targets::Array{ParticleConcrete},\n",
    "                             g::Function, dgdr::Function)\n",
    "\n",
    "  for Pi in targets\n",
    "    for Pj in sources\n",
    "      \n",
    "      dX1 = Pi.X[1] - Pj.X[1]\n",
    "      dX2 = Pi.X[2] - Pj.X[2]\n",
    "      dX3 = Pi.X[3] - Pj.X[3]\n",
    "      r = sqrt(dX1*dX1 + dX2*dX2 + dX3*dX3) + EPS\n",
    "\n",
    "      # Regularizing function and deriv\n",
    "      gsgm = g(r/Pj.sigma)\n",
    "      dgsgmdr = dgdr(r/Pj.sigma)\n",
    "\n",
    "      # K × Γp\n",
    "      crss1 = -const4 / r^3 * ( dX2*Pj.Gamma[3] - dX3*Pj.Gamma[2] )\n",
    "      crss2 = -const4 / r^3 * ( dX3*Pj.Gamma[1] - dX1*Pj.Gamma[3] )\n",
    "      crss3 = -const4 / r^3 * ( dX1*Pj.Gamma[2] - dX2*Pj.Gamma[1] )\n",
    "\n",
    "      # U = ∑g_σ(x-xp) * K(x-xp) × Γp\n",
    "      Pi.U[1] += gsgm * crss1\n",
    "      Pi.U[2] += gsgm * crss2\n",
    "      Pi.U[3] += gsgm * crss3\n",
    "\n",
    "      # ∂u∂xj(x) = ∑[ ∂gσ∂xj(x−xp) * K(x−xp)×Γp + gσ(x−xp) * ∂K∂xj(x−xp)×Γp ]\n",
    "      aux = dgsgmdr/(Pj.sigma*r)* - 3*gsgm /r^2\n",
    "      # j=1\n",
    "      Pi.J[1, 1] += aux * crss1 * dX1\n",
    "      Pi.J[2, 1] += aux * crss2 * dX1\n",
    "      Pi.J[3, 1] += aux * crss3 * dX1\n",
    "      # j=2\n",
    "      Pi.J[1, 2] += aux * crss1 * dX2\n",
    "      Pi.J[2, 2] += aux * crss2 * dX2\n",
    "      Pi.J[3, 2] += aux * crss3 * dX2\n",
    "      # j=3\n",
    "      Pi.J[1, 3] += aux * crss1 * dX3\n",
    "      Pi.J[2, 3] += aux * crss2 * dX3\n",
    "      Pi.J[3, 3] += aux * crss3 * dX3\n",
    "\n",
    "      # Adds the Kronecker delta term\n",
    "      aux = - const4 * gsgm / r^3\n",
    "      # j=1\n",
    "      Pi.J[2, 1] -= aux * Pj.Gamma[3]\n",
    "      Pi.J[3, 1] += aux * Pj.Gamma[2]\n",
    "      # j=2\n",
    "      Pi.J[1, 2] += aux * Pj.Gamma[3]\n",
    "      Pi.J[3, 2] -= aux * Pj.Gamma[1]\n",
    "      # j=3\n",
    "      Pi.J[1, 3] -= aux * Pj.Gamma[2]\n",
    "      Pi.J[2, 3] += aux * Pj.Gamma[1]\n",
    "\n",
    "    end\n",
    "  end\n",
    "end"
   ]
  },
  {
   "cell_type": "code",
   "execution_count": 25,
   "metadata": {
    "hidden": true,
    "hideCode": false,
    "hidePrompt": false
   },
   "outputs": [
    {
     "name": "stdout",
     "output_type": "stream",
     "text": [
      "P2P_nolingalg        is  1.94 times faster than     P2P_noallocation (2.085ms vs 4.037ms)\n",
      "C++                  is  3.57 times faster than        P2P_nolingalg (0.584ms vs 2.085ms)\n"
     ]
    },
    {
     "data": {
      "text/plain": [
       "BenchmarkTools.Trial: \n",
       "  memory estimate:  0 bytes\n",
       "  allocs estimate:  0\n",
       "  --------------\n",
       "  minimum time:     2.087 ms (0.00% GC)\n",
       "  median time:      2.163 ms (0.00% GC)\n",
       "  mean time:        2.271 ms (0.00% GC)\n",
       "  maximum time:     3.725 ms (0.00% GC)\n",
       "  --------------\n",
       "  samples:          2199\n",
       "  evals/sample:     1"
      ]
     },
     "execution_count": 25,
     "metadata": {},
     "output_type": "execute_result"
    }
   ],
   "source": [
    "prev_fun = this_fun\n",
    "this_fun = P2P_nolingalg\n",
    "args = (particlesC, particlesC, g_wnklmns, dgdr_wnklmns)\n",
    "\n",
    "compare(this_fun, prev_fun, args; reverse=true)\n",
    "printcomparison(this_fun, \"C++\", false)\n",
    "\n",
    "@benchmark this_fun(args...)"
   ]
  },
  {
   "cell_type": "markdown",
   "metadata": {
    "hidden": true
   },
   "source": [
    "By doing away with linear algebra functions we have now done are not allocating any memory, reaching an extra 2x speed up."
   ]
  },
  {
   "cell_type": "markdown",
   "metadata": {
    "heading_collapsed": true
   },
   "source": [
    "## Fix #5: Fine Tuning"
   ]
  },
  {
   "cell_type": "markdown",
   "metadata": {
    "hidden": true
   },
   "source": [
    "Notice that by now we are achieving times in the same order of magnitude than C++ (2.09ms in Julia vs 0.59ms in C++). What we did prior to this point were general principles that apply to any code that attempts to get high performance. What it follows now is fine tune our code in ways that only apply to the specific computation that we are performing.\n",
    "\n",
    "For instance, recall that our P2P function receives any user-defined regularizing kernel that our function calls in through this lines:\n",
    "\n",
    "```julia\n",
    "function P2P(sources, targets, g::Function, dgdr::Function)\n",
    "\n",
    "  for Pi in targets\n",
    "    for Pj in sources\n",
    "      .\n",
    "      .\n",
    "      .\n",
    "      # Regularizing function and deriv\n",
    "      gsgm = g(r/Pj.sigma)\n",
    "      dgsgmdr = dgdr(r/Pj.sigma)\n",
    "      .\n",
    "      .\n",
    "      .\n",
    "    end\n",
    "  end\n",
    "end\n",
    "```"
   ]
  },
  {
   "cell_type": "markdown",
   "metadata": {
    "hidden": true
   },
   "source": [
    "For the case of Winckelmans' kernel, `g` and `dgdr` look like this:\n",
    "```julia\n",
    "g_wnklmns(r) = r^3 * (r^2 + 2.5) / (r^2 + 1)^2.5\n",
    "dgdr_wnklmns(r) = 7.5 * r^2 / (r^2 + 1)^3.5\n",
    "```\n",
    "\n",
    "We notice that each of these function calculate a power operation independently (`(r^2 + 1)^2.5` and `(r^2 + 1)^3.5`). I have observed that **any sort of non-integer power operation takes Julia more than than basic arithmetic operations or even space allocation**. We can save computation by merging this two functions and reusing the square root calculation as\n",
    "```julia\n",
    "function g_dgdr_wnklmns(r)\n",
    "  aux0 = (r^2 + 1)^2.5\n",
    "  \n",
    "  # Returns g, dgdr\n",
    "  return r^3*(r^2 + 2.5)/aux0, 7.5*r^2/(aux0*(r^2 + 1))\n",
    "end\n",
    "```"
   ]
  },
  {
   "cell_type": "code",
   "execution_count": 26,
   "metadata": {
    "hidden": true,
    "hideCode": false,
    "hidePrompt": false,
    "scrolled": true
   },
   "outputs": [
    {
     "data": {
      "text/plain": [
       "P2P_reducesqrt (generic function with 1 method)"
      ]
     },
     "execution_count": 26,
     "metadata": {},
     "output_type": "execute_result"
    }
   ],
   "source": [
    "function g_dgdr_wnklmns(r)\n",
    "  aux0 = (r^2 + 1)^2.5\n",
    "  \n",
    "  # Returns g, dgdr\n",
    "  return r^3 * (r^2 + 2.5) / aux0, 7.5 * r^2 / (aux0*(r^2 + 1))\n",
    "end\n",
    "\n",
    "function P2P_reducesqrt(sources::Array{ParticleConcrete},\n",
    "                             targets::Array{ParticleConcrete},\n",
    "                             g_dgdr::Function)\n",
    "\n",
    "  for Pi in targets\n",
    "    for Pj in sources\n",
    "      \n",
    "      dX1 = Pi.X[1] - Pj.X[1]\n",
    "      dX2 = Pi.X[2] - Pj.X[2]\n",
    "      dX3 = Pi.X[3] - Pj.X[3]\n",
    "      r = sqrt(dX1*dX1 + dX2*dX2 + dX3*dX3) + EPS\n",
    "\n",
    "      # Regularizing function and deriv\n",
    "      gsgm, dgsgmdr = g_dgdr(r/Pj.sigma)\n",
    "\n",
    "      # K × Γp\n",
    "      crss1 = -const4 / r^3 * ( dX2*Pj.Gamma[3] - dX3*Pj.Gamma[2] )\n",
    "      crss2 = -const4 / r^3 * ( dX3*Pj.Gamma[1] - dX1*Pj.Gamma[3] )\n",
    "      crss3 = -const4 / r^3 * ( dX1*Pj.Gamma[2] - dX2*Pj.Gamma[1] )\n",
    "\n",
    "      # U = ∑g_σ(x-xp) * K(x-xp) × Γp\n",
    "      Pi.U[1] += gsgm * crss1\n",
    "      Pi.U[2] += gsgm * crss2\n",
    "      Pi.U[3] += gsgm * crss3\n",
    "\n",
    "      # ∂u∂xj(x) = ∑[ ∂gσ∂xj(x−xp) * K(x−xp)×Γp + gσ(x−xp) * ∂K∂xj(x−xp)×Γp ]\n",
    "      aux = dgsgmdr/(Pj.sigma*r)* - 3*gsgm /r^2\n",
    "      # j=1\n",
    "      Pi.J[1, 1] += aux * crss1 * dX1\n",
    "      Pi.J[2, 1] += aux * crss2 * dX1\n",
    "      Pi.J[3, 1] += aux * crss3 * dX1\n",
    "      # j=2\n",
    "      Pi.J[1, 2] += aux * crss1 * dX2\n",
    "      Pi.J[2, 2] += aux * crss2 * dX2\n",
    "      Pi.J[3, 2] += aux * crss3 * dX2\n",
    "      # j=3\n",
    "      Pi.J[1, 3] += aux * crss1 * dX3\n",
    "      Pi.J[2, 3] += aux * crss2 * dX3\n",
    "      Pi.J[3, 3] += aux * crss3 * dX3\n",
    "\n",
    "      # Adds the Kronecker delta term\n",
    "      aux = - const4 * gsgm / r^3\n",
    "      # j=1\n",
    "      Pi.J[2, 1] -= aux * Pj.Gamma[3]\n",
    "      Pi.J[3, 1] += aux * Pj.Gamma[2]\n",
    "      # j=2\n",
    "      Pi.J[1, 2] += aux * Pj.Gamma[3]\n",
    "      Pi.J[3, 2] -= aux * Pj.Gamma[1]\n",
    "      # j=3\n",
    "      Pi.J[1, 3] -= aux * Pj.Gamma[2]\n",
    "      Pi.J[2, 3] += aux * Pj.Gamma[1]\n",
    "\n",
    "    end\n",
    "  end\n",
    "end"
   ]
  },
  {
   "cell_type": "code",
   "execution_count": 27,
   "metadata": {
    "hidden": true,
    "hideCode": false,
    "hidePrompt": false
   },
   "outputs": [
    {
     "name": "stdout",
     "output_type": "stream",
     "text": [
      "P2P_reducesqrt       is  1.54 times faster than        P2P_nolingalg (1.350ms vs 2.085ms)\n",
      "C++                  is  2.31 times faster than       P2P_reducesqrt (0.584ms vs 1.350ms)\n"
     ]
    },
    {
     "data": {
      "text/plain": [
       "BenchmarkTools.Trial: \n",
       "  memory estimate:  0 bytes\n",
       "  allocs estimate:  0\n",
       "  --------------\n",
       "  minimum time:     1.349 ms (0.00% GC)\n",
       "  median time:      1.392 ms (0.00% GC)\n",
       "  mean time:        1.433 ms (0.00% GC)\n",
       "  maximum time:     2.192 ms (0.00% GC)\n",
       "  --------------\n",
       "  samples:          3486\n",
       "  evals/sample:     1"
      ]
     },
     "execution_count": 27,
     "metadata": {},
     "output_type": "execute_result"
    }
   ],
   "source": [
    "prev_fun = P2P_nolingalg\n",
    "this_fun = P2P_reducesqrt\n",
    "args = (particlesC, particlesC, g_dgdr_wnklmns)\n",
    "\n",
    "compare(this_fun, prev_fun, args; reverse=true)\n",
    "printcomparison(this_fun, \"C++\", false)\n",
    "\n",
    "@benchmark this_fun(args...)"
   ]
  },
  {
   "cell_type": "markdown",
   "metadata": {
    "hidden": true
   },
   "source": [
    "Hence, by **simply avoiding one extra power calculation we have now gained a 1.5x speed up.**"
   ]
  },
  {
   "cell_type": "markdown",
   "metadata": {},
   "source": [
    "## Other Tips"
   ]
  },
  {
   "cell_type": "markdown",
   "metadata": {
    "heading_collapsed": true
   },
   "source": [
    "### @inbounds"
   ]
  },
  {
   "cell_type": "markdown",
   "metadata": {
    "hidden": true
   },
   "source": [
    "https://docs.julialang.org/en/v1/devdocs/boundscheck/index.html\n",
    ">Like many modern programming languages, Julia uses bounds checking to ensure program safety when accessing arrays. In tight inner loops or other performance critical situations, you may wish to skip these bounds checks to improve runtime performance. For instance, in order to emit vectorized (SIMD) instructions, your loop body cannot contain branches, and thus cannot contain bounds checks. Consequently, Julia includes an @inbounds(...) macro to tell the compiler to skip such bounds checks within the given block. User-defined array types can use the @boundscheck(...) macro to achieve context-sensitive code selection."
   ]
  },
  {
   "cell_type": "code",
   "execution_count": 28,
   "metadata": {
    "hidden": true
   },
   "outputs": [
    {
     "data": {
      "text/latex": [
       "\\begin{verbatim}\n",
       "@inbounds(blk)\n",
       "\\end{verbatim}\n",
       "Eliminates array bounds checking within expressions.\n",
       "\n",
       "In the example below the in-range check for referencing element \\texttt{i} of array \\texttt{A} is skipped to improve performance.\n",
       "\n",
       "\\begin{verbatim}\n",
       "function sum(A::AbstractArray)\n",
       "    r = zero(eltype(A))\n",
       "    for i = 1:length(A)\n",
       "        @inbounds r += A[i]\n",
       "    end\n",
       "    return r\n",
       "end\n",
       "\\end{verbatim}\n",
       "\\begin{quote}\n",
       "\\textbf{warning}\n",
       "\n",
       "Warning\n",
       "\n",
       "Using \\texttt{@inbounds} may return incorrect results/crashes/corruption for out-of-bounds indices. The user is responsible for checking it manually. Only use \\texttt{@inbounds} when it is certain from the information locally available that all accesses are in bounds.\n",
       "\n",
       "\\end{quote}\n"
      ],
      "text/markdown": [
       "```\n",
       "@inbounds(blk)\n",
       "```\n",
       "\n",
       "Eliminates array bounds checking within expressions.\n",
       "\n",
       "In the example below the in-range check for referencing element `i` of array `A` is skipped to improve performance.\n",
       "\n",
       "```julia\n",
       "function sum(A::AbstractArray)\n",
       "    r = zero(eltype(A))\n",
       "    for i = 1:length(A)\n",
       "        @inbounds r += A[i]\n",
       "    end\n",
       "    return r\n",
       "end\n",
       "```\n",
       "\n",
       "!!! warning\n",
       "    Using `@inbounds` may return incorrect results/crashes/corruption for out-of-bounds indices. The user is responsible for checking it manually. Only use `@inbounds` when it is certain from the information locally available that all accesses are in bounds.\n",
       "\n"
      ],
      "text/plain": [
       "\u001b[36m  @inbounds(blk)\u001b[39m\n",
       "\n",
       "  Eliminates array bounds checking within expressions.\n",
       "\n",
       "  In the example below the in-range check for referencing element \u001b[36mi\u001b[39m of array \u001b[36mA\u001b[39m\n",
       "  is skipped to improve performance.\n",
       "\n",
       "\u001b[36m  function sum(A::AbstractArray)\u001b[39m\n",
       "\u001b[36m      r = zero(eltype(A))\u001b[39m\n",
       "\u001b[36m      for i = 1:length(A)\u001b[39m\n",
       "\u001b[36m          @inbounds r += A[i]\u001b[39m\n",
       "\u001b[36m      end\u001b[39m\n",
       "\u001b[36m      return r\u001b[39m\n",
       "\u001b[36m  end\u001b[39m\n",
       "\n",
       "\u001b[33m\u001b[1m  │ \u001b[22m\u001b[39m\u001b[33m\u001b[1mWarning\u001b[22m\u001b[39m\n",
       "\u001b[33m\u001b[1m  │\u001b[22m\u001b[39m\n",
       "\u001b[33m\u001b[1m  │\u001b[22m\u001b[39m  Using \u001b[36m@inbounds\u001b[39m may return incorrect results/crashes/corruption\n",
       "\u001b[33m\u001b[1m  │\u001b[22m\u001b[39m  for out-of-bounds indices. The user is responsible for checking it\n",
       "\u001b[33m\u001b[1m  │\u001b[22m\u001b[39m  manually. Only use \u001b[36m@inbounds\u001b[39m when it is certain from the\n",
       "\u001b[33m\u001b[1m  │\u001b[22m\u001b[39m  information locally available that all accesses are in bounds."
      ]
     },
     "execution_count": 28,
     "metadata": {},
     "output_type": "execute_result"
    }
   ],
   "source": [
    "? @inbounds"
   ]
  },
  {
   "cell_type": "code",
   "execution_count": 29,
   "metadata": {
    "hidden": true,
    "hideCode": false,
    "hidePrompt": false
   },
   "outputs": [
    {
     "data": {
      "text/plain": [
       "P2P_inbounds (generic function with 1 method)"
      ]
     },
     "execution_count": 29,
     "metadata": {},
     "output_type": "execute_result"
    }
   ],
   "source": [
    "function P2P_inbounds(sources::Array{ParticleConcrete},\n",
    "                             targets::Array{ParticleConcrete},\n",
    "                             g_dgdr::Function)\n",
    "\n",
    "  for Pi in targets\n",
    "    for Pj in sources\n",
    "      \n",
    "      @inbounds dX1 = Pi.X[1] - Pj.X[1]\n",
    "      @inbounds dX2 = Pi.X[2] - Pj.X[2]\n",
    "      @inbounds dX3 = Pi.X[3] - Pj.X[3]\n",
    "      r = sqrt(dX1*dX1 + dX2*dX2 + dX3*dX3) + EPS\n",
    "\n",
    "      # Regularizing function and deriv\n",
    "      gsgm, dgsgmdr = g_dgdr(r/Pj.sigma)\n",
    "\n",
    "      # K × Γp\n",
    "      @inbounds crss1 = -const4 / r^3 * ( dX2*Pj.Gamma[3] - dX3*Pj.Gamma[2] )\n",
    "      @inbounds crss2 = -const4 / r^3 * ( dX3*Pj.Gamma[1] - dX1*Pj.Gamma[3] )\n",
    "      @inbounds crss3 = -const4 / r^3 * ( dX1*Pj.Gamma[2] - dX2*Pj.Gamma[1] )\n",
    "\n",
    "      # U = ∑g_σ(x-xp) * K(x-xp) × Γp\n",
    "      @inbounds Pi.U[1] += gsgm * crss1\n",
    "      @inbounds Pi.U[2] += gsgm * crss2\n",
    "      @inbounds Pi.U[3] += gsgm * crss3\n",
    "\n",
    "      # ∂u∂xj(x) = ∑[ ∂gσ∂xj(x−xp) * K(x−xp)×Γp + gσ(x−xp) * ∂K∂xj(x−xp)×Γp ]\n",
    "      aux = dgsgmdr/(Pj.sigma*r)* - 3*gsgm /r^2\n",
    "      # j=1\n",
    "      @inbounds Pi.J[1, 1] += aux * crss1 * dX1\n",
    "      @inbounds Pi.J[2, 1] += aux * crss2 * dX1\n",
    "      @inbounds Pi.J[3, 1] += aux * crss3 * dX1\n",
    "      # j=2\n",
    "      @inbounds Pi.J[1, 2] += aux * crss1 * dX2\n",
    "      @inbounds Pi.J[2, 2] += aux * crss2 * dX2\n",
    "      @inbounds Pi.J[3, 2] += aux * crss3 * dX2\n",
    "      # j=3\n",
    "      @inbounds Pi.J[1, 3] += aux * crss1 * dX3\n",
    "      @inbounds Pi.J[2, 3] += aux * crss2 * dX3\n",
    "      @inbounds Pi.J[3, 3] += aux * crss3 * dX3\n",
    "\n",
    "      # Adds the Kronecker delta term\n",
    "      aux = - const4 * gsgm / r^3\n",
    "      # j=1\n",
    "      @inbounds Pi.J[2, 1] -= aux * Pj.Gamma[3]\n",
    "      @inbounds Pi.J[3, 1] += aux * Pj.Gamma[2]\n",
    "      # j=2\n",
    "      @inbounds Pi.J[1, 2] += aux * Pj.Gamma[3]\n",
    "      @inbounds Pi.J[3, 2] -= aux * Pj.Gamma[1]\n",
    "      # j=3\n",
    "      @inbounds Pi.J[1, 3] -= aux * Pj.Gamma[2]\n",
    "      @inbounds Pi.J[2, 3] += aux * Pj.Gamma[1]\n",
    "\n",
    "    end\n",
    "  end\n",
    "end"
   ]
  },
  {
   "cell_type": "code",
   "execution_count": 30,
   "metadata": {
    "hidden": true,
    "hideCode": false,
    "hidePrompt": false
   },
   "outputs": [
    {
     "name": "stdout",
     "output_type": "stream",
     "text": [
      "P2P_inbounds         is  1.01 times faster than       P2P_reducesqrt (1.338ms vs 1.350ms)\n",
      "C++                  is  2.29 times faster than         P2P_inbounds (0.584ms vs 1.338ms)\n"
     ]
    },
    {
     "data": {
      "text/plain": [
       "BenchmarkTools.Trial: \n",
       "  memory estimate:  0 bytes\n",
       "  allocs estimate:  0\n",
       "  --------------\n",
       "  minimum time:     1.338 ms (0.00% GC)\n",
       "  median time:      1.380 ms (0.00% GC)\n",
       "  mean time:        1.437 ms (0.00% GC)\n",
       "  maximum time:     2.404 ms (0.00% GC)\n",
       "  --------------\n",
       "  samples:          3475\n",
       "  evals/sample:     1"
      ]
     },
     "execution_count": 30,
     "metadata": {},
     "output_type": "execute_result"
    }
   ],
   "source": [
    "prev_fun = P2P_reducesqrt\n",
    "this_fun = P2P_inbounds\n",
    "args = (particlesC, particlesC, g_dgdr_wnklmns)\n",
    "\n",
    "compare(this_fun, prev_fun, args; reverse=true)\n",
    "printcomparison(this_fun, \"C++\", false)\n",
    "\n",
    "@benchmark this_fun(args...)"
   ]
  },
  {
   "cell_type": "markdown",
   "metadata": {
    "hidden": true
   },
   "source": [
    "In our case, `@inbounds` does not seem to help at all."
   ]
  },
  {
   "cell_type": "markdown",
   "metadata": {
    "heading_collapsed": true
   },
   "source": [
    "### @simd"
   ]
  },
  {
   "cell_type": "markdown",
   "metadata": {
    "hidden": true
   },
   "source": [
    "https://docs.julialang.org/en/v1/manual/performance-tips/index.html#man-performance-annotations-1\n",
    "> Write @simd in front of for loops to promise that the iterations are independent and may be reordered. Note that in many cases, Julia can automatically vectorize code without the @simd macro; it is only beneficial in cases where such a transformation would otherwise be illegal, including cases like allowing floating-point re-associativity and ignoring dependent memory accesses (@simd ivdep). Again, be very careful when asserting @simd as erroneously annotating a loop with dependent iterations may result in unexpected results. In particular, note that setindex! on some AbstractArray subtypes is inherently dependent upon iteration order. This feature is experimental and could change or disappear in future versions of Julia."
   ]
  },
  {
   "cell_type": "code",
   "execution_count": 31,
   "metadata": {
    "hidden": true
   },
   "outputs": [
    {
     "data": {
      "text/latex": [
       "\\begin{verbatim}\n",
       "@simd\n",
       "\\end{verbatim}\n",
       "Annotate a \\texttt{for} loop to allow the compiler to take extra liberties to allow loop re-ordering\n",
       "\n",
       "\\begin{quote}\n",
       "\\textbf{warning}\n",
       "\n",
       "Warning\n",
       "\n",
       "This feature is experimental and could change or disappear in future versions of Julia. Incorrect use of the \\texttt{@simd} macro may cause unexpected results.\n",
       "\n",
       "\\end{quote}\n",
       "The object iterated over in a \\texttt{@simd for} loop should be a one-dimensional range. By using \\texttt{@simd}, you are asserting several properties of the loop:\n",
       "\n",
       "\\begin{verbatim}\n",
       "* It is safe to execute iterations in arbitrary or overlapping order, with special consideration for reduction variables.\n",
       "* Floating-point operations on reduction variables can be reordered, possibly causing different results than without `@simd`.\n",
       "\\end{verbatim}\n",
       "In many cases, Julia is able to automatically vectorize inner for loops without the use of \\texttt{@simd}. Using \\texttt{@simd} gives the compiler a little extra leeway to make it possible in more situations. In either case, your inner loop should have the following properties to allow vectorization:\n",
       "\n",
       "\\begin{verbatim}\n",
       "* The loop must be an innermost loop\n",
       "* The loop body must be straight-line code. Therefore, [`@inbounds`](@ref) is\n",
       "  currently needed for all array accesses. The compiler can sometimes turn\n",
       "  short `&&`, `||`, and `?:` expressions into straight-line code if it is safe\n",
       "  to evaluate all operands unconditionally. Consider using the [`ifelse`](@ref)\n",
       "  function instead of `?:` in the loop if it is safe to do so.\n",
       "* Accesses must have a stride pattern and cannot be \"gathers\" (random-index\n",
       "  reads) or \"scatters\" (random-index writes).\n",
       "* The stride should be unit stride.\n",
       "\\end{verbatim}\n",
       "\\begin{quote}\n",
       "\\textbf{note}\n",
       "\n",
       "Note\n",
       "\n",
       "The \\texttt{@simd} does not assert by default that the loop is completely free of loop-carried memory dependencies, which is an assumption that can easily be violated in generic code. If you are writing non-generic code, you can use \\texttt{@simd ivdep for ... end} to also assert that:\n",
       "\n",
       "\\begin{verbatim}\n",
       "* There exists no loop-carried memory dependencies\n",
       "* No iteration ever waits on a previous iteration to make forward progress.\n",
       "\\end{verbatim}\n",
       "\\end{quote}\n"
      ],
      "text/markdown": [
       "```\n",
       "@simd\n",
       "```\n",
       "\n",
       "Annotate a `for` loop to allow the compiler to take extra liberties to allow loop re-ordering\n",
       "\n",
       "!!! warning\n",
       "    This feature is experimental and could change or disappear in future versions of Julia. Incorrect use of the `@simd` macro may cause unexpected results.\n",
       "\n",
       "\n",
       "The object iterated over in a `@simd for` loop should be a one-dimensional range. By using `@simd`, you are asserting several properties of the loop:\n",
       "\n",
       "```\n",
       "* It is safe to execute iterations in arbitrary or overlapping order, with special consideration for reduction variables.\n",
       "* Floating-point operations on reduction variables can be reordered, possibly causing different results than without `@simd`.\n",
       "```\n",
       "\n",
       "In many cases, Julia is able to automatically vectorize inner for loops without the use of `@simd`. Using `@simd` gives the compiler a little extra leeway to make it possible in more situations. In either case, your inner loop should have the following properties to allow vectorization:\n",
       "\n",
       "```\n",
       "* The loop must be an innermost loop\n",
       "* The loop body must be straight-line code. Therefore, [`@inbounds`](@ref) is\n",
       "  currently needed for all array accesses. The compiler can sometimes turn\n",
       "  short `&&`, `||`, and `?:` expressions into straight-line code if it is safe\n",
       "  to evaluate all operands unconditionally. Consider using the [`ifelse`](@ref)\n",
       "  function instead of `?:` in the loop if it is safe to do so.\n",
       "* Accesses must have a stride pattern and cannot be \"gathers\" (random-index\n",
       "  reads) or \"scatters\" (random-index writes).\n",
       "* The stride should be unit stride.\n",
       "```\n",
       "\n",
       "!!! note\n",
       "    The `@simd` does not assert by default that the loop is completely free of loop-carried memory dependencies, which is an assumption that can easily be violated in generic code. If you are writing non-generic code, you can use `@simd ivdep for ... end` to also assert that:\n",
       "\n",
       "    ```\n",
       "    * There exists no loop-carried memory dependencies\n",
       "    * No iteration ever waits on a previous iteration to make forward progress.\n",
       "    ```\n",
       "\n"
      ],
      "text/plain": [
       "\u001b[36m  @simd\u001b[39m\n",
       "\n",
       "  Annotate a \u001b[36mfor\u001b[39m loop to allow the compiler to take extra liberties to allow\n",
       "  loop re-ordering\n",
       "\n",
       "\u001b[33m\u001b[1m  │ \u001b[22m\u001b[39m\u001b[33m\u001b[1mWarning\u001b[22m\u001b[39m\n",
       "\u001b[33m\u001b[1m  │\u001b[22m\u001b[39m\n",
       "\u001b[33m\u001b[1m  │\u001b[22m\u001b[39m  This feature is experimental and could change or disappear in\n",
       "\u001b[33m\u001b[1m  │\u001b[22m\u001b[39m  future versions of Julia. Incorrect use of the \u001b[36m@simd\u001b[39m macro may\n",
       "\u001b[33m\u001b[1m  │\u001b[22m\u001b[39m  cause unexpected results.\n",
       "\n",
       "  The object iterated over in a \u001b[36m@simd for\u001b[39m loop should be a one-dimensional\n",
       "  range. By using \u001b[36m@simd\u001b[39m, you are asserting several properties of the loop:\n",
       "\n",
       "\u001b[36m  * It is safe to execute iterations in arbitrary or overlapping order, with special consideration for reduction variables.\u001b[39m\n",
       "\u001b[36m  * Floating-point operations on reduction variables can be reordered, possibly causing different results than without `@simd`.\u001b[39m\n",
       "\n",
       "  In many cases, Julia is able to automatically vectorize inner for loops\n",
       "  without the use of \u001b[36m@simd\u001b[39m. Using \u001b[36m@simd\u001b[39m gives the compiler a little extra\n",
       "  leeway to make it possible in more situations. In either case, your inner\n",
       "  loop should have the following properties to allow vectorization:\n",
       "\n",
       "\u001b[36m  * The loop must be an innermost loop\u001b[39m\n",
       "\u001b[36m  * The loop body must be straight-line code. Therefore, [`@inbounds`](@ref) is\u001b[39m\n",
       "\u001b[36m    currently needed for all array accesses. The compiler can sometimes turn\u001b[39m\n",
       "\u001b[36m    short `&&`, `||`, and `?:` expressions into straight-line code if it is safe\u001b[39m\n",
       "\u001b[36m    to evaluate all operands unconditionally. Consider using the [`ifelse`](@ref)\u001b[39m\n",
       "\u001b[36m    function instead of `?:` in the loop if it is safe to do so.\u001b[39m\n",
       "\u001b[36m  * Accesses must have a stride pattern and cannot be \"gathers\" (random-index\u001b[39m\n",
       "\u001b[36m    reads) or \"scatters\" (random-index writes).\u001b[39m\n",
       "\u001b[36m  * The stride should be unit stride.\u001b[39m\n",
       "\n",
       "\u001b[36m\u001b[1m  │ \u001b[22m\u001b[39m\u001b[36m\u001b[1mNote\u001b[22m\u001b[39m\n",
       "\u001b[36m\u001b[1m  │\u001b[22m\u001b[39m\n",
       "\u001b[36m\u001b[1m  │\u001b[22m\u001b[39m  The \u001b[36m@simd\u001b[39m does not assert by default that the loop is completely\n",
       "\u001b[36m\u001b[1m  │\u001b[22m\u001b[39m  free of loop-carried memory dependencies, which is an assumption\n",
       "\u001b[36m\u001b[1m  │\u001b[22m\u001b[39m  that can easily be violated in generic code. If you are writing\n",
       "\u001b[36m\u001b[1m  │\u001b[22m\u001b[39m  non-generic code, you can use \u001b[36m@simd ivdep for ... end\u001b[39m to also\n",
       "\u001b[36m\u001b[1m  │\u001b[22m\u001b[39m  assert that:\n",
       "\u001b[36m\u001b[1m  │\u001b[22m\u001b[39m\n",
       "\u001b[36m\u001b[1m  │\u001b[22m\u001b[39m\u001b[36m  * There exists no loop-carried memory dependencies\u001b[39m\n",
       "\u001b[36m\u001b[1m  │\u001b[22m\u001b[39m\u001b[36m  * No iteration ever waits on a previous iteration to make forward progress.\u001b[39m"
      ]
     },
     "execution_count": 31,
     "metadata": {},
     "output_type": "execute_result"
    }
   ],
   "source": [
    "? @simd"
   ]
  },
  {
   "cell_type": "code",
   "execution_count": 32,
   "metadata": {
    "hidden": true,
    "hideCode": false,
    "hidePrompt": false,
    "scrolled": true
   },
   "outputs": [
    {
     "data": {
      "text/plain": [
       "P2P_simd (generic function with 1 method)"
      ]
     },
     "execution_count": 32,
     "metadata": {},
     "output_type": "execute_result"
    }
   ],
   "source": [
    "function P2P_simd(sources::Array{ParticleConcrete},\n",
    "                             targets::Array{ParticleConcrete},\n",
    "                             g_dgdr::Function)\n",
    "\n",
    "  for Pi in targets\n",
    "    @simd for Pj in sources\n",
    "      \n",
    "      @inbounds dX1 = Pi.X[1] - Pj.X[1]\n",
    "      @inbounds dX2 = Pi.X[2] - Pj.X[2]\n",
    "      @inbounds dX3 = Pi.X[3] - Pj.X[3]\n",
    "      r = sqrt(dX1*dX1 + dX2*dX2 + dX3*dX3) + EPS\n",
    "\n",
    "      # Regularizing function and deriv\n",
    "      gsgm, dgsgmdr = g_dgdr(r/Pj.sigma)\n",
    "\n",
    "      # K × Γp\n",
    "      @inbounds crss1 = -const4 / r^3 * ( dX2*Pj.Gamma[3] - dX3*Pj.Gamma[2] )\n",
    "      @inbounds crss2 = -const4 / r^3 * ( dX3*Pj.Gamma[1] - dX1*Pj.Gamma[3] )\n",
    "      @inbounds crss3 = -const4 / r^3 * ( dX1*Pj.Gamma[2] - dX2*Pj.Gamma[1] )\n",
    "\n",
    "      # U = ∑g_σ(x-xp) * K(x-xp) × Γp\n",
    "      @inbounds Pi.U[1] += gsgm * crss1\n",
    "      @inbounds Pi.U[2] += gsgm * crss2\n",
    "      @inbounds Pi.U[3] += gsgm * crss3\n",
    "\n",
    "      # ∂u∂xj(x) = ∑[ ∂gσ∂xj(x−xp) * K(x−xp)×Γp + gσ(x−xp) * ∂K∂xj(x−xp)×Γp ]\n",
    "      aux = dgsgmdr/(Pj.sigma*r)* - 3*gsgm /r^2\n",
    "      # j=1\n",
    "      @inbounds Pi.J[1, 1] += aux * crss1 * dX1\n",
    "      @inbounds Pi.J[2, 1] += aux * crss2 * dX1\n",
    "      @inbounds Pi.J[3, 1] += aux * crss3 * dX1\n",
    "      # j=2\n",
    "      @inbounds Pi.J[1, 2] += aux * crss1 * dX2\n",
    "      @inbounds Pi.J[2, 2] += aux * crss2 * dX2\n",
    "      @inbounds Pi.J[3, 2] += aux * crss3 * dX2\n",
    "      # j=3\n",
    "      @inbounds Pi.J[1, 3] += aux * crss1 * dX3\n",
    "      @inbounds Pi.J[2, 3] += aux * crss2 * dX3\n",
    "      @inbounds Pi.J[3, 3] += aux * crss3 * dX3\n",
    "\n",
    "      # Adds the Kronecker delta term\n",
    "      aux = - const4 * gsgm / r^3\n",
    "      # j=1\n",
    "      @inbounds Pi.J[2, 1] -= aux * Pj.Gamma[3]\n",
    "      @inbounds Pi.J[3, 1] += aux * Pj.Gamma[2]\n",
    "      # j=2\n",
    "      @inbounds Pi.J[1, 2] += aux * Pj.Gamma[3]\n",
    "      @inbounds Pi.J[3, 2] -= aux * Pj.Gamma[1]\n",
    "      # j=3\n",
    "      @inbounds Pi.J[1, 3] -= aux * Pj.Gamma[2]\n",
    "      @inbounds Pi.J[2, 3] += aux * Pj.Gamma[1]\n",
    "\n",
    "    end\n",
    "  end\n",
    "end"
   ]
  },
  {
   "cell_type": "code",
   "execution_count": 33,
   "metadata": {
    "hidden": true,
    "hideCode": false,
    "hidePrompt": false
   },
   "outputs": [
    {
     "name": "stdout",
     "output_type": "stream",
     "text": [
      "P2P_simd             is  1.01 times faster than       P2P_reducesqrt (1.341ms vs 1.350ms)\n",
      "C++                  is  2.29 times faster than             P2P_simd (0.584ms vs 1.341ms)\n"
     ]
    },
    {
     "data": {
      "text/plain": [
       "BenchmarkTools.Trial: \n",
       "  memory estimate:  0 bytes\n",
       "  allocs estimate:  0\n",
       "  --------------\n",
       "  minimum time:     1.340 ms (0.00% GC)\n",
       "  median time:      1.425 ms (0.00% GC)\n",
       "  mean time:        1.510 ms (0.00% GC)\n",
       "  maximum time:     2.972 ms (0.00% GC)\n",
       "  --------------\n",
       "  samples:          3303\n",
       "  evals/sample:     1"
      ]
     },
     "execution_count": 33,
     "metadata": {},
     "output_type": "execute_result"
    }
   ],
   "source": [
    "prev_fun = P2P_reducesqrt\n",
    "this_fun = P2P_simd\n",
    "args = (particlesC, particlesC, g_dgdr_wnklmns)\n",
    "\n",
    "compare(this_fun, prev_fun, args; reverse=true)\n",
    "printcomparison(this_fun, \"C++\", false)\n",
    "\n",
    "@benchmark this_fun(args...)"
   ]
  },
  {
   "cell_type": "code",
   "execution_count": 34,
   "metadata": {
    "hidden": true,
    "hideCode": false,
    "hidePrompt": false,
    "scrolled": true
   },
   "outputs": [
    {
     "data": {
      "text/plain": [
       "P2P_simd2 (generic function with 1 method)"
      ]
     },
     "execution_count": 34,
     "metadata": {},
     "output_type": "execute_result"
    }
   ],
   "source": [
    "@noinline function P2P_simd2(sources::Array{ParticleConcrete},\n",
    "                             targets::Array{ParticleConcrete},\n",
    "                             g_dgdr::Function)\n",
    "\n",
    "  @inbounds for Pi in targets\n",
    "    @inbounds @simd for Pj in sources\n",
    "      \n",
    "      @inbounds dX1 = Pi.X[1] - Pj.X[1]\n",
    "      @inbounds dX2 = Pi.X[2] - Pj.X[2]\n",
    "      @inbounds dX3 = Pi.X[3] - Pj.X[3]\n",
    "      r = sqrt(dX1*dX1 + dX2*dX2 + dX3*dX3) + EPS\n",
    "\n",
    "      # Regularizing function and deriv\n",
    "      gsgm, dgsgmdr = g_dgdr(r/Pj.sigma)\n",
    "\n",
    "      # K × Γp\n",
    "      @inbounds crss1 = -const4 / r^3 * ( dX2*Pj.Gamma[3] - dX3*Pj.Gamma[2] )\n",
    "      @inbounds crss2 = -const4 / r^3 * ( dX3*Pj.Gamma[1] - dX1*Pj.Gamma[3] )\n",
    "      @inbounds crss3 = -const4 / r^3 * ( dX1*Pj.Gamma[2] - dX2*Pj.Gamma[1] )\n",
    "\n",
    "      # U = ∑g_σ(x-xp) * K(x-xp) × Γp\n",
    "      @inbounds Pi.U[1] += gsgm * crss1\n",
    "      @inbounds Pi.U[2] += gsgm * crss2\n",
    "      @inbounds Pi.U[3] += gsgm * crss3\n",
    "\n",
    "      # ∂u∂xj(x) = ∑[ ∂gσ∂xj(x−xp) * K(x−xp)×Γp + gσ(x−xp) * ∂K∂xj(x−xp)×Γp ]\n",
    "      aux = dgsgmdr/(Pj.sigma*r)* - 3*gsgm /r^2\n",
    "      # j=1\n",
    "      @inbounds Pi.J[1, 1] += aux * crss1 * dX1\n",
    "      @inbounds Pi.J[2, 1] += aux * crss2 * dX1\n",
    "      @inbounds Pi.J[3, 1] += aux * crss3 * dX1\n",
    "      # j=2\n",
    "      @inbounds Pi.J[1, 2] += aux * crss1 * dX2\n",
    "      @inbounds Pi.J[2, 2] += aux * crss2 * dX2\n",
    "      @inbounds Pi.J[3, 2] += aux * crss3 * dX2\n",
    "      # j=3\n",
    "      @inbounds Pi.J[1, 3] += aux * crss1 * dX3\n",
    "      @inbounds Pi.J[2, 3] += aux * crss2 * dX3\n",
    "      @inbounds Pi.J[3, 3] += aux * crss3 * dX3\n",
    "\n",
    "      # Adds the Kronecker delta term\n",
    "      aux = - const4 * gsgm / r^3\n",
    "      # j=1\n",
    "      @inbounds Pi.J[2, 1] -= aux * Pj.Gamma[3]\n",
    "      @inbounds Pi.J[3, 1] += aux * Pj.Gamma[2]\n",
    "      # j=2\n",
    "      @inbounds Pi.J[1, 2] += aux * Pj.Gamma[3]\n",
    "      @inbounds Pi.J[3, 2] -= aux * Pj.Gamma[1]\n",
    "      # j=3\n",
    "      @inbounds Pi.J[1, 3] -= aux * Pj.Gamma[2]\n",
    "      @inbounds Pi.J[2, 3] += aux * Pj.Gamma[1]\n",
    "\n",
    "    end\n",
    "  end\n",
    "end"
   ]
  },
  {
   "cell_type": "code",
   "execution_count": 35,
   "metadata": {
    "hidden": true,
    "hideCode": false,
    "hidePrompt": false
   },
   "outputs": [
    {
     "name": "stdout",
     "output_type": "stream",
     "text": [
      "P2P_simd2            is  1.01 times faster than       P2P_reducesqrt (1.341ms vs 1.350ms)\n",
      "C++                  is  2.29 times faster than            P2P_simd2 (0.584ms vs 1.341ms)\n"
     ]
    },
    {
     "data": {
      "text/plain": [
       "BenchmarkTools.Trial: \n",
       "  memory estimate:  0 bytes\n",
       "  allocs estimate:  0\n",
       "  --------------\n",
       "  minimum time:     1.340 ms (0.00% GC)\n",
       "  median time:      1.387 ms (0.00% GC)\n",
       "  mean time:        1.450 ms (0.00% GC)\n",
       "  maximum time:     2.461 ms (0.00% GC)\n",
       "  --------------\n",
       "  samples:          3443\n",
       "  evals/sample:     1"
      ]
     },
     "execution_count": 35,
     "metadata": {},
     "output_type": "execute_result"
    }
   ],
   "source": [
    "prev_fun = P2P_reducesqrt\n",
    "this_fun = P2P_simd2\n",
    "args = (particlesC, particlesC, g_dgdr_wnklmns)\n",
    "\n",
    "compare(this_fun, prev_fun, args; reverse=true)\n",
    "printcomparison(this_fun, \"C++\", false)\n",
    "\n",
    "@benchmark this_fun(args...)"
   ]
  },
  {
   "cell_type": "markdown",
   "metadata": {
    "hidden": true
   },
   "source": [
    "Nop, it doesn't help at all."
   ]
  },
  {
   "cell_type": "markdown",
   "metadata": {},
   "source": [
    "### @fastmath"
   ]
  },
  {
   "cell_type": "markdown",
   "metadata": {},
   "source": [
    "https://docs.julialang.org/en/v1/manual/performance-tips/index.html#man-performance-annotations-1\n",
    "> Use @fastmath to allow floating point optimizations that are correct for real numbers, but lead to differences for IEEE numbers. Be careful when doing this, as this may change numerical results. This corresponds to the -ffast-math option of clang."
   ]
  },
  {
   "cell_type": "code",
   "execution_count": 36,
   "metadata": {
    "hideCode": false,
    "hidePrompt": false
   },
   "outputs": [
    {
     "data": {
      "text/plain": [
       "P2P_fastmath (generic function with 1 method)"
      ]
     },
     "execution_count": 36,
     "metadata": {},
     "output_type": "execute_result"
    }
   ],
   "source": [
    "function P2P_fastmath(sources::Array{ParticleConcrete},\n",
    "                             targets::Array{ParticleConcrete},\n",
    "                             g_dgdr::Function)\n",
    "\n",
    "  for Pi in targets\n",
    "    for Pj in sources\n",
    "      \n",
    "      @fastmath dX1 = Pi.X[1] - Pj.X[1]\n",
    "      @fastmath dX2 = Pi.X[2] - Pj.X[2]\n",
    "      @fastmath dX3 = Pi.X[3] - Pj.X[3]\n",
    "      @fastmath r = sqrt(dX1*dX1 + dX2*dX2 + dX3*dX3) + EPS\n",
    "\n",
    "      # Regularizing function and deriv\n",
    "      gsgm, dgsgmdr = g_dgdr(r/Pj.sigma)\n",
    "\n",
    "      # K × Γp\n",
    "      @fastmath crss1 = -const4 / r^3 * ( dX2*Pj.Gamma[3] - dX3*Pj.Gamma[2] )\n",
    "      @fastmath crss2 = -const4 / r^3 * ( dX3*Pj.Gamma[1] - dX1*Pj.Gamma[3] )\n",
    "      @fastmath crss3 = -const4 / r^3 * ( dX1*Pj.Gamma[2] - dX2*Pj.Gamma[1] )\n",
    "\n",
    "      # U = ∑g_σ(x-xp) * K(x-xp) × Γp\n",
    "      @fastmath Pi.U[1] += gsgm * crss1\n",
    "      @fastmath Pi.U[2] += gsgm * crss2\n",
    "      @fastmath Pi.U[3] += gsgm * crss3\n",
    "\n",
    "      # ∂u∂xj(x) = ∑[ ∂gσ∂xj(x−xp) * K(x−xp)×Γp + gσ(x−xp) * ∂K∂xj(x−xp)×Γp ]\n",
    "      @fastmath aux = dgsgmdr/(Pj.sigma*r)* - 3*gsgm /r^2\n",
    "      # j=1\n",
    "      @fastmath Pi.J[1, 1] += aux * crss1 * dX1\n",
    "      @fastmath Pi.J[2, 1] += aux * crss2 * dX1\n",
    "      @fastmath Pi.J[3, 1] += aux * crss3 * dX1\n",
    "      # j=2\n",
    "      @fastmath Pi.J[1, 2] += aux * crss1 * dX2\n",
    "      @fastmath Pi.J[2, 2] += aux * crss2 * dX2\n",
    "      @fastmath Pi.J[3, 2] += aux * crss3 * dX2\n",
    "      # j=3\n",
    "      @fastmath Pi.J[1, 3] += aux * crss1 * dX3\n",
    "      @fastmath Pi.J[2, 3] += aux * crss2 * dX3\n",
    "      @fastmath Pi.J[3, 3] += aux * crss3 * dX3\n",
    "\n",
    "      # Adds the Kronecker delta term\n",
    "      @fastmath aux = - const4 * gsgm / r^3\n",
    "      # j=1\n",
    "      @fastmath Pi.J[2, 1] -= aux * Pj.Gamma[3]\n",
    "      @fastmath Pi.J[3, 1] += aux * Pj.Gamma[2]\n",
    "      # j=2\n",
    "      @fastmath Pi.J[1, 2] += aux * Pj.Gamma[3]\n",
    "      @fastmath Pi.J[3, 2] -= aux * Pj.Gamma[1]\n",
    "      # j=3\n",
    "      @fastmath Pi.J[1, 3] -= aux * Pj.Gamma[2]\n",
    "      @fastmath Pi.J[2, 3] += aux * Pj.Gamma[1]\n",
    "\n",
    "    end\n",
    "  end\n",
    "end"
   ]
  },
  {
   "cell_type": "code",
   "execution_count": 37,
   "metadata": {
    "hideCode": false,
    "hidePrompt": false
   },
   "outputs": [
    {
     "name": "stdout",
     "output_type": "stream",
     "text": [
      "P2P_fastmath         is  0.97 times faster than       P2P_reducesqrt (1.396ms vs 1.350ms)\n",
      "C++                  is  2.39 times faster than         P2P_fastmath (0.584ms vs 1.396ms)\n"
     ]
    },
    {
     "data": {
      "text/plain": [
       "BenchmarkTools.Trial: \n",
       "  memory estimate:  0 bytes\n",
       "  allocs estimate:  0\n",
       "  --------------\n",
       "  minimum time:     1.397 ms (0.00% GC)\n",
       "  median time:      1.441 ms (0.00% GC)\n",
       "  mean time:        1.503 ms (0.00% GC)\n",
       "  maximum time:     2.707 ms (0.00% GC)\n",
       "  --------------\n",
       "  samples:          3322\n",
       "  evals/sample:     1"
      ]
     },
     "execution_count": 37,
     "metadata": {},
     "output_type": "execute_result"
    }
   ],
   "source": [
    "prev_fun = P2P_reducesqrt\n",
    "this_fun = P2P_fastmath\n",
    "args = (particlesC, particlesC, g_dgdr_wnklmns)\n",
    "\n",
    "compare(this_fun, prev_fun, args; reverse=true)\n",
    "printcomparison(this_fun, \"C++\", false)\n",
    "\n",
    "@benchmark this_fun(args...)"
   ]
  },
  {
   "cell_type": "markdown",
   "metadata": {},
   "source": [
    "Did it actually make it slower? "
   ]
  },
  {
   "cell_type": "markdown",
   "metadata": {
    "heading_collapsed": true
   },
   "source": [
    "### @code_warntype"
   ]
  },
  {
   "cell_type": "markdown",
   "metadata": {
    "hidden": true
   },
   "source": [
    "I already mentioned this, but here I'm just double checking that everything is compiling fine"
   ]
  },
  {
   "cell_type": "code",
   "execution_count": 38,
   "metadata": {
    "hidden": true
   },
   "outputs": [
    {
     "name": "stdout",
     "output_type": "stream",
     "text": [
      "Body\u001b[36m::Nothing\u001b[39m\n",
      "\u001b[90m\u001b[56G│╻╷╷  iterate\u001b[1G\u001b[39m\u001b[90m12 \u001b[39m1 ── %1   = (Base.arraylen)(targets)\u001b[36m::Int64\u001b[39m\n",
      "\u001b[90m\u001b[56G││╻╷   iterate\u001b[1G\u001b[39m\u001b[90m   \u001b[39m│    %2   = (Base.sle_int)(0, %1)\u001b[36m::Bool\u001b[39m\n",
      "\u001b[90m\u001b[56G│││╻    <\u001b[1G\u001b[39m\u001b[90m   \u001b[39m│    %3   = (Base.bitcast)(UInt64, %1)\u001b[36m::UInt64\u001b[39m\n",
      "\u001b[90m\u001b[56G││││╻    <\u001b[1G\u001b[39m\u001b[90m   \u001b[39m│    %4   = (Base.ult_int)(0x0000000000000000, %3)\u001b[36m::Bool\u001b[39m\n",
      "\u001b[90m\u001b[56G││││╻    &\u001b[1G\u001b[39m\u001b[90m   \u001b[39m│    %5   = (Base.and_int)(%2, %4)\u001b[36m::Bool\u001b[39m\n",
      "\u001b[90m\u001b[56G│││  \u001b[1G\u001b[39m\u001b[90m   \u001b[39m└───        goto #3 if not %5\n",
      "\u001b[90m\u001b[56G│││╻    getindex\u001b[1G\u001b[39m\u001b[90m   \u001b[39m2 ── %7   = (Base.arrayref)(false, targets, 1)\u001b[36m::ParticleConcrete\u001b[39m\n",
      "\u001b[90m\u001b[56G│││  \u001b[1G\u001b[39m\u001b[90m   \u001b[39m└───        goto #4\n",
      "\u001b[90m\u001b[56G│││  \u001b[1G\u001b[39m\u001b[90m   \u001b[39m3 ──        goto #4\n",
      "\u001b[90m\u001b[56G││   \u001b[1G\u001b[39m\u001b[90m   \u001b[39m4 ┄─ %10  = φ (#2 => false, #3 => true)\u001b[36m::Bool\u001b[39m\n",
      "\u001b[90m\u001b[56G││   \u001b[1G\u001b[39m\u001b[90m   \u001b[39m│    %11  = φ (#2 => %7)\u001b[36m::ParticleConcrete\u001b[39m\n",
      "\u001b[90m\u001b[56G││   \u001b[1G\u001b[39m\u001b[90m   \u001b[39m│    %12  = φ (#2 => 2)\u001b[36m::Int64\u001b[39m\n",
      "\u001b[90m\u001b[56G││   \u001b[1G\u001b[39m\u001b[90m   \u001b[39m└───        goto #5\n",
      "\u001b[90m\u001b[56G│    \u001b[1G\u001b[39m\u001b[90m   \u001b[39m5 ── %14  = (Base.not_int)(%10)\u001b[36m::Bool\u001b[39m\n",
      "\u001b[90m\u001b[56G│    \u001b[1G\u001b[39m\u001b[90m   \u001b[39m└───        goto #24 if not %14\n",
      "\u001b[90m\u001b[56G│    \u001b[1G\u001b[39m\u001b[90m   \u001b[39m6 ┄─ %16  = φ (#5 => %11, #23 => %273)\u001b[36m::ParticleConcrete\u001b[39m\n",
      "\u001b[90m\u001b[56G│    \u001b[1G\u001b[39m\u001b[90m   \u001b[39m│    %17  = φ (#5 => %12, #23 => %274)\u001b[36m::Int64\u001b[39m\n",
      "\u001b[90m\u001b[56G│╻╷╷  iterate\u001b[1G\u001b[39m\u001b[90m13 \u001b[39m│    %18  = (Base.arraylen)(sources)\u001b[36m::Int64\u001b[39m\n",
      "\u001b[90m\u001b[56G││╻╷   iterate\u001b[1G\u001b[39m\u001b[90m   \u001b[39m│    %19  = (Base.sle_int)(0, %18)\u001b[36m::Bool\u001b[39m\n",
      "\u001b[90m\u001b[56G│││╻    <\u001b[1G\u001b[39m\u001b[90m   \u001b[39m│    %20  = (Base.bitcast)(UInt64, %18)\u001b[36m::UInt64\u001b[39m\n",
      "\u001b[90m\u001b[56G││││╻    <\u001b[1G\u001b[39m\u001b[90m   \u001b[39m│    %21  = (Base.ult_int)(0x0000000000000000, %20)\u001b[36m::Bool\u001b[39m\n",
      "\u001b[90m\u001b[56G││││╻    &\u001b[1G\u001b[39m\u001b[90m   \u001b[39m│    %22  = (Base.and_int)(%19, %21)\u001b[36m::Bool\u001b[39m\n",
      "\u001b[90m\u001b[56G│││  \u001b[1G\u001b[39m\u001b[90m   \u001b[39m└───        goto #8 if not %22\n",
      "\u001b[90m\u001b[56G│││╻    getindex\u001b[1G\u001b[39m\u001b[90m   \u001b[39m7 ── %24  = (Base.arrayref)(false, sources, 1)\u001b[36m::ParticleConcrete\u001b[39m\n",
      "\u001b[90m\u001b[56G│││  \u001b[1G\u001b[39m\u001b[90m   \u001b[39m└───        goto #9\n",
      "\u001b[90m\u001b[56G│││  \u001b[1G\u001b[39m\u001b[90m   \u001b[39m8 ──        goto #9\n",
      "\u001b[90m\u001b[56G││   \u001b[1G\u001b[39m\u001b[90m   \u001b[39m9 ┄─ %27  = φ (#7 => false, #8 => true)\u001b[36m::Bool\u001b[39m\n",
      "\u001b[90m\u001b[56G││   \u001b[1G\u001b[39m\u001b[90m   \u001b[39m│    %28  = φ (#7 => %24)\u001b[36m::ParticleConcrete\u001b[39m\n",
      "\u001b[90m\u001b[56G││   \u001b[1G\u001b[39m\u001b[90m   \u001b[39m│    %29  = φ (#7 => 2)\u001b[36m::Int64\u001b[39m\n",
      "\u001b[90m\u001b[56G││   \u001b[1G\u001b[39m\u001b[90m   \u001b[39m└───        goto #10\n",
      "\u001b[90m\u001b[56G│    \u001b[1G\u001b[39m\u001b[90m   \u001b[39m10 ─ %31  = (Base.not_int)(%27)\u001b[36m::Bool\u001b[39m\n",
      "\u001b[90m\u001b[56G│    \u001b[1G\u001b[39m\u001b[90m   \u001b[39m└───        goto #19 if not %31\n",
      "\u001b[90m\u001b[56G│    \u001b[1G\u001b[39m\u001b[90m   \u001b[39m11 ┄ %33  = φ (#10 => %28, #18 => %254)\u001b[36m::ParticleConcrete\u001b[39m\n",
      "\u001b[90m\u001b[56G│    \u001b[1G\u001b[39m\u001b[90m   \u001b[39m│    %34  = φ (#10 => %29, #18 => %255)\u001b[36m::Int64\u001b[39m\n",
      "\u001b[90m\u001b[56G│╻    getproperty\u001b[1G\u001b[39m\u001b[90m15 \u001b[39m│    %35  = (Base.getfield)(%16, :X)\u001b[36m::Array{Float64,1}\u001b[39m\n",
      "\u001b[90m\u001b[56G│╻    getindex\u001b[1G\u001b[39m\u001b[90m   \u001b[39m│    %36  = (Base.arrayref)(true, %35, 1)\u001b[36m::Float64\u001b[39m\n",
      "\u001b[90m\u001b[56G│╻    getproperty\u001b[1G\u001b[39m\u001b[90m   \u001b[39m│    %37  = (Base.getfield)(%33, :X)\u001b[36m::Array{Float64,1}\u001b[39m\n",
      "\u001b[90m\u001b[56G│╻    getindex\u001b[1G\u001b[39m\u001b[90m   \u001b[39m│    %38  = (Base.arrayref)(true, %37, 1)\u001b[36m::Float64\u001b[39m\n",
      "\u001b[90m\u001b[56G│╻    -\u001b[1G\u001b[39m\u001b[90m   \u001b[39m│    %39  = (Base.sub_float)(%36, %38)\u001b[36m::Float64\u001b[39m\n",
      "\u001b[90m\u001b[56G│╻    getproperty\u001b[1G\u001b[39m\u001b[90m16 \u001b[39m│    %40  = (Base.getfield)(%16, :X)\u001b[36m::Array{Float64,1}\u001b[39m\n",
      "\u001b[90m\u001b[56G│╻    getindex\u001b[1G\u001b[39m\u001b[90m   \u001b[39m│    %41  = (Base.arrayref)(true, %40, 2)\u001b[36m::Float64\u001b[39m\n",
      "\u001b[90m\u001b[56G│╻    getproperty\u001b[1G\u001b[39m\u001b[90m   \u001b[39m│    %42  = (Base.getfield)(%33, :X)\u001b[36m::Array{Float64,1}\u001b[39m\n",
      "\u001b[90m\u001b[56G│╻    getindex\u001b[1G\u001b[39m\u001b[90m   \u001b[39m│    %43  = (Base.arrayref)(true, %42, 2)\u001b[36m::Float64\u001b[39m\n",
      "\u001b[90m\u001b[56G│╻    -\u001b[1G\u001b[39m\u001b[90m   \u001b[39m│    %44  = (Base.sub_float)(%41, %43)\u001b[36m::Float64\u001b[39m\n",
      "\u001b[90m\u001b[56G│╻    getproperty\u001b[1G\u001b[39m\u001b[90m17 \u001b[39m│    %45  = (Base.getfield)(%16, :X)\u001b[36m::Array{Float64,1}\u001b[39m\n",
      "\u001b[90m\u001b[56G│╻    getindex\u001b[1G\u001b[39m\u001b[90m   \u001b[39m│    %46  = (Base.arrayref)(true, %45, 3)\u001b[36m::Float64\u001b[39m\n",
      "\u001b[90m\u001b[56G│╻    getproperty\u001b[1G\u001b[39m\u001b[90m   \u001b[39m│    %47  = (Base.getfield)(%33, :X)\u001b[36m::Array{Float64,1}\u001b[39m\n",
      "\u001b[90m\u001b[56G│╻    getindex\u001b[1G\u001b[39m\u001b[90m   \u001b[39m│    %48  = (Base.arrayref)(true, %47, 3)\u001b[36m::Float64\u001b[39m\n",
      "\u001b[90m\u001b[56G│╻    -\u001b[1G\u001b[39m\u001b[90m   \u001b[39m│    %49  = (Base.sub_float)(%46, %48)\u001b[36m::Float64\u001b[39m\n",
      "\u001b[90m\u001b[56G│╻    *\u001b[1G\u001b[39m\u001b[90m18 \u001b[39m│    %50  = (Base.mul_float)(%39, %39)\u001b[36m::Float64\u001b[39m\n",
      "\u001b[90m\u001b[56G││   \u001b[1G\u001b[39m\u001b[90m   \u001b[39m│    %51  = (Base.mul_float)(%44, %44)\u001b[36m::Float64\u001b[39m\n",
      "\u001b[90m\u001b[56G││   \u001b[1G\u001b[39m\u001b[90m   \u001b[39m│    %52  = (Base.mul_float)(%49, %49)\u001b[36m::Float64\u001b[39m\n",
      "\u001b[90m\u001b[56G││╻    +\u001b[1G\u001b[39m\u001b[90m   \u001b[39m│    %53  = (Base.add_float)(%50, %51)\u001b[36m::Float64\u001b[39m\n",
      "\u001b[90m\u001b[56G│││  \u001b[1G\u001b[39m\u001b[90m   \u001b[39m│    %54  = (Base.add_float)(%53, %52)\u001b[36m::Float64\u001b[39m\n",
      "\u001b[90m\u001b[56G││╻    <\u001b[1G\u001b[39m\u001b[90m   \u001b[39m│    %55  = (Base.lt_float)(%54, 0.0)\u001b[36m::Bool\u001b[39m\n",
      "\u001b[90m\u001b[56G││   \u001b[1G\u001b[39m\u001b[90m   \u001b[39m└───        goto #13 if not %55\n",
      "\u001b[90m\u001b[56G││   \u001b[1G\u001b[39m\u001b[90m   \u001b[39m12 ─        invoke Base.Math.throw_complex_domainerror(:sqrt::Symbol, %54::Float64)\n",
      "\u001b[90m\u001b[56G││   \u001b[1G\u001b[39m\u001b[90m   \u001b[39m└───        $(Expr(:unreachable))\n",
      "\u001b[90m\u001b[56G││   \u001b[1G\u001b[39m\u001b[90m   \u001b[39m13 ─ %59  = (Base.Math.sqrt_llvm)(%54)\u001b[36m::Float64\u001b[39m\n",
      "\u001b[90m\u001b[56G││   \u001b[1G\u001b[39m\u001b[90m   \u001b[39m└───        goto #14\n",
      "\u001b[90m\u001b[56G│    \u001b[1G\u001b[39m\u001b[90m   \u001b[39m14 ─ %61  = Main.EPS\u001b[36m::Core.Compiler.Const(1.0e-14, false)\u001b[39m\n",
      "\u001b[90m\u001b[56G│╻    +\u001b[1G\u001b[39m\u001b[90m   \u001b[39m│    %62  = (Base.add_float)(%59, %61)\u001b[36m::Float64\u001b[39m\n",
      "\u001b[90m\u001b[56G│╻    getproperty\u001b[1G\u001b[39m\u001b[90m21 \u001b[39m│    %63  = (Base.getfield)(%33, :sigma)\u001b[36m::Float64\u001b[39m\n",
      "\u001b[90m\u001b[56G│╻    /\u001b[1G\u001b[39m\u001b[90m   \u001b[39m│    %64  = (Base.div_float)(%62, %63)\u001b[36m::Float64\u001b[39m\n",
      "\u001b[90m\u001b[56G│    \u001b[1G\u001b[39m\u001b[90m   \u001b[39m│    %65  = invoke g_dgdr(%64::Float64)\u001b[36m::Tuple{Float64,Float64}\u001b[39m\n",
      "\u001b[90m\u001b[56G││╻╷   indexed_iterate\u001b[1G\u001b[39m\u001b[90m   \u001b[39m│    %66  = (Base.getfield)(%65, 1, true)\u001b[36m::Float64\u001b[39m\n",
      "\u001b[90m\u001b[56G││╻    getindex\u001b[1G\u001b[39m\u001b[90m   \u001b[39m│    %67  = (Base.getfield)(%65, 2, true)\u001b[36m::Float64\u001b[39m\n",
      "\u001b[90m\u001b[56G│╻╷╷  literal_pow\u001b[1G\u001b[39m\u001b[90m24 \u001b[39m│    %68  = (Base.mul_float)(%62, %62)\u001b[36m::Float64\u001b[39m\n",
      "\u001b[90m\u001b[56G││┃│   *\u001b[1G\u001b[39m\u001b[90m   \u001b[39m│    %69  = (Base.mul_float)(%68, %62)\u001b[36m::Float64\u001b[39m\n",
      "\u001b[90m\u001b[56G│╻    /\u001b[1G\u001b[39m\u001b[90m   \u001b[39m│    %70  = (Base.div_float)(-0.07957747154594767, %69)\u001b[36m::Float64\u001b[39m\n",
      "\u001b[90m\u001b[56G│╻    getproperty\u001b[1G\u001b[39m\u001b[90m   \u001b[39m│    %71  = (Base.getfield)(%33, :Gamma)\u001b[36m::Array{Float64,1}\u001b[39m\n",
      "\u001b[90m\u001b[56G│╻    getindex\u001b[1G\u001b[39m\u001b[90m   \u001b[39m│    %72  = (Base.arrayref)(true, %71, 3)\u001b[36m::Float64\u001b[39m\n",
      "\u001b[90m\u001b[56G│╻    *\u001b[1G\u001b[39m\u001b[90m   \u001b[39m│    %73  = (Base.mul_float)(%44, %72)\u001b[36m::Float64\u001b[39m\n",
      "\u001b[90m\u001b[56G│╻    getproperty\u001b[1G\u001b[39m\u001b[90m   \u001b[39m│    %74  = (Base.getfield)(%33, :Gamma)\u001b[36m::Array{Float64,1}\u001b[39m\n",
      "\u001b[90m\u001b[56G│╻    getindex\u001b[1G\u001b[39m\u001b[90m   \u001b[39m│    %75  = (Base.arrayref)(true, %74, 2)\u001b[36m::Float64\u001b[39m\n",
      "\u001b[90m\u001b[56G│╻    *\u001b[1G\u001b[39m\u001b[90m   \u001b[39m│    %76  = (Base.mul_float)(%49, %75)\u001b[36m::Float64\u001b[39m\n",
      "\u001b[90m\u001b[56G│╻    -\u001b[1G\u001b[39m\u001b[90m   \u001b[39m│    %77  = (Base.sub_float)(%73, %76)\u001b[36m::Float64\u001b[39m\n",
      "\u001b[90m\u001b[56G│╻    *\u001b[1G\u001b[39m\u001b[90m   \u001b[39m│    %78  = (Base.mul_float)(%70, %77)\u001b[36m::Float64\u001b[39m\n",
      "\u001b[90m\u001b[56G│╻╷╷  literal_pow\u001b[1G\u001b[39m\u001b[90m25 \u001b[39m│    %79  = (Base.mul_float)(%62, %62)\u001b[36m::Float64\u001b[39m\n",
      "\u001b[90m\u001b[56G││┃│   *\u001b[1G\u001b[39m\u001b[90m   \u001b[39m│    %80  = (Base.mul_float)(%79, %62)\u001b[36m::Float64\u001b[39m\n",
      "\u001b[90m\u001b[56G│╻    /\u001b[1G\u001b[39m\u001b[90m   \u001b[39m│    %81  = (Base.div_float)(-0.07957747154594767, %80)\u001b[36m::Float64\u001b[39m\n",
      "\u001b[90m\u001b[56G│╻    getproperty\u001b[1G\u001b[39m\u001b[90m   \u001b[39m│    %82  = (Base.getfield)(%33, :Gamma)\u001b[36m::Array{Float64,1}\u001b[39m\n",
      "\u001b[90m\u001b[56G│╻    getindex\u001b[1G\u001b[39m\u001b[90m   \u001b[39m│    %83  = (Base.arrayref)(true, %82, 1)\u001b[36m::Float64\u001b[39m\n",
      "\u001b[90m\u001b[56G│╻    *\u001b[1G\u001b[39m\u001b[90m   \u001b[39m│    %84  = (Base.mul_float)(%49, %83)\u001b[36m::Float64\u001b[39m\n",
      "\u001b[90m\u001b[56G│╻    getproperty\u001b[1G\u001b[39m\u001b[90m   \u001b[39m│    %85  = (Base.getfield)(%33, :Gamma)\u001b[36m::Array{Float64,1}\u001b[39m\n",
      "\u001b[90m\u001b[56G│╻    getindex\u001b[1G\u001b[39m\u001b[90m   \u001b[39m│    %86  = (Base.arrayref)(true, %85, 3)\u001b[36m::Float64\u001b[39m\n",
      "\u001b[90m\u001b[56G│╻    *\u001b[1G\u001b[39m\u001b[90m   \u001b[39m│    %87  = (Base.mul_float)(%39, %86)\u001b[36m::Float64\u001b[39m\n",
      "\u001b[90m\u001b[56G│╻    -\u001b[1G\u001b[39m\u001b[90m   \u001b[39m│    %88  = (Base.sub_float)(%84, %87)\u001b[36m::Float64\u001b[39m\n",
      "\u001b[90m\u001b[56G│╻    *\u001b[1G\u001b[39m\u001b[90m   \u001b[39m│    %89  = (Base.mul_float)(%81, %88)\u001b[36m::Float64\u001b[39m\n",
      "\u001b[90m\u001b[56G│╻╷╷  literal_pow\u001b[1G\u001b[39m\u001b[90m26 \u001b[39m│    %90  = (Base.mul_float)(%62, %62)\u001b[36m::Float64\u001b[39m\n",
      "\u001b[90m\u001b[56G││┃│   *\u001b[1G\u001b[39m\u001b[90m   \u001b[39m│    %91  = (Base.mul_float)(%90, %62)\u001b[36m::Float64\u001b[39m\n",
      "\u001b[90m\u001b[56G│╻    /\u001b[1G\u001b[39m\u001b[90m   \u001b[39m│    %92  = (Base.div_float)(-0.07957747154594767, %91)\u001b[36m::Float64\u001b[39m\n",
      "\u001b[90m\u001b[56G│╻    getproperty\u001b[1G\u001b[39m\u001b[90m   \u001b[39m│    %93  = (Base.getfield)(%33, :Gamma)\u001b[36m::Array{Float64,1}\u001b[39m\n",
      "\u001b[90m\u001b[56G│╻    getindex\u001b[1G\u001b[39m\u001b[90m   \u001b[39m│    %94  = (Base.arrayref)(true, %93, 2)\u001b[36m::Float64\u001b[39m\n",
      "\u001b[90m\u001b[56G│╻    *\u001b[1G\u001b[39m\u001b[90m   \u001b[39m│    %95  = (Base.mul_float)(%39, %94)\u001b[36m::Float64\u001b[39m\n",
      "\u001b[90m\u001b[56G│╻    getproperty\u001b[1G\u001b[39m\u001b[90m   \u001b[39m│    %96  = (Base.getfield)(%33, :Gamma)\u001b[36m::Array{Float64,1}\u001b[39m\n",
      "\u001b[90m\u001b[56G│╻    getindex\u001b[1G\u001b[39m\u001b[90m   \u001b[39m│    %97  = (Base.arrayref)(true, %96, 1)\u001b[36m::Float64\u001b[39m\n"
     ]
    },
    {
     "name": "stdout",
     "output_type": "stream",
     "text": [
      "\u001b[90m\u001b[56G│╻    *\u001b[1G\u001b[39m\u001b[90m   \u001b[39m│    %98  = (Base.mul_float)(%44, %97)\u001b[36m::Float64\u001b[39m\n",
      "\u001b[90m\u001b[56G│╻    -\u001b[1G\u001b[39m\u001b[90m   \u001b[39m│    %99  = (Base.sub_float)(%95, %98)\u001b[36m::Float64\u001b[39m\n",
      "\u001b[90m\u001b[56G│╻    *\u001b[1G\u001b[39m\u001b[90m   \u001b[39m│    %100 = (Base.mul_float)(%92, %99)\u001b[36m::Float64\u001b[39m\n",
      "\u001b[90m\u001b[56G│╻    getproperty\u001b[1G\u001b[39m\u001b[90m29 \u001b[39m│    %101 = (Base.getfield)(%16, :U)\u001b[36m::Array{Float64,1}\u001b[39m\n",
      "\u001b[90m\u001b[56G│╻    getindex\u001b[1G\u001b[39m\u001b[90m   \u001b[39m│    %102 = (Base.arrayref)(true, %101, 1)\u001b[36m::Float64\u001b[39m\n",
      "\u001b[90m\u001b[56G│╻    *\u001b[1G\u001b[39m\u001b[90m   \u001b[39m│    %103 = (Base.mul_float)(%66, %78)\u001b[36m::Float64\u001b[39m\n",
      "\u001b[90m\u001b[56G│╻    +\u001b[1G\u001b[39m\u001b[90m   \u001b[39m│    %104 = (Base.add_float)(%102, %103)\u001b[36m::Float64\u001b[39m\n",
      "\u001b[90m\u001b[56G│╻    getproperty\u001b[1G\u001b[39m\u001b[90m   \u001b[39m│    %105 = (Base.getfield)(%16, :U)\u001b[36m::Array{Float64,1}\u001b[39m\n",
      "\u001b[90m\u001b[56G│╻    setindex!\u001b[1G\u001b[39m\u001b[90m   \u001b[39m│           (Base.arrayset)(true, %105, %104, 1)\n",
      "\u001b[90m\u001b[56G│╻    getproperty\u001b[1G\u001b[39m\u001b[90m30 \u001b[39m│    %107 = (Base.getfield)(%16, :U)\u001b[36m::Array{Float64,1}\u001b[39m\n",
      "\u001b[90m\u001b[56G│╻    getindex\u001b[1G\u001b[39m\u001b[90m   \u001b[39m│    %108 = (Base.arrayref)(true, %107, 2)\u001b[36m::Float64\u001b[39m\n",
      "\u001b[90m\u001b[56G│╻    *\u001b[1G\u001b[39m\u001b[90m   \u001b[39m│    %109 = (Base.mul_float)(%66, %89)\u001b[36m::Float64\u001b[39m\n",
      "\u001b[90m\u001b[56G│╻    +\u001b[1G\u001b[39m\u001b[90m   \u001b[39m│    %110 = (Base.add_float)(%108, %109)\u001b[36m::Float64\u001b[39m\n",
      "\u001b[90m\u001b[56G│╻    getproperty\u001b[1G\u001b[39m\u001b[90m   \u001b[39m│    %111 = (Base.getfield)(%16, :U)\u001b[36m::Array{Float64,1}\u001b[39m\n",
      "\u001b[90m\u001b[56G│╻    setindex!\u001b[1G\u001b[39m\u001b[90m   \u001b[39m│           (Base.arrayset)(true, %111, %110, 2)\n",
      "\u001b[90m\u001b[56G│╻    getproperty\u001b[1G\u001b[39m\u001b[90m31 \u001b[39m│    %113 = (Base.getfield)(%16, :U)\u001b[36m::Array{Float64,1}\u001b[39m\n",
      "\u001b[90m\u001b[56G│╻    getindex\u001b[1G\u001b[39m\u001b[90m   \u001b[39m│    %114 = (Base.arrayref)(true, %113, 3)\u001b[36m::Float64\u001b[39m\n",
      "\u001b[90m\u001b[56G│╻    *\u001b[1G\u001b[39m\u001b[90m   \u001b[39m│    %115 = (Base.mul_float)(%66, %100)\u001b[36m::Float64\u001b[39m\n",
      "\u001b[90m\u001b[56G│╻    +\u001b[1G\u001b[39m\u001b[90m   \u001b[39m│    %116 = (Base.add_float)(%114, %115)\u001b[36m::Float64\u001b[39m\n",
      "\u001b[90m\u001b[56G│╻    getproperty\u001b[1G\u001b[39m\u001b[90m   \u001b[39m│    %117 = (Base.getfield)(%16, :U)\u001b[36m::Array{Float64,1}\u001b[39m\n",
      "\u001b[90m\u001b[56G│╻    setindex!\u001b[1G\u001b[39m\u001b[90m   \u001b[39m│           (Base.arrayset)(true, %117, %116, 3)\n",
      "\u001b[90m\u001b[56G│╻    getproperty\u001b[1G\u001b[39m\u001b[90m34 \u001b[39m│    %119 = (Base.getfield)(%33, :sigma)\u001b[36m::Float64\u001b[39m\n",
      "\u001b[90m\u001b[56G│╻    *\u001b[1G\u001b[39m\u001b[90m   \u001b[39m│    %120 = (Base.mul_float)(%119, %62)\u001b[36m::Float64\u001b[39m\n",
      "\u001b[90m\u001b[56G│╻    /\u001b[1G\u001b[39m\u001b[90m   \u001b[39m│    %121 = (Base.div_float)(%67, %120)\u001b[36m::Float64\u001b[39m\n",
      "\u001b[90m\u001b[56G││╻╷   *\u001b[1G\u001b[39m\u001b[90m   \u001b[39m│    %122 = (Base.mul_float)(%121, -3.0)\u001b[36m::Float64\u001b[39m\n",
      "\u001b[90m\u001b[56G││╻    *\u001b[1G\u001b[39m\u001b[90m   \u001b[39m│    %123 = (Base.mul_float)(%122, %66)\u001b[36m::Float64\u001b[39m\n",
      "\u001b[90m\u001b[56G││╻    *\u001b[1G\u001b[39m\u001b[90m   \u001b[39m│    %124 = (Base.mul_float)(%62, %62)\u001b[36m::Float64\u001b[39m\n",
      "\u001b[90m\u001b[56G│╻    /\u001b[1G\u001b[39m\u001b[90m   \u001b[39m│    %125 = (Base.div_float)(%123, %124)\u001b[36m::Float64\u001b[39m\n",
      "\u001b[90m\u001b[56G│╻    getproperty\u001b[1G\u001b[39m\u001b[90m36 \u001b[39m│    %126 = (Base.getfield)(%16, :J)\u001b[36m::Array{Float64,2}\u001b[39m\n",
      "\u001b[90m\u001b[56G│╻    getindex\u001b[1G\u001b[39m\u001b[90m   \u001b[39m│    %127 = (Base.arrayref)(true, %126, 1, 1)\u001b[36m::Float64\u001b[39m\n",
      "\u001b[90m\u001b[56G││╻    *\u001b[1G\u001b[39m\u001b[90m   \u001b[39m│    %128 = (Base.mul_float)(%125, %78)\u001b[36m::Float64\u001b[39m\n",
      "\u001b[90m\u001b[56G│││  \u001b[1G\u001b[39m\u001b[90m   \u001b[39m│    %129 = (Base.mul_float)(%128, %39)\u001b[36m::Float64\u001b[39m\n",
      "\u001b[90m\u001b[56G│╻    +\u001b[1G\u001b[39m\u001b[90m   \u001b[39m│    %130 = (Base.add_float)(%127, %129)\u001b[36m::Float64\u001b[39m\n",
      "\u001b[90m\u001b[56G│╻    getproperty\u001b[1G\u001b[39m\u001b[90m   \u001b[39m│    %131 = (Base.getfield)(%16, :J)\u001b[36m::Array{Float64,2}\u001b[39m\n",
      "\u001b[90m\u001b[56G│╻    setindex!\u001b[1G\u001b[39m\u001b[90m   \u001b[39m│           (Base.arrayset)(true, %131, %130, 1, 1)\n",
      "\u001b[90m\u001b[56G│╻    getproperty\u001b[1G\u001b[39m\u001b[90m37 \u001b[39m│    %133 = (Base.getfield)(%16, :J)\u001b[36m::Array{Float64,2}\u001b[39m\n",
      "\u001b[90m\u001b[56G│╻    getindex\u001b[1G\u001b[39m\u001b[90m   \u001b[39m│    %134 = (Base.arrayref)(true, %133, 2, 1)\u001b[36m::Float64\u001b[39m\n",
      "\u001b[90m\u001b[56G││╻    *\u001b[1G\u001b[39m\u001b[90m   \u001b[39m│    %135 = (Base.mul_float)(%125, %89)\u001b[36m::Float64\u001b[39m\n",
      "\u001b[90m\u001b[56G│││  \u001b[1G\u001b[39m\u001b[90m   \u001b[39m│    %136 = (Base.mul_float)(%135, %39)\u001b[36m::Float64\u001b[39m\n",
      "\u001b[90m\u001b[56G│╻    +\u001b[1G\u001b[39m\u001b[90m   \u001b[39m│    %137 = (Base.add_float)(%134, %136)\u001b[36m::Float64\u001b[39m\n",
      "\u001b[90m\u001b[56G│╻    getproperty\u001b[1G\u001b[39m\u001b[90m   \u001b[39m│    %138 = (Base.getfield)(%16, :J)\u001b[36m::Array{Float64,2}\u001b[39m\n",
      "\u001b[90m\u001b[56G│╻    setindex!\u001b[1G\u001b[39m\u001b[90m   \u001b[39m│           (Base.arrayset)(true, %138, %137, 2, 1)\n",
      "\u001b[90m\u001b[56G│╻    getproperty\u001b[1G\u001b[39m\u001b[90m38 \u001b[39m│    %140 = (Base.getfield)(%16, :J)\u001b[36m::Array{Float64,2}\u001b[39m\n",
      "\u001b[90m\u001b[56G│╻    getindex\u001b[1G\u001b[39m\u001b[90m   \u001b[39m│    %141 = (Base.arrayref)(true, %140, 3, 1)\u001b[36m::Float64\u001b[39m\n",
      "\u001b[90m\u001b[56G││╻    *\u001b[1G\u001b[39m\u001b[90m   \u001b[39m│    %142 = (Base.mul_float)(%125, %100)\u001b[36m::Float64\u001b[39m\n",
      "\u001b[90m\u001b[56G│││  \u001b[1G\u001b[39m\u001b[90m   \u001b[39m│    %143 = (Base.mul_float)(%142, %39)\u001b[36m::Float64\u001b[39m\n",
      "\u001b[90m\u001b[56G│╻    +\u001b[1G\u001b[39m\u001b[90m   \u001b[39m│    %144 = (Base.add_float)(%141, %143)\u001b[36m::Float64\u001b[39m\n",
      "\u001b[90m\u001b[56G│╻    getproperty\u001b[1G\u001b[39m\u001b[90m   \u001b[39m│    %145 = (Base.getfield)(%16, :J)\u001b[36m::Array{Float64,2}\u001b[39m\n",
      "\u001b[90m\u001b[56G│╻    setindex!\u001b[1G\u001b[39m\u001b[90m   \u001b[39m│           (Base.arrayset)(true, %145, %144, 3, 1)\n",
      "\u001b[90m\u001b[56G│╻    getproperty\u001b[1G\u001b[39m\u001b[90m40 \u001b[39m│    %147 = (Base.getfield)(%16, :J)\u001b[36m::Array{Float64,2}\u001b[39m\n",
      "\u001b[90m\u001b[56G│╻    getindex\u001b[1G\u001b[39m\u001b[90m   \u001b[39m│    %148 = (Base.arrayref)(true, %147, 1, 2)\u001b[36m::Float64\u001b[39m\n",
      "\u001b[90m\u001b[56G││╻    *\u001b[1G\u001b[39m\u001b[90m   \u001b[39m│    %149 = (Base.mul_float)(%125, %78)\u001b[36m::Float64\u001b[39m\n",
      "\u001b[90m\u001b[56G│││  \u001b[1G\u001b[39m\u001b[90m   \u001b[39m│    %150 = (Base.mul_float)(%149, %44)\u001b[36m::Float64\u001b[39m\n",
      "\u001b[90m\u001b[56G│╻    +\u001b[1G\u001b[39m\u001b[90m   \u001b[39m│    %151 = (Base.add_float)(%148, %150)\u001b[36m::Float64\u001b[39m\n",
      "\u001b[90m\u001b[56G│╻    getproperty\u001b[1G\u001b[39m\u001b[90m   \u001b[39m│    %152 = (Base.getfield)(%16, :J)\u001b[36m::Array{Float64,2}\u001b[39m\n",
      "\u001b[90m\u001b[56G│╻    setindex!\u001b[1G\u001b[39m\u001b[90m   \u001b[39m│           (Base.arrayset)(true, %152, %151, 1, 2)\n",
      "\u001b[90m\u001b[56G│╻    getproperty\u001b[1G\u001b[39m\u001b[90m41 \u001b[39m│    %154 = (Base.getfield)(%16, :J)\u001b[36m::Array{Float64,2}\u001b[39m\n",
      "\u001b[90m\u001b[56G│╻    getindex\u001b[1G\u001b[39m\u001b[90m   \u001b[39m│    %155 = (Base.arrayref)(true, %154, 2, 2)\u001b[36m::Float64\u001b[39m\n",
      "\u001b[90m\u001b[56G││╻    *\u001b[1G\u001b[39m\u001b[90m   \u001b[39m│    %156 = (Base.mul_float)(%125, %89)\u001b[36m::Float64\u001b[39m\n",
      "\u001b[90m\u001b[56G│││  \u001b[1G\u001b[39m\u001b[90m   \u001b[39m│    %157 = (Base.mul_float)(%156, %44)\u001b[36m::Float64\u001b[39m\n",
      "\u001b[90m\u001b[56G│╻    +\u001b[1G\u001b[39m\u001b[90m   \u001b[39m│    %158 = (Base.add_float)(%155, %157)\u001b[36m::Float64\u001b[39m\n",
      "\u001b[90m\u001b[56G│╻    getproperty\u001b[1G\u001b[39m\u001b[90m   \u001b[39m│    %159 = (Base.getfield)(%16, :J)\u001b[36m::Array{Float64,2}\u001b[39m\n",
      "\u001b[90m\u001b[56G│╻    setindex!\u001b[1G\u001b[39m\u001b[90m   \u001b[39m│           (Base.arrayset)(true, %159, %158, 2, 2)\n",
      "\u001b[90m\u001b[56G│╻    getproperty\u001b[1G\u001b[39m\u001b[90m42 \u001b[39m│    %161 = (Base.getfield)(%16, :J)\u001b[36m::Array{Float64,2}\u001b[39m\n",
      "\u001b[90m\u001b[56G│╻    getindex\u001b[1G\u001b[39m\u001b[90m   \u001b[39m│    %162 = (Base.arrayref)(true, %161, 3, 2)\u001b[36m::Float64\u001b[39m\n",
      "\u001b[90m\u001b[56G││╻    *\u001b[1G\u001b[39m\u001b[90m   \u001b[39m│    %163 = (Base.mul_float)(%125, %100)\u001b[36m::Float64\u001b[39m\n",
      "\u001b[90m\u001b[56G│││  \u001b[1G\u001b[39m\u001b[90m   \u001b[39m│    %164 = (Base.mul_float)(%163, %44)\u001b[36m::Float64\u001b[39m\n",
      "\u001b[90m\u001b[56G│╻    +\u001b[1G\u001b[39m\u001b[90m   \u001b[39m│    %165 = (Base.add_float)(%162, %164)\u001b[36m::Float64\u001b[39m\n",
      "\u001b[90m\u001b[56G│╻    getproperty\u001b[1G\u001b[39m\u001b[90m   \u001b[39m│    %166 = (Base.getfield)(%16, :J)\u001b[36m::Array{Float64,2}\u001b[39m\n",
      "\u001b[90m\u001b[56G│╻    setindex!\u001b[1G\u001b[39m\u001b[90m   \u001b[39m│           (Base.arrayset)(true, %166, %165, 3, 2)\n",
      "\u001b[90m\u001b[56G│╻    getproperty\u001b[1G\u001b[39m\u001b[90m44 \u001b[39m│    %168 = (Base.getfield)(%16, :J)\u001b[36m::Array{Float64,2}\u001b[39m\n",
      "\u001b[90m\u001b[56G│╻    getindex\u001b[1G\u001b[39m\u001b[90m   \u001b[39m│    %169 = (Base.arrayref)(true, %168, 1, 3)\u001b[36m::Float64\u001b[39m\n",
      "\u001b[90m\u001b[56G││╻    *\u001b[1G\u001b[39m\u001b[90m   \u001b[39m│    %170 = (Base.mul_float)(%125, %78)\u001b[36m::Float64\u001b[39m\n",
      "\u001b[90m\u001b[56G│││  \u001b[1G\u001b[39m\u001b[90m   \u001b[39m│    %171 = (Base.mul_float)(%170, %49)\u001b[36m::Float64\u001b[39m\n",
      "\u001b[90m\u001b[56G│╻    +\u001b[1G\u001b[39m\u001b[90m   \u001b[39m│    %172 = (Base.add_float)(%169, %171)\u001b[36m::Float64\u001b[39m\n",
      "\u001b[90m\u001b[56G│╻    getproperty\u001b[1G\u001b[39m\u001b[90m   \u001b[39m│    %173 = (Base.getfield)(%16, :J)\u001b[36m::Array{Float64,2}\u001b[39m\n",
      "\u001b[90m\u001b[56G│╻    setindex!\u001b[1G\u001b[39m\u001b[90m   \u001b[39m│           (Base.arrayset)(true, %173, %172, 1, 3)\n",
      "\u001b[90m\u001b[56G│╻    getproperty\u001b[1G\u001b[39m\u001b[90m45 \u001b[39m│    %175 = (Base.getfield)(%16, :J)\u001b[36m::Array{Float64,2}\u001b[39m\n",
      "\u001b[90m\u001b[56G│╻    getindex\u001b[1G\u001b[39m\u001b[90m   \u001b[39m│    %176 = (Base.arrayref)(true, %175, 2, 3)\u001b[36m::Float64\u001b[39m\n",
      "\u001b[90m\u001b[56G││╻    *\u001b[1G\u001b[39m\u001b[90m   \u001b[39m│    %177 = (Base.mul_float)(%125, %89)\u001b[36m::Float64\u001b[39m\n",
      "\u001b[90m\u001b[56G│││  \u001b[1G\u001b[39m\u001b[90m   \u001b[39m│    %178 = (Base.mul_float)(%177, %49)\u001b[36m::Float64\u001b[39m\n",
      "\u001b[90m\u001b[56G│╻    +\u001b[1G\u001b[39m\u001b[90m   \u001b[39m│    %179 = (Base.add_float)(%176, %178)\u001b[36m::Float64\u001b[39m\n",
      "\u001b[90m\u001b[56G│╻    getproperty\u001b[1G\u001b[39m\u001b[90m   \u001b[39m│    %180 = (Base.getfield)(%16, :J)\u001b[36m::Array{Float64,2}\u001b[39m\n",
      "\u001b[90m\u001b[56G│╻    setindex!\u001b[1G\u001b[39m\u001b[90m   \u001b[39m│           (Base.arrayset)(true, %180, %179, 2, 3)\n",
      "\u001b[90m\u001b[56G│╻    getproperty\u001b[1G\u001b[39m\u001b[90m46 \u001b[39m│    %182 = (Base.getfield)(%16, :J)\u001b[36m::Array{Float64,2}\u001b[39m\n",
      "\u001b[90m\u001b[56G│╻    getindex\u001b[1G\u001b[39m\u001b[90m   \u001b[39m│    %183 = (Base.arrayref)(true, %182, 3, 3)\u001b[36m::Float64\u001b[39m\n",
      "\u001b[90m\u001b[56G││╻    *\u001b[1G\u001b[39m\u001b[90m   \u001b[39m│    %184 = (Base.mul_float)(%125, %100)\u001b[36m::Float64\u001b[39m\n",
      "\u001b[90m\u001b[56G│││  \u001b[1G\u001b[39m\u001b[90m   \u001b[39m│    %185 = (Base.mul_float)(%184, %49)\u001b[36m::Float64\u001b[39m\n",
      "\u001b[90m\u001b[56G│╻    +\u001b[1G\u001b[39m\u001b[90m   \u001b[39m│    %186 = (Base.add_float)(%183, %185)\u001b[36m::Float64\u001b[39m\n",
      "\u001b[90m\u001b[56G│╻    getproperty\u001b[1G\u001b[39m\u001b[90m   \u001b[39m│    %187 = (Base.getfield)(%16, :J)\u001b[36m::Array{Float64,2}\u001b[39m\n",
      "\u001b[90m\u001b[56G│╻    setindex!\u001b[1G\u001b[39m\u001b[90m   \u001b[39m│           (Base.arrayset)(true, %187, %186, 3, 3)\n",
      "\u001b[90m\u001b[56G│╻    *\u001b[1G\u001b[39m\u001b[90m49 \u001b[39m│    %189 = (Base.mul_float)(-0.07957747154594767, %66)\u001b[36m::Float64\u001b[39m\n"
     ]
    },
    {
     "name": "stdout",
     "output_type": "stream",
     "text": [
      "\u001b[90m\u001b[56G││╻╷   *\u001b[1G\u001b[39m\u001b[90m   \u001b[39m│    %190 = (Base.mul_float)(%62, %62)\u001b[36m::Float64\u001b[39m\n",
      "\u001b[90m\u001b[56G│││┃    *\u001b[1G\u001b[39m\u001b[90m   \u001b[39m│    %191 = (Base.mul_float)(%190, %62)\u001b[36m::Float64\u001b[39m\n",
      "\u001b[90m\u001b[56G│╻    /\u001b[1G\u001b[39m\u001b[90m   \u001b[39m│    %192 = (Base.div_float)(%189, %191)\u001b[36m::Float64\u001b[39m\n",
      "\u001b[90m\u001b[56G│╻    getproperty\u001b[1G\u001b[39m\u001b[90m51 \u001b[39m│    %193 = (Base.getfield)(%16, :J)\u001b[36m::Array{Float64,2}\u001b[39m\n",
      "\u001b[90m\u001b[56G│╻    getindex\u001b[1G\u001b[39m\u001b[90m   \u001b[39m│    %194 = (Base.arrayref)(true, %193, 2, 1)\u001b[36m::Float64\u001b[39m\n",
      "\u001b[90m\u001b[56G│╻    getproperty\u001b[1G\u001b[39m\u001b[90m   \u001b[39m│    %195 = (Base.getfield)(%33, :Gamma)\u001b[36m::Array{Float64,1}\u001b[39m\n",
      "\u001b[90m\u001b[56G│╻    getindex\u001b[1G\u001b[39m\u001b[90m   \u001b[39m│    %196 = (Base.arrayref)(true, %195, 3)\u001b[36m::Float64\u001b[39m\n",
      "\u001b[90m\u001b[56G│╻    *\u001b[1G\u001b[39m\u001b[90m   \u001b[39m│    %197 = (Base.mul_float)(%192, %196)\u001b[36m::Float64\u001b[39m\n",
      "\u001b[90m\u001b[56G│╻    -\u001b[1G\u001b[39m\u001b[90m   \u001b[39m│    %198 = (Base.sub_float)(%194, %197)\u001b[36m::Float64\u001b[39m\n",
      "\u001b[90m\u001b[56G│╻    getproperty\u001b[1G\u001b[39m\u001b[90m   \u001b[39m│    %199 = (Base.getfield)(%16, :J)\u001b[36m::Array{Float64,2}\u001b[39m\n",
      "\u001b[90m\u001b[56G│╻    setindex!\u001b[1G\u001b[39m\u001b[90m   \u001b[39m│           (Base.arrayset)(true, %199, %198, 2, 1)\n",
      "\u001b[90m\u001b[56G│╻    getproperty\u001b[1G\u001b[39m\u001b[90m52 \u001b[39m│    %201 = (Base.getfield)(%16, :J)\u001b[36m::Array{Float64,2}\u001b[39m\n",
      "\u001b[90m\u001b[56G│╻    getindex\u001b[1G\u001b[39m\u001b[90m   \u001b[39m│    %202 = (Base.arrayref)(true, %201, 3, 1)\u001b[36m::Float64\u001b[39m\n",
      "\u001b[90m\u001b[56G│╻    getproperty\u001b[1G\u001b[39m\u001b[90m   \u001b[39m│    %203 = (Base.getfield)(%33, :Gamma)\u001b[36m::Array{Float64,1}\u001b[39m\n",
      "\u001b[90m\u001b[56G│╻    getindex\u001b[1G\u001b[39m\u001b[90m   \u001b[39m│    %204 = (Base.arrayref)(true, %203, 2)\u001b[36m::Float64\u001b[39m\n",
      "\u001b[90m\u001b[56G│╻    *\u001b[1G\u001b[39m\u001b[90m   \u001b[39m│    %205 = (Base.mul_float)(%192, %204)\u001b[36m::Float64\u001b[39m\n",
      "\u001b[90m\u001b[56G│╻    +\u001b[1G\u001b[39m\u001b[90m   \u001b[39m│    %206 = (Base.add_float)(%202, %205)\u001b[36m::Float64\u001b[39m\n",
      "\u001b[90m\u001b[56G│╻    getproperty\u001b[1G\u001b[39m\u001b[90m   \u001b[39m│    %207 = (Base.getfield)(%16, :J)\u001b[36m::Array{Float64,2}\u001b[39m\n",
      "\u001b[90m\u001b[56G│╻    setindex!\u001b[1G\u001b[39m\u001b[90m   \u001b[39m│           (Base.arrayset)(true, %207, %206, 3, 1)\n",
      "\u001b[90m\u001b[56G│╻    getproperty\u001b[1G\u001b[39m\u001b[90m54 \u001b[39m│    %209 = (Base.getfield)(%16, :J)\u001b[36m::Array{Float64,2}\u001b[39m\n",
      "\u001b[90m\u001b[56G│╻    getindex\u001b[1G\u001b[39m\u001b[90m   \u001b[39m│    %210 = (Base.arrayref)(true, %209, 1, 2)\u001b[36m::Float64\u001b[39m\n",
      "\u001b[90m\u001b[56G│╻    getproperty\u001b[1G\u001b[39m\u001b[90m   \u001b[39m│    %211 = (Base.getfield)(%33, :Gamma)\u001b[36m::Array{Float64,1}\u001b[39m\n",
      "\u001b[90m\u001b[56G│╻    getindex\u001b[1G\u001b[39m\u001b[90m   \u001b[39m│    %212 = (Base.arrayref)(true, %211, 3)\u001b[36m::Float64\u001b[39m\n",
      "\u001b[90m\u001b[56G│╻    *\u001b[1G\u001b[39m\u001b[90m   \u001b[39m│    %213 = (Base.mul_float)(%192, %212)\u001b[36m::Float64\u001b[39m\n",
      "\u001b[90m\u001b[56G│╻    +\u001b[1G\u001b[39m\u001b[90m   \u001b[39m│    %214 = (Base.add_float)(%210, %213)\u001b[36m::Float64\u001b[39m\n",
      "\u001b[90m\u001b[56G│╻    getproperty\u001b[1G\u001b[39m\u001b[90m   \u001b[39m│    %215 = (Base.getfield)(%16, :J)\u001b[36m::Array{Float64,2}\u001b[39m\n",
      "\u001b[90m\u001b[56G│╻    setindex!\u001b[1G\u001b[39m\u001b[90m   \u001b[39m│           (Base.arrayset)(true, %215, %214, 1, 2)\n",
      "\u001b[90m\u001b[56G│╻    getproperty\u001b[1G\u001b[39m\u001b[90m55 \u001b[39m│    %217 = (Base.getfield)(%16, :J)\u001b[36m::Array{Float64,2}\u001b[39m\n",
      "\u001b[90m\u001b[56G│╻    getindex\u001b[1G\u001b[39m\u001b[90m   \u001b[39m│    %218 = (Base.arrayref)(true, %217, 3, 2)\u001b[36m::Float64\u001b[39m\n",
      "\u001b[90m\u001b[56G│╻    getproperty\u001b[1G\u001b[39m\u001b[90m   \u001b[39m│    %219 = (Base.getfield)(%33, :Gamma)\u001b[36m::Array{Float64,1}\u001b[39m\n",
      "\u001b[90m\u001b[56G│╻    getindex\u001b[1G\u001b[39m\u001b[90m   \u001b[39m│    %220 = (Base.arrayref)(true, %219, 1)\u001b[36m::Float64\u001b[39m\n",
      "\u001b[90m\u001b[56G│╻    *\u001b[1G\u001b[39m\u001b[90m   \u001b[39m│    %221 = (Base.mul_float)(%192, %220)\u001b[36m::Float64\u001b[39m\n",
      "\u001b[90m\u001b[56G│╻    -\u001b[1G\u001b[39m\u001b[90m   \u001b[39m│    %222 = (Base.sub_float)(%218, %221)\u001b[36m::Float64\u001b[39m\n",
      "\u001b[90m\u001b[56G│╻    getproperty\u001b[1G\u001b[39m\u001b[90m   \u001b[39m│    %223 = (Base.getfield)(%16, :J)\u001b[36m::Array{Float64,2}\u001b[39m\n",
      "\u001b[90m\u001b[56G│╻    setindex!\u001b[1G\u001b[39m\u001b[90m   \u001b[39m│           (Base.arrayset)(true, %223, %222, 3, 2)\n",
      "\u001b[90m\u001b[56G│╻    getproperty\u001b[1G\u001b[39m\u001b[90m57 \u001b[39m│    %225 = (Base.getfield)(%16, :J)\u001b[36m::Array{Float64,2}\u001b[39m\n",
      "\u001b[90m\u001b[56G│╻    getindex\u001b[1G\u001b[39m\u001b[90m   \u001b[39m│    %226 = (Base.arrayref)(true, %225, 1, 3)\u001b[36m::Float64\u001b[39m\n",
      "\u001b[90m\u001b[56G│╻    getproperty\u001b[1G\u001b[39m\u001b[90m   \u001b[39m│    %227 = (Base.getfield)(%33, :Gamma)\u001b[36m::Array{Float64,1}\u001b[39m\n",
      "\u001b[90m\u001b[56G│╻    getindex\u001b[1G\u001b[39m\u001b[90m   \u001b[39m│    %228 = (Base.arrayref)(true, %227, 2)\u001b[36m::Float64\u001b[39m\n",
      "\u001b[90m\u001b[56G│╻    *\u001b[1G\u001b[39m\u001b[90m   \u001b[39m│    %229 = (Base.mul_float)(%192, %228)\u001b[36m::Float64\u001b[39m\n",
      "\u001b[90m\u001b[56G│╻    -\u001b[1G\u001b[39m\u001b[90m   \u001b[39m│    %230 = (Base.sub_float)(%226, %229)\u001b[36m::Float64\u001b[39m\n",
      "\u001b[90m\u001b[56G│╻    getproperty\u001b[1G\u001b[39m\u001b[90m   \u001b[39m│    %231 = (Base.getfield)(%16, :J)\u001b[36m::Array{Float64,2}\u001b[39m\n",
      "\u001b[90m\u001b[56G│╻    setindex!\u001b[1G\u001b[39m\u001b[90m   \u001b[39m│           (Base.arrayset)(true, %231, %230, 1, 3)\n",
      "\u001b[90m\u001b[56G│╻    getproperty\u001b[1G\u001b[39m\u001b[90m58 \u001b[39m│    %233 = (Base.getfield)(%16, :J)\u001b[36m::Array{Float64,2}\u001b[39m\n",
      "\u001b[90m\u001b[56G│╻    getindex\u001b[1G\u001b[39m\u001b[90m   \u001b[39m│    %234 = (Base.arrayref)(true, %233, 2, 3)\u001b[36m::Float64\u001b[39m\n",
      "\u001b[90m\u001b[56G│╻    getproperty\u001b[1G\u001b[39m\u001b[90m   \u001b[39m│    %235 = (Base.getfield)(%33, :Gamma)\u001b[36m::Array{Float64,1}\u001b[39m\n",
      "\u001b[90m\u001b[56G│╻    getindex\u001b[1G\u001b[39m\u001b[90m   \u001b[39m│    %236 = (Base.arrayref)(true, %235, 1)\u001b[36m::Float64\u001b[39m\n",
      "\u001b[90m\u001b[56G│╻    *\u001b[1G\u001b[39m\u001b[90m   \u001b[39m│    %237 = (Base.mul_float)(%192, %236)\u001b[36m::Float64\u001b[39m\n",
      "\u001b[90m\u001b[56G│╻    +\u001b[1G\u001b[39m\u001b[90m   \u001b[39m│    %238 = (Base.add_float)(%234, %237)\u001b[36m::Float64\u001b[39m\n",
      "\u001b[90m\u001b[56G│╻    getproperty\u001b[1G\u001b[39m\u001b[90m   \u001b[39m│    %239 = (Base.getfield)(%16, :J)\u001b[36m::Array{Float64,2}\u001b[39m\n",
      "\u001b[90m\u001b[56G│╻    setindex!\u001b[1G\u001b[39m\u001b[90m   \u001b[39m│           (Base.arrayset)(true, %239, %238, 2, 3)\n",
      "\u001b[90m\u001b[56G││╻    rem\u001b[1G\u001b[39m\u001b[90m   \u001b[39m│    %241 = (Base.bitcast)(UInt64, %34)\u001b[36m::UInt64\u001b[39m\n",
      "\u001b[90m\u001b[56G││╻    -\u001b[1G\u001b[39m\u001b[90m   \u001b[39m│    %242 = π (0x0000000000000001, \u001b[36mUInt64\u001b[39m)\n",
      "\u001b[90m\u001b[56G│││╻    -\u001b[1G\u001b[39m\u001b[90m   \u001b[39m│    %243 = (Base.sub_int)(%241, %242)\u001b[36m::UInt64\u001b[39m\n",
      "\u001b[90m\u001b[56G││╻    length\u001b[1G\u001b[39m\u001b[90m   \u001b[39m│    %244 = (Base.arraylen)(sources)\u001b[36m::Int64\u001b[39m\n",
      "\u001b[90m\u001b[56G│││╻╷   >=\u001b[1G\u001b[39m\u001b[90m   \u001b[39m│    %245 = (Base.sle_int)(0, %244)\u001b[36m::Bool\u001b[39m\n",
      "\u001b[90m\u001b[56G││││╻    reinterpret\u001b[1G\u001b[39m\u001b[90m   \u001b[39m│    %246 = (Base.bitcast)(UInt64, %244)\u001b[36m::UInt64\u001b[39m\n",
      "\u001b[90m\u001b[56G│││╻    <\u001b[1G\u001b[39m\u001b[90m   \u001b[39m│    %247 = (Base.ult_int)(%243, %246)\u001b[36m::Bool\u001b[39m\n",
      "\u001b[90m\u001b[56G│││╻    &\u001b[1G\u001b[39m\u001b[90m   \u001b[39m│    %248 = (Base.and_int)(%245, %247)\u001b[36m::Bool\u001b[39m\n",
      "\u001b[90m\u001b[56G││   \u001b[1G\u001b[39m\u001b[90m   \u001b[39m└───        goto #16 if not %248\n",
      "\u001b[90m\u001b[56G││╻    getindex\u001b[1G\u001b[39m\u001b[90m   \u001b[39m15 ─ %250 = (Base.arrayref)(false, sources, %34)\u001b[36m::ParticleConcrete\u001b[39m\n",
      "\u001b[90m\u001b[56G││╻    +\u001b[1G\u001b[39m\u001b[90m   \u001b[39m│    %251 = (Base.add_int)(%34, 1)\u001b[36m::Int64\u001b[39m\n",
      "\u001b[90m\u001b[56G││   \u001b[1G\u001b[39m\u001b[90m   \u001b[39m└───        goto #17\n",
      "\u001b[90m\u001b[56G││   \u001b[1G\u001b[39m\u001b[90m   \u001b[39m16 ─        goto #17\n",
      "\u001b[90m\u001b[56G│    \u001b[1G\u001b[39m\u001b[90m   \u001b[39m17 ┄ %254 = φ (#15 => %250)\u001b[36m::ParticleConcrete\u001b[39m\n",
      "\u001b[90m\u001b[56G│    \u001b[1G\u001b[39m\u001b[90m   \u001b[39m│    %255 = φ (#15 => %251)\u001b[36m::Int64\u001b[39m\n",
      "\u001b[90m\u001b[56G│    \u001b[1G\u001b[39m\u001b[90m   \u001b[39m│    %256 = φ (#15 => false, #16 => true)\u001b[36m::Bool\u001b[39m\n",
      "\u001b[90m\u001b[56G│    \u001b[1G\u001b[39m\u001b[90m   \u001b[39m│    %257 = (Base.not_int)(%256)\u001b[36m::Bool\u001b[39m\n",
      "\u001b[90m\u001b[56G│    \u001b[1G\u001b[39m\u001b[90m   \u001b[39m└───        goto #19 if not %257\n",
      "\u001b[90m\u001b[56G│    \u001b[1G\u001b[39m\u001b[90m   \u001b[39m18 ─        goto #11\n",
      "\u001b[90m\u001b[56G││╻    rem\u001b[1G\u001b[39m\u001b[90m   \u001b[39m19 ─ %260 = (Base.bitcast)(UInt64, %17)\u001b[36m::UInt64\u001b[39m\n",
      "\u001b[90m\u001b[56G││╻    -\u001b[1G\u001b[39m\u001b[90m   \u001b[39m│    %261 = π (0x0000000000000001, \u001b[36mUInt64\u001b[39m)\n",
      "\u001b[90m\u001b[56G│││╻    -\u001b[1G\u001b[39m\u001b[90m   \u001b[39m│    %262 = (Base.sub_int)(%260, %261)\u001b[36m::UInt64\u001b[39m\n",
      "\u001b[90m\u001b[56G││╻    length\u001b[1G\u001b[39m\u001b[90m   \u001b[39m│    %263 = (Base.arraylen)(targets)\u001b[36m::Int64\u001b[39m\n",
      "\u001b[90m\u001b[56G│││╻╷   >=\u001b[1G\u001b[39m\u001b[90m   \u001b[39m│    %264 = (Base.sle_int)(0, %263)\u001b[36m::Bool\u001b[39m\n",
      "\u001b[90m\u001b[56G││││╻    reinterpret\u001b[1G\u001b[39m\u001b[90m   \u001b[39m│    %265 = (Base.bitcast)(UInt64, %263)\u001b[36m::UInt64\u001b[39m\n",
      "\u001b[90m\u001b[56G│││╻    <\u001b[1G\u001b[39m\u001b[90m   \u001b[39m│    %266 = (Base.ult_int)(%262, %265)\u001b[36m::Bool\u001b[39m\n",
      "\u001b[90m\u001b[56G│││╻    &\u001b[1G\u001b[39m\u001b[90m   \u001b[39m│    %267 = (Base.and_int)(%264, %266)\u001b[36m::Bool\u001b[39m\n",
      "\u001b[90m\u001b[56G││   \u001b[1G\u001b[39m\u001b[90m   \u001b[39m└───        goto #21 if not %267\n",
      "\u001b[90m\u001b[56G││╻    getindex\u001b[1G\u001b[39m\u001b[90m   \u001b[39m20 ─ %269 = (Base.arrayref)(false, targets, %17)\u001b[36m::ParticleConcrete\u001b[39m\n",
      "\u001b[90m\u001b[56G││╻    +\u001b[1G\u001b[39m\u001b[90m   \u001b[39m│    %270 = (Base.add_int)(%17, 1)\u001b[36m::Int64\u001b[39m\n",
      "\u001b[90m\u001b[56G││   \u001b[1G\u001b[39m\u001b[90m   \u001b[39m└───        goto #22\n",
      "\u001b[90m\u001b[56G││   \u001b[1G\u001b[39m\u001b[90m   \u001b[39m21 ─        goto #22\n",
      "\u001b[90m\u001b[56G│    \u001b[1G\u001b[39m\u001b[90m   \u001b[39m22 ┄ %273 = φ (#20 => %269)\u001b[36m::ParticleConcrete\u001b[39m\n",
      "\u001b[90m\u001b[56G│    \u001b[1G\u001b[39m\u001b[90m   \u001b[39m│    %274 = φ (#20 => %270)\u001b[36m::Int64\u001b[39m\n",
      "\u001b[90m\u001b[56G│    \u001b[1G\u001b[39m\u001b[90m   \u001b[39m│    %275 = φ (#20 => false, #21 => true)\u001b[36m::Bool\u001b[39m\n",
      "\u001b[90m\u001b[56G│    \u001b[1G\u001b[39m\u001b[90m   \u001b[39m│    %276 = (Base.not_int)(%275)\u001b[36m::Bool\u001b[39m\n",
      "\u001b[90m\u001b[56G│    \u001b[1G\u001b[39m\u001b[90m   \u001b[39m└───        goto #24 if not %276\n",
      "\u001b[90m\u001b[56G│    \u001b[1G\u001b[39m\u001b[90m   \u001b[39m23 ─        goto #6\n",
      "\u001b[90m\u001b[56G│    \u001b[1G\u001b[39m\u001b[90m   \u001b[39m24 ─        return\n"
     ]
    }
   ],
   "source": [
    "@code_warntype P2P_reducesqrt(particlesC, particlesC, g_dgdr_wnklmns)"
   ]
  },
  {
   "cell_type": "markdown",
   "metadata": {
    "heading_collapsed": true
   },
   "source": [
    "### @trace"
   ]
  },
  {
   "cell_type": "markdown",
   "metadata": {
    "hidden": true
   },
   "source": [
    "https://github.com/MikeInnes/Traceur.jl\n",
    "> Traceur is essentially a codified version of the Julia performance tips. You run your code, it tells you about any obvious performance traps."
   ]
  },
  {
   "cell_type": "code",
   "execution_count": 39,
   "metadata": {
    "collapsed": true,
    "hidden": true
   },
   "outputs": [],
   "source": [
    "using Traceur\n",
    "\n",
    "# @trace P2P_reducesqrt(particlesC, particlesC, g_dgdr_wnklmns)\n",
    "# @trace P2P_FINAL(particlesC, particlesC, g_dgdr_wnklmns)"
   ]
  },
  {
   "cell_type": "markdown",
   "metadata": {
    "hidden": true
   },
   "source": [
    "I have tried running this before, but it never finishes, hence I decided to comented it out."
   ]
  },
  {
   "cell_type": "markdown",
   "metadata": {
    "hideCode": false,
    "hidePrompt": false
   },
   "source": [
    "## FINAL"
   ]
  },
  {
   "cell_type": "code",
   "execution_count": 40,
   "metadata": {
    "hideCode": false,
    "hidePrompt": false
   },
   "outputs": [
    {
     "data": {
      "text/plain": [
       "P2P_FINAL (generic function with 1 method)"
      ]
     },
     "execution_count": 40,
     "metadata": {},
     "output_type": "execute_result"
    }
   ],
   "source": [
    "function g_dgdr_wnklmns(r)\n",
    "  aux0 = (r^2 + 1)^2.5\n",
    "  \n",
    "  # Returns g, dgdr\n",
    "  return r^3 * (r^2 + 2.5) / aux0, 7.5 * r^2 / (aux0*(r^2 + 1))\n",
    "end\n",
    "\n",
    "function P2P_FINAL(sources::Array{ParticleConcrete},\n",
    "                             targets::Array{ParticleConcrete},\n",
    "                             g_dgdr::Function)\n",
    "\n",
    "  for Pi in targets\n",
    "    for Pj in sources\n",
    "      \n",
    "      dX1 = Pi.X[1] - Pj.X[1]\n",
    "      dX2 = Pi.X[2] - Pj.X[2]\n",
    "      dX3 = Pi.X[3] - Pj.X[3]\n",
    "      r = sqrt(dX1*dX1 + dX2*dX2 + dX3*dX3) + EPS\n",
    "\n",
    "      # Regularizing function and deriv\n",
    "      gsgm, dgsgmdr = g_dgdr(r/Pj.sigma)\n",
    "\n",
    "      # K × Γp\n",
    "      crss1 = -const4 / r^3 * ( dX2*Pj.Gamma[3] - dX3*Pj.Gamma[2] )\n",
    "      crss2 = -const4 / r^3 * ( dX3*Pj.Gamma[1] - dX1*Pj.Gamma[3] )\n",
    "      crss3 = -const4 / r^3 * ( dX1*Pj.Gamma[2] - dX2*Pj.Gamma[1] )\n",
    "\n",
    "      # U = ∑g_σ(x-xp) * K(x-xp) × Γp\n",
    "      Pi.U[1] += gsgm * crss1\n",
    "      Pi.U[2] += gsgm * crss2\n",
    "      Pi.U[3] += gsgm * crss3\n",
    "\n",
    "      # ∂u∂xj(x) = ∑[ ∂gσ∂xj(x−xp) * K(x−xp)×Γp + gσ(x−xp) * ∂K∂xj(x−xp)×Γp ]\n",
    "      aux = dgsgmdr/(Pj.sigma*r)* - 3*gsgm /r^2\n",
    "      # j=1\n",
    "      Pi.J[1, 1] += aux * crss1 * dX1\n",
    "      Pi.J[2, 1] += aux * crss2 * dX1\n",
    "      Pi.J[3, 1] += aux * crss3 * dX1\n",
    "      # j=2\n",
    "      Pi.J[1, 2] += aux * crss1 * dX2\n",
    "      Pi.J[2, 2] += aux * crss2 * dX2\n",
    "      Pi.J[3, 2] += aux * crss3 * dX2\n",
    "      # j=3\n",
    "      Pi.J[1, 3] += aux * crss1 * dX3\n",
    "      Pi.J[2, 3] += aux * crss2 * dX3\n",
    "      Pi.J[3, 3] += aux * crss3 * dX3\n",
    "\n",
    "      # Adds the Kronecker delta term\n",
    "      aux = - const4 * gsgm / r^3\n",
    "      # j=1\n",
    "      Pi.J[2, 1] -= aux * Pj.Gamma[3]\n",
    "      Pi.J[3, 1] += aux * Pj.Gamma[2]\n",
    "      # j=2\n",
    "      Pi.J[1, 2] += aux * Pj.Gamma[3]\n",
    "      Pi.J[3, 2] -= aux * Pj.Gamma[1]\n",
    "      # j=3\n",
    "      Pi.J[1, 3] -= aux * Pj.Gamma[2]\n",
    "      Pi.J[2, 3] += aux * Pj.Gamma[1]\n",
    "\n",
    "    end\n",
    "  end\n",
    "end"
   ]
  },
  {
   "cell_type": "code",
   "execution_count": 43,
   "metadata": {
    "hideCode": false,
    "hidePrompt": false,
    "scrolled": true
   },
   "outputs": [
    {
     "name": "stdout",
     "output_type": "stream",
     "text": [
      "P2P_FINAL            is 49.88 times faster than          P2P_general (1.349ms vs 67.297ms)\n",
      "C++                  is  2.31 times faster than            P2P_FINAL (0.584ms vs 1.349ms)\n"
     ]
    },
    {
     "data": {
      "text/plain": [
       "BenchmarkTools.Trial: \n",
       "  memory estimate:  0 bytes\n",
       "  allocs estimate:  0\n",
       "  --------------\n",
       "  minimum time:     1.349 ms (0.00% GC)\n",
       "  median time:      1.527 ms (0.00% GC)\n",
       "  mean time:        1.600 ms (0.00% GC)\n",
       "  maximum time:     2.744 ms (0.00% GC)\n",
       "  --------------\n",
       "  samples:          3114\n",
       "  evals/sample:     1"
      ]
     },
     "execution_count": 43,
     "metadata": {},
     "output_type": "execute_result"
    }
   ],
   "source": [
    "this_fun = P2P_FINAL\n",
    "args = (particlesC, particlesC, g_dgdr_wnklmns)\n",
    "\n",
    "compare(this_fun, P2P_general, args; reverse=true)\n",
    "compare(this_fun, \"C++\", args)\n",
    "\n",
    "@benchmark this_fun(args...)"
   ]
  },
  {
   "cell_type": "markdown",
   "metadata": {},
   "source": [
    "In conclusion, after all the speed up, C++ is still 2.3x faster than Julia; but be not discouraged, we are talking about a dynamic language that is **only 0.4x slower than C++**! =]"
   ]
  },
  {
   "cell_type": "markdown",
   "metadata": {},
   "source": [
    "**NOTE:** In a subsequent test I commented out the two power operations (`r = sqrt(...)` and `gsgm, dgsgmdr = g_dgdr(r/Pj.sigma)`) and the resulting wall-clock time went down from 1.35ms to 0.185ms, meaning that at this stage the overhead is on non-algebraic operations and that the function could further be optimized by finding a more efficient way of calculation powers in Julia."
   ]
  },
  {
   "cell_type": "markdown",
   "metadata": {
    "heading_collapsed": true
   },
   "source": [
    "## Discussion"
   ]
  },
  {
   "cell_type": "markdown",
   "metadata": {
    "hidden": true
   },
   "source": [
    "Finally, let's take a second to compare where we started and where we ended. Our initial Julia function was very compact and understandable, however it was more than 100x slower than its C++ version:\n",
    "\n",
    "```julia\n",
    "g_wnklmns(r) = r^3 * (r^2 + 2.5) / (r^2 + 1)^2.5\n",
    "dgdr_wnklmns(r) = 7.5 * r^2 / (r^2 + 1)^3.5\n",
    "\n",
    "function P2P_general(sources::Array{ParticleAmbiguous},\n",
    "                     targets::Array{ParticleAmbiguous}, \n",
    "                     g::Function, dgdr::Function)\n",
    "\n",
    "  for Pi in targets \n",
    "    for Pj in sources    \n",
    "            \n",
    "      dX = Pi.X - Pj.X\n",
    "      r = norm(dX) + EPS\n",
    "            \n",
    "      # Regularizing function and deriv\n",
    "      gsgm = g(r/Pj.sigma)\n",
    "      dgsgmdr = dgdr(r/Pj.sigma)  \n",
    "            \n",
    "      # K × Γp\n",
    "      crss = cross(-const4 * dX / r^3, Pj.Gamma) \n",
    "\n",
    "      # U = ∑g_σ(x-xp) * K(x-xp) × Γp\n",
    "      Pi.U[:] += gsgm * crss\n",
    "\n",
    "      # ∂u∂xj(x) = ∑[ ∂gσ∂xj(x−xp) * K(x−xp)×Γp + gσ(x−xp) * ∂K∂xj(x−xp)×Γp ]\n",
    "      for j in 1:3\n",
    "        Pi.J[:, j] += ( dX[j]/(Pj.sigma*r)*dgsgmdr * crss -\n",
    "                                  gsgm * 3*dX[j]/r^2*crss -\n",
    "                                  gsgm * const4/r^3 * \n",
    "                                  cross([i==j for i in 1:3], Pj.Gamma) )\n",
    "      end\n",
    "\n",
    "    end\n",
    "  end\n",
    "end\n",
    "```\n",
    "```\n",
    "C++                  is 115.16 times faster than          P2P_general (0.584ms vs 67.297ms)\n",
    "Out[9]:\n",
    "BenchmarkTools.Trial: \n",
    "  memory estimate:  69.86 MiB\n",
    "  allocs estimate:  1437500\n",
    "  --------------\n",
    "  minimum time:     66.281 ms (4.12% GC)\n",
    "  median time:      69.037 ms (4.52% GC)\n",
    "  mean time:        71.489 ms (5.60% GC)\n",
    "  maximum time:     126.785 ms (37.55% GC)\n",
    "  --------------\n",
    "  samples:          70\n",
    "  evals/sample:     1\n",
    "```"
   ]
  },
  {
   "cell_type": "markdown",
   "metadata": {
    "hidden": true
   },
   "source": [
    "After all the optimization we end up with about twice the amount of lines, but 50x times faster that the original version and only 2.3x slower than C++:\n",
    "\n",
    "```julia\n",
    "function g_dgdr_wnklmns(r)\n",
    "  aux0 = (r^2 + 1)^2.5\n",
    "  \n",
    "  # Returns g, dgdr\n",
    "  return r^3 * (r^2 + 2.5) / aux0, 7.5 * r^2 / (aux0*(r^2 + 1))\n",
    "end\n",
    "\n",
    "function P2P_FINAL(sources::Array{ParticleConcrete},\n",
    "                             targets::Array{ParticleConcrete},\n",
    "                             g_dgdr::Function)\n",
    "\n",
    "  for Pi in targets\n",
    "    for Pj in sources\n",
    "      \n",
    "      dX1 = Pi.X[1] - Pj.X[1]\n",
    "      dX2 = Pi.X[2] - Pj.X[2]\n",
    "      dX3 = Pi.X[3] - Pj.X[3]\n",
    "      r = sqrt(dX1*dX1 + dX2*dX2 + dX3*dX3) + EPS\n",
    "\n",
    "      # Regularizing function and deriv\n",
    "      gsgm, dgsgmdr = g_dgdr(r/Pj.sigma)\n",
    "\n",
    "      # K × Γp\n",
    "      crss1 = -const4 / r^3 * ( dX2*Pj.Gamma[3] - dX3*Pj.Gamma[2] )\n",
    "      crss2 = -const4 / r^3 * ( dX3*Pj.Gamma[1] - dX1*Pj.Gamma[3] )\n",
    "      crss3 = -const4 / r^3 * ( dX1*Pj.Gamma[2] - dX2*Pj.Gamma[1] )\n",
    "\n",
    "      # U = ∑g_σ(x-xp) * K(x-xp) × Γp\n",
    "      Pi.U[1] += gsgm * crss1\n",
    "      Pi.U[2] += gsgm * crss2\n",
    "      Pi.U[3] += gsgm * crss3\n",
    "\n",
    "      # ∂u∂xj(x) = ∑[ ∂gσ∂xj(x−xp) * K(x−xp)×Γp + gσ(x−xp) * ∂K∂xj(x−xp)×Γp ]\n",
    "      aux = dgsgmdr/(Pj.sigma*r)* - 3*gsgm /r^2\n",
    "      # j=1\n",
    "      Pi.J[1, 1] += aux * crss1 * dX1\n",
    "      Pi.J[2, 1] += aux * crss2 * dX1\n",
    "      Pi.J[3, 1] += aux * crss3 * dX1\n",
    "      # j=2\n",
    "      Pi.J[1, 2] += aux * crss1 * dX2\n",
    "      Pi.J[2, 2] += aux * crss2 * dX2\n",
    "      Pi.J[3, 2] += aux * crss3 * dX2\n",
    "      # j=3\n",
    "      Pi.J[1, 3] += aux * crss1 * dX3\n",
    "      Pi.J[2, 3] += aux * crss2 * dX3\n",
    "      Pi.J[3, 3] += aux * crss3 * dX3\n",
    "\n",
    "      # Adds the Kronecker delta term\n",
    "      aux = - const4 * gsgm / r^3\n",
    "      # j=1\n",
    "      Pi.J[2, 1] -= aux * Pj.Gamma[3]\n",
    "      Pi.J[3, 1] += aux * Pj.Gamma[2]\n",
    "      # j=2\n",
    "      Pi.J[1, 2] += aux * Pj.Gamma[3]\n",
    "      Pi.J[3, 2] -= aux * Pj.Gamma[1]\n",
    "      # j=3\n",
    "      Pi.J[1, 3] -= aux * Pj.Gamma[2]\n",
    "      Pi.J[2, 3] += aux * Pj.Gamma[1]\n",
    "\n",
    "    end\n",
    "  end\n",
    "end\n",
    "```\n",
    "```\n",
    "P2P_FINAL            is 49.88 times faster than          P2P_general (1.349ms vs 67.297ms)\n",
    "C++                  is  2.31 times faster than            P2P_FINAL (0.584ms vs 1.349ms)\n",
    "Out[43]:\n",
    "BenchmarkTools.Trial: \n",
    "  memory estimate:  0 bytes\n",
    "  allocs estimate:  0\n",
    "  --------------\n",
    "  minimum time:     1.349 ms (0.00% GC)\n",
    "  median time:      1.527 ms (0.00% GC)\n",
    "  mean time:        1.600 ms (0.00% GC)\n",
    "  maximum time:     2.744 ms (0.00% GC)\n",
    "  --------------\n",
    "  samples:          3114\n",
    "  evals/sample:     1\n",
    "```"
   ]
  },
  {
   "cell_type": "markdown",
   "metadata": {
    "hidden": true
   },
   "source": [
    "Oddly enough, through the optimization process we naturally morphed the code into something that looks very similar to the C++ version:\n",
    "\n",
    "```c++\n",
    "void P2P(Cell * Ci, Cell * Cj) {\n",
    "  real_t const4 = 1/(4*M_PI);\n",
    "  Particle * Pi = Ci->particle;\n",
    "  Particle * Pj = Cj->particle;\n",
    "\n",
    "  for (int i=0; i<Ci->numParticles; i++) {\n",
    "    vec3 U = 0;\n",
    "    vec9 J = 0;\n",
    "    \n",
    "    for (int j=0; j<Cj->numParticles; j++) {\n",
    "      vec3 dX = Pi[i].X - Pj[j].X;\n",
    "      real_t r = std::pow(dX[0]*dX[0] + dX[1]*dX[1] + dX[2]*dX[2], 0.5) + EPS;\n",
    "      real_t ros = r/Pj[j].sigma;\n",
    "\n",
    "      // u(x) = ∑g_σ(x−xp) K(x−xp) × Γp\n",
    "      real_t aux0 = std::pow(ros*ros + 1.0, 2.5);\n",
    "      real_t g_sgm = ros*ros*ros * (ros*ros + 2.5) / aux0;\n",
    "      real_t dgdr = 7.5 * ros*ros / ( aux0 * (ros*ros + 1.0) );\n",
    "      real_t aux = (- const4 / r*r*r) * g_sgm;\n",
    "      U[0] += ( dX[1]*Pj[j].q[2] - dX[2]*Pj[j].q[1] ) * aux;\n",
    "      U[1] += ( dX[2]*Pj[j].q[0] - dX[0]*Pj[j].q[2] ) * aux;\n",
    "      U[2] += ( dX[0]*Pj[j].q[1] - dX[1]*Pj[j].q[0] ) * aux;\n",
    "\n",
    "      // ∂u∂xj(x) = ∑[ ∂gσ∂xj(x−xp) * K(x−xp)×Γp + gσ(x−xp) * ∂K∂xj(x−xp)×Γp ]\n",
    "      aux = (- const4 / r*r*r) * (dgdr/(Pj[j].sigma*r) - 3.0*g_sgm/r*r);\n",
    "      for (int k=0; k<3; k++){\n",
    "        J[0 + k] += ( dX[1]*Pj[j].q[2] - dX[2]*Pj[j].q[1] )* aux*dX[k];\n",
    "        J[3 + k] += ( dX[2]*Pj[j].q[0] - dX[0]*Pj[j].q[2] )* aux*dX[k];\n",
    "        J[6 + k] += ( dX[0]*Pj[j].q[1] - dX[1]*Pj[j].q[0] )* aux*dX[k];\n",
    "      }\n",
    "\n",
    "      // Adds the Kronecker delta term\n",
    "      aux = - const4 * g_sgm / r*r*r;\n",
    "      // k=1\n",
    "      J[3 + 0] -= aux * Pj[j].q[2];\n",
    "      J[6 + 0] += aux * Pj[j].q[1];\n",
    "      // k=2\n",
    "      J[0 + 1] += aux * Pj[j].q[2];\n",
    "      J[6 + 1] -= aux * Pj[j].q[0];\n",
    "      // k=3\n",
    "      J[0 + 2] -= aux * Pj[j].q[1];\n",
    "      J[3 + 2] += aux * Pj[j].q[0];\n",
    "    }\n",
    "\n",
    "    Pi[i].p += U;\n",
    "    Pi[i].J += J;\n",
    "  }\n",
    "}\n",
    "```"
   ]
  },
  {
   "cell_type": "markdown",
   "metadata": {
    "hidden": true
   },
   "source": [
    "Hence, If you are trying to get a computation-efficient piece of code, my recommendation is to **forget about elegant and line-efficient coding (\"pythonic\" some would say), and code in C++-esque style from the beginning**."
   ]
  },
  {
   "cell_type": "markdown",
   "metadata": {
    "heading_collapsed": true
   },
   "source": [
    "## Conclusions"
   ]
  },
  {
   "cell_type": "markdown",
   "metadata": {
    "hidden": true
   },
   "source": [
    "* Without foreknowledge of the types to be handled in an operation, Julia can't optimize the function during compilation. There is no problem with ambiguous types in function definitions since the JIT will compile a well-defined version of the function based on the arguments that is given on the fly, but this is not the case for structs. **Always define your structs with its [properties explicitely specified as concrete types](https://docs.julialang.org/en/v1/manual/performance-tips/index.html#Type-declarations-1)**.\n",
    "\n",
    "\n",
    "* [`@code_warntype`](https://docs.julialang.org/en/v1/manual/performance-tips/index.html#man-code-warntype-1) is your best friend when trying to optimize your computation.\n",
    "\n",
    "\n",
    "* The first thing to look at after making sure that all your types are well defined as concrete types, is **memory allocation**. If your function is allocating an insane amount of memory, that's an indication that you are saving yourself some lines of code in sacrifice of doing some efficient computation (*e.g.,* inline list-comprehension operations or array algebra instead of unrolling the operations into explicit code). I recommend using [`@time`](https://docs.julialang.org/en/v1/manual/performance-tips/index.html#Measure-performance-with-[@time](@ref)-and-pay-attention-to-memory-allocation-1) or [`@benchmark` (from BenchmarkTools.jl)](https://github.com/JuliaCI/BenchmarkTools.jl/blob/master/doc/manual.md) to check memory allocation. \n",
    "\n",
    "\n",
    "* **Avoid storing intermediate calculations in any kind of internal arrays, just use Float variables**. For some reason Julia spends a lot of time trying to allocate space for internal arrays.\n",
    "\n",
    "\n",
    "* Any **non-integer power operations (`^` or `sqrt`) are very expensive** in Julia. If possible, reduce these operations by storing in memory the calculations and reusing them.\n",
    "\n",
    "\n",
    "* At all cost, **avoid using LinearAlgebra functions** (like `dot`, `cross`, `norm`) as they will require allocating memory for internal arrays.\n",
    "\n",
    "\n",
    "* Use [`@inbounds`](https://docs.julialang.org/en/v1/base/base/#Base.@inbounds) whenever accessing/writting an array of which you know its dimensions a priori.\n",
    "\n",
    "\n",
    "* [`@simd`](https://docs.julialang.org/en/v1/base/base/#Base.SimdLoop.@simd) and [`@fastmath`](https://docs.julialang.org/en/v1/base/math/#Base.FastMath.@fastmath) may actually slow down the performance when not needed.\n",
    "\n",
    "\n",
    "* If you are trying to get a computation-efficient piece of code, my recommendation is to **forget about elegant and line-efficient coding (\"pythonic\" some would say), and code in C++-esque style from the beginning**."
   ]
  }
 ],
 "metadata": {
  "hide_code_all_hidden": false,
  "hide_input": false,
  "kernelspec": {
   "display_name": "Julia 0.7.0",
   "language": "julia",
   "name": "julia-0.7"
  },
  "language_info": {
   "file_extension": ".jl",
   "mimetype": "application/julia",
   "name": "julia",
   "version": "0.7.0"
  }
 },
 "nbformat": 4,
 "nbformat_minor": 2
}
